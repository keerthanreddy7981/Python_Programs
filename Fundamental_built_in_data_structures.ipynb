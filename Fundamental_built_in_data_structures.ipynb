{
  "nbformat": 4,
  "nbformat_minor": 0,
  "metadata": {
    "colab": {
      "provenance": []
    },
    "kernelspec": {
      "name": "python3",
      "display_name": "Python 3"
    },
    "language_info": {
      "name": "python"
    }
  },
  "cells": [
    {
      "cell_type": "code",
      "execution_count": null,
      "metadata": {
        "colab": {
          "base_uri": "https://localhost:8080/"
        },
        "id": "KxGFCi0zROao",
        "outputId": "6682d047-8cd8-4184-eaca-b614668fc434"
      },
      "outputs": [
        {
          "output_type": "stream",
          "name": "stdout",
          "text": [
            "18\n",
            "*********python programming********\n"
          ]
        }
      ],
      "source": [
        " course = \"python programming\"\n",
        "print(len(course))\n",
        "new_string=course.center(35,\"*\")\n",
        "print(new_string)"
      ]
    },
    {
      "source": [
        "course = \"python programing\"\n",
        "print(course.startswith(\"py\"))\n",
        "print(course.endswith('ing')) # Changed 'endwith' to 'endswith'\n",
        "print(course.endswith('G'))\n",
        "print(course.endswith('g',6,11))"
      ],
      "cell_type": "code",
      "metadata": {
        "colab": {
          "base_uri": "https://localhost:8080/"
        },
        "id": "n9YRBRGZh14p",
        "outputId": "473d36d7-e7fa-42bd-f715-17d70056e17c"
      },
      "execution_count": null,
      "outputs": [
        {
          "output_type": "stream",
          "name": "stdout",
          "text": [
            "True\n",
            "True\n",
            "False\n",
            "True\n"
          ]
        }
      ]
    },
    {
      "cell_type": "code",
      "source": [
        "a= \"yeshu\"\n",
        "print(a.endswith('u'))"
      ],
      "metadata": {
        "colab": {
          "base_uri": "https://localhost:8080/"
        },
        "id": "o8V8ur9FiNRX",
        "outputId": "a8270e28-2cbc-4d69-bb93-088da45086bf"
      },
      "execution_count": null,
      "outputs": [
        {
          "output_type": "stream",
          "name": "stdout",
          "text": [
            "True\n"
          ]
        }
      ]
    },
    {
      "cell_type": "code",
      "source": [
        "b= \"worst\"\n",
        "print(a.endswith('t'))"
      ],
      "metadata": {
        "colab": {
          "base_uri": "https://localhost:8080/"
        },
        "id": "X0X6IAC0kBeg",
        "outputId": "bb59cfe5-4085-440f-f626-100bb52073a8"
      },
      "execution_count": null,
      "outputs": [
        {
          "output_type": "stream",
          "name": "stdout",
          "text": [
            "False\n"
          ]
        }
      ]
    },
    {
      "cell_type": "code",
      "source": [
        "str1 = \"1456\"\n",
        "print(str1.isnumeric())"
      ],
      "metadata": {
        "colab": {
          "base_uri": "https://localhost:8080/"
        },
        "id": "dkxoXzFUGonG",
        "outputId": "f035e5a8-a8e0-4a65-864e-828412cece08"
      },
      "execution_count": null,
      "outputs": [
        {
          "output_type": "stream",
          "name": "stdout",
          "text": [
            "True\n"
          ]
        }
      ]
    },
    {
      "cell_type": "code",
      "source": [
        "str2 = \"1234\"\n",
        "print(str2.isnumeric())"
      ],
      "metadata": {
        "colab": {
          "base_uri": "https://localhost:8080/"
        },
        "id": "GvgT-h1EHRAT",
        "outputId": "cc79c9c8-0837-47cd-8036-7c8212f8e97c"
      },
      "execution_count": null,
      "outputs": [
        {
          "output_type": "stream",
          "name": "stdout",
          "text": [
            "True\n"
          ]
        }
      ]
    },
    {
      "cell_type": "code",
      "source": [
        "str3 = \"john henry\"\n",
        "print(str3.isalpha()) # false - because"
      ],
      "metadata": {
        "colab": {
          "base_uri": "https://localhost:8080/"
        },
        "id": "F5rLKRf0Hha0",
        "outputId": "5e205c8f-ba1c-4461-d598-2de747189480"
      },
      "execution_count": null,
      "outputs": [
        {
          "output_type": "stream",
          "name": "stdout",
          "text": [
            "False\n"
          ]
        }
      ]
    },
    {
      "cell_type": "code",
      "source": [
        "name = \"john\"\n",
        "print(name.isnumeric())"
      ],
      "metadata": {
        "colab": {
          "base_uri": "https://localhost:8080/"
        },
        "id": "L6DvHO2gIDSc",
        "outputId": "4935b08e-ceaa-4aab-f848-042f40c6ce51"
      },
      "execution_count": null,
      "outputs": [
        {
          "output_type": "stream",
          "name": "stdout",
          "text": [
            "False\n"
          ]
        }
      ]
    },
    {
      "cell_type": "markdown",
      "source": [
        "mom and daughter went to mall to do shoping mom did one plan to minimal shoping by saying daughter  to check each and every shops name board and ask her to find name board is palendrome or not."
      ],
      "metadata": {
        "id": "yryAKYXWJt6d"
      }
    },
    {
      "cell_type": "code",
      "source": [
        "s1= \"race\"\n",
        "if s1==s1[::-1]:\n",
        "  print(\"palindrome\")\n",
        "else:\n",
        "  print(\"not a palindromr\")"
      ],
      "metadata": {
        "colab": {
          "base_uri": "https://localhost:8080/"
        },
        "id": "SbKJ7z98K0uR",
        "outputId": "b0521c44-d691-4cfc-dbc5-7a5ae1b166fa"
      },
      "execution_count": null,
      "outputs": [
        {
          "output_type": "stream",
          "name": "stdout",
          "text": [
            "not a palindromr\n"
          ]
        }
      ]
    },
    {
      "cell_type": "code",
      "source": [
        "s1=input(\"\")\n",
        "if s1==s1[::-1]:\n",
        "  print(\"palindrome\")\n",
        "else:\n",
        "  print(\"not a palindrome\")"
      ],
      "metadata": {
        "colab": {
          "base_uri": "https://localhost:8080/"
        },
        "id": "exLnW17_MwSa",
        "outputId": "40afb85e-73cd-47b6-df92-16ab9bf11dc4"
      },
      "execution_count": null,
      "outputs": [
        {
          "output_type": "stream",
          "name": "stdout",
          "text": [
            "143\n",
            "not a palindrome\n"
          ]
        }
      ]
    },
    {
      "cell_type": "code",
      "source": [
        "L = ['math','chem', 19,20]\n",
        "L.append(20544)\n",
        "print(L)"
      ],
      "metadata": {
        "colab": {
          "base_uri": "https://localhost:8080/"
        },
        "id": "enDm3LoESpz_",
        "outputId": "76084666-2ed6-4f27-a0cc-78714d54db8b"
      },
      "execution_count": null,
      "outputs": [
        {
          "output_type": "stream",
          "name": "stdout",
          "text": [
            "['math', 'chem', 19, 20, 20544]\n"
          ]
        }
      ]
    },
    {
      "cell_type": "code",
      "source": [
        "a=[1,2,3]\n",
        "a.clear()\n",
        "print(a)"
      ],
      "metadata": {
        "colab": {
          "base_uri": "https://localhost:8080/"
        },
        "id": "X6taZ-poYhpe",
        "outputId": "d3eecfa9-c751-4726-d43a-80d69f473406"
      },
      "execution_count": null,
      "outputs": [
        {
          "output_type": "stream",
          "name": "stdout",
          "text": [
            "[]\n"
          ]
        }
      ]
    },
    {
      "cell_type": "code",
      "source": [
        "b=[\"cat\",\"dog\",\"horse\"]\n",
        "print(b.index(\"horse\"))\n",
        "\n"
      ],
      "metadata": {
        "colab": {
          "base_uri": "https://localhost:8080/"
        },
        "id": "zzvJXhrqY9Yk",
        "outputId": "9bbc4c89-3cab-42c7-8998-342e2e4a0ab9"
      },
      "execution_count": null,
      "outputs": [
        {
          "output_type": "stream",
          "name": "stdout",
          "text": [
            "2\n"
          ]
        }
      ]
    },
    {
      "cell_type": "code",
      "source": [
        "z=[\"apple\",\"banana\",\"mango\"]\n",
        "z.pop()\n",
        "print(z)"
      ],
      "metadata": {
        "colab": {
          "base_uri": "https://localhost:8080/"
        },
        "id": "4wUtfgeiZ-GB",
        "outputId": "1eb23304-cf0a-4092-eea5-9fffe0f4aad4"
      },
      "execution_count": null,
      "outputs": [
        {
          "output_type": "stream",
          "name": "stdout",
          "text": [
            "['apple', 'banana']\n"
          ]
        }
      ]
    },
    {
      "cell_type": "code",
      "source": [
        "y=[\"a\",\"b\",\"c\"]\n",
        "y.reverse()\n",
        "print(y)"
      ],
      "metadata": {
        "colab": {
          "base_uri": "https://localhost:8080/"
        },
        "id": "f1sJoZjfaj4Q",
        "outputId": "c054fa4d-2dcc-4aa9-d3c8-cb376e046564"
      },
      "execution_count": null,
      "outputs": [
        {
          "output_type": "stream",
          "name": "stdout",
          "text": [
            "['c', 'b', 'a']\n"
          ]
        }
      ]
    },
    {
      "cell_type": "code",
      "source": [
        "s=[1,2,3,4]\n",
        "s.reverse()\n",
        "print(s)"
      ],
      "metadata": {
        "colab": {
          "base_uri": "https://localhost:8080/"
        },
        "id": "VUreO-1ja-W3",
        "outputId": "6edc1d18-15a5-4a6d-fe8f-5d1ad36521ad"
      },
      "execution_count": null,
      "outputs": [
        {
          "output_type": "stream",
          "name": "stdout",
          "text": [
            "[4, 3, 2, 1]\n"
          ]
        }
      ]
    },
    {
      "source": [
        "num = [1, 3, 4, 2]  # Assign a list to the variable num\n",
        "num.sort()\n",
        "print(num)"
      ],
      "cell_type": "code",
      "metadata": {
        "colab": {
          "base_uri": "https://localhost:8080/"
        },
        "id": "a4WgnwuZ3Hm6",
        "outputId": "36cfe915-bd54-45a1-e2bf-fe70a47ca2fb"
      },
      "execution_count": null,
      "outputs": [
        {
          "output_type": "stream",
          "name": "stdout",
          "text": [
            "[1, 2, 3, 4]\n"
          ]
        }
      ]
    },
    {
      "cell_type": "markdown",
      "source": [
        "write python program to create a list read the element in the user insult it into list and display"
      ],
      "metadata": {
        "id": "7Mn8VRZ22xq1"
      }
    },
    {
      "cell_type": "code",
      "source": [
        "i = []\n",
        "n = int(input(\"enter the size\"))\n",
        "for _ in range(n):\n",
        "  else_num = int(input(\"enter the number\"))\n",
        "  i.append(else_num)\n",
        "print(i)\n",
        "  else=int (input(\"enter the number\"))\n",
        "  i.append (else)\n",
        "  print([i])"
      ],
      "metadata": {
        "colab": {
          "base_uri": "https://localhost:8080/",
          "height": 106
        },
        "id": "qt-XgJZh3ZvW",
        "outputId": "7cc58d2a-4b37-43f4-fde8-4278a6d0e6e4"
      },
      "execution_count": null,
      "outputs": [
        {
          "output_type": "error",
          "ename": "IndentationError",
          "evalue": "unexpected indent (<ipython-input-8-db8dfc48921a>, line 7)",
          "traceback": [
            "\u001b[0;36m  File \u001b[0;32m\"<ipython-input-8-db8dfc48921a>\"\u001b[0;36m, line \u001b[0;32m7\u001b[0m\n\u001b[0;31m    else=int (input(\"enter the number\"))\u001b[0m\n\u001b[0m    ^\u001b[0m\n\u001b[0;31mIndentationError\u001b[0m\u001b[0;31m:\u001b[0m unexpected indent\n"
          ]
        }
      ]
    },
    {
      "cell_type": "code",
      "source": [
        "l=[1,2,3]\n",
        "l2=[4,5,6]\n",
        "l=l+l2\n",
        "print(l,l2)\n",
        "print(l*3)"
      ],
      "metadata": {
        "colab": {
          "base_uri": "https://localhost:8080/"
        },
        "id": "bgaWkIdX6BU3",
        "outputId": "dfd6bfe3-b4df-478f-d23c-68bcdd2a386b"
      },
      "execution_count": null,
      "outputs": [
        {
          "output_type": "stream",
          "name": "stdout",
          "text": [
            "[1, 2, 3, 4, 5, 6] [4, 5, 6]\n",
            "[1, 2, 3, 4, 5, 6, 1, 2, 3, 4, 5, 6, 1, 2, 3, 4, 5, 6]\n"
          ]
        }
      ]
    },
    {
      "cell_type": "markdown",
      "source": [
        "write a program that creates a list of numbers from 1 to 20 that are either divisible by 2 or 4"
      ],
      "metadata": {
        "id": "05NkZiHg7eZB"
      }
    },
    {
      "cell_type": "code",
      "source": [
        "for i in range(1,20):\n",
        " if (i%2==0  or i%4==0):\n",
        "  print(i)"
      ],
      "metadata": {
        "colab": {
          "base_uri": "https://localhost:8080/"
        },
        "id": "QU6K94J28H_A",
        "outputId": "744ad252-b308-485f-9e39-b0e1981b5084"
      },
      "execution_count": null,
      "outputs": [
        {
          "output_type": "stream",
          "name": "stdout",
          "text": [
            "2\n",
            "4\n",
            "6\n",
            "8\n",
            "10\n",
            "12\n",
            "14\n",
            "16\n",
            "18\n"
          ]
        }
      ]
    },
    {
      "cell_type": "markdown",
      "source": [
        "To check given year is leap year or not"
      ],
      "metadata": {
        "id": "8TsTh1EVEkn8"
      }
    },
    {
      "cell_type": "code",
      "source": [
        "def is_leap_year(year):\n",
        "  if (year % 4 == 0 != 0) or (year % 100 == 0 and year % 400 == 0):\n",
        "    return True\n"
      ],
      "metadata": {
        "id": "OzaeVFTXEyu0"
      },
      "execution_count": null,
      "outputs": []
    },
    {
      "cell_type": "markdown",
      "source": [
        "Revese of given number"
      ],
      "metadata": {
        "id": "5GHWOHK5GjJL"
      }
    },
    {
      "cell_type": "code",
      "source": [
        "# prompt: Reverse of given number\n",
        "\n",
        "def reverse_number(n):\n",
        "  \"\"\"Reverses a given integer.\n",
        "\n",
        "  Args:\n",
        "    n: The integer to be reversed.\n",
        "\n",
        "  Returns:\n",
        "    The reversed integer.\n",
        "  \"\"\"\n",
        "  reversed_n = 0\n",
        "  while n > 0:\n",
        "    remainder = n % 10\n",
        "    reversed_n = (reversed_n * 10) + remainder\n",
        "    n //= 10\n",
        "  return reversed_n\n",
        "\n",
        "# Get input from the user\n",
        "num = int(input(\"Enter a number: \"))\n",
        "\n",
        "# Reverse the number\n",
        "reversed_num = reverse_number(num)\n",
        "\n",
        "# Print the reversed number\n",
        "print(\"Reversed number:\", reversed_num)\n"
      ],
      "metadata": {
        "id": "b58ohV0BHNJN",
        "colab": {
          "base_uri": "https://localhost:8080/"
        },
        "outputId": "7fc00afc-03ec-4c19-9e8e-0d72864468e2"
      },
      "execution_count": null,
      "outputs": [
        {
          "output_type": "stream",
          "name": "stdout",
          "text": [
            "Enter a number: 55\n",
            "Reversed number: 55\n"
          ]
        }
      ]
    },
    {
      "cell_type": "markdown",
      "source": [
        "using a negative index print second positin value using negative index value from second position to fourth position using negative index and print n negative value"
      ],
      "metadata": {
        "id": "lrsBKwDnJbbt"
      }
    },
    {
      "cell_type": "code",
      "source": [
        "t1=(\"1o,20,30,40,50\")\n",
        "print(t1[-2])\n",
        "print(t1[-4])\n",
        "print(t1[-2:-4])\n",
        "print(t1[-2:-4])"
      ],
      "metadata": {
        "colab": {
          "base_uri": "https://localhost:8080/"
        },
        "id": "FEFZSW53LQIq",
        "outputId": "790a0fd4-3ace-4b6c-ff8d-492b820d3829"
      },
      "execution_count": null,
      "outputs": [
        {
          "output_type": "stream",
          "name": "stdout",
          "text": [
            "5\n",
            "0\n",
            "\n",
            "\n"
          ]
        }
      ]
    },
    {
      "cell_type": "code",
      "source": [
        "# create a tuple\n",
        "\n",
        "nested = 1,2,(\"pop\",\"rock\"),(3,4),(\"disco\",(1,2))"
      ],
      "metadata": {
        "id": "RFg-qqZFORpp"
      },
      "execution_count": null,
      "outputs": []
    },
    {
      "cell_type": "code",
      "source": [
        "# create a tuple\n",
        "b=(-5,1,-3)\n",
        "print(sorted(b))"
      ],
      "metadata": {
        "colab": {
          "base_uri": "https://localhost:8080/"
        },
        "id": "3jHBF6OfQuQu",
        "outputId": "f8ec3069-523b-413b-d5c0-839e3e156126"
      },
      "execution_count": null,
      "outputs": [
        {
          "output_type": "stream",
          "name": "stdout",
          "text": [
            "[-5, -3, 1]\n"
          ]
        }
      ]
    },
    {
      "cell_type": "code",
      "source": [
        "from re import T\n",
        "t=(1,2,3)\n",
        "t1=(4,5,6)\n",
        "t1=t\n",
        "print(t)\n",
        "t=t1\n",
        "print(t)\n",
        "print(t1)\n",
        "\n"
      ],
      "metadata": {
        "colab": {
          "base_uri": "https://localhost:8080/"
        },
        "id": "6eYdbkpJXRVs",
        "outputId": "9bed93b0-d41c-44d5-fbb1-450ae0d1875a"
      },
      "execution_count": null,
      "outputs": [
        {
          "output_type": "stream",
          "name": "stdout",
          "text": [
            "(1, 2, 3)\n",
            "(1, 2, 3)\n",
            "(1, 2, 3)\n"
          ]
        }
      ]
    },
    {
      "cell_type": "code",
      "source": [
        "student_id = {112,114,116,115}\n",
        "print(student_id)"
      ],
      "metadata": {
        "colab": {
          "base_uri": "https://localhost:8080/"
        },
        "id": "BPWuBTKHdF4a",
        "outputId": "14fbcce1-72c2-4880-ef2b-62604537351a"
      },
      "execution_count": null,
      "outputs": [
        {
          "output_type": "stream",
          "name": "stdout",
          "text": [
            "{112, 114, 115, 116}\n"
          ]
        }
      ]
    },
    {
      "cell_type": "code",
      "source": [
        "e={}\n",
        "print(type(e))"
      ],
      "metadata": {
        "colab": {
          "base_uri": "https://localhost:8080/"
        },
        "id": "7krnud_KdsjU",
        "outputId": "f38cf9e5-96bc-4b3a-dec0-fae00067c7a0"
      },
      "execution_count": null,
      "outputs": [
        {
          "output_type": "stream",
          "name": "stdout",
          "text": [
            "<class 'dict'>\n"
          ]
        }
      ]
    },
    {
      "cell_type": "code",
      "source": [
        "dict={\"name\":\"niroop\",\"age\": 34}\n",
        "print(dict)"
      ],
      "metadata": {
        "colab": {
          "base_uri": "https://localhost:8080/"
        },
        "id": "koP48PTYaSAX",
        "outputId": "5256e925-158b-4987-9a09-0fc972bbc45a"
      },
      "execution_count": null,
      "outputs": [
        {
          "output_type": "stream",
          "name": "stdout",
          "text": [
            "{'name': 'niroop', 'age': 34}\n"
          ]
        }
      ]
    },
    {
      "cell_type": "code",
      "source": [
        "d={}\n",
        "for i in range(1,21):\n",
        "  if (i%2==0):\n",
        "    d[i]=\"even\"\n",
        "  else:\n",
        "    d[i]=\"odd\"\n",
        "print(d)"
      ],
      "metadata": {
        "id": "McWphW-vdlku",
        "colab": {
          "base_uri": "https://localhost:8080/"
        },
        "outputId": "ba7af5e8-0ca0-4492-c0ff-770d2ac52606"
      },
      "execution_count": null,
      "outputs": [
        {
          "output_type": "stream",
          "name": "stdout",
          "text": [
            "{1: 'odd', 2: 'even', 3: 'odd', 4: 'even', 5: 'odd', 6: 'even', 7: 'odd', 8: 'even', 9: 'odd', 10: 'even', 11: 'odd', 12: 'even', 13: 'odd', 14: 'even', 15: 'odd', 16: 'even', 17: 'odd', 18: 'even', 19: 'odd', 20: 'even'}\n"
          ]
        }
      ]
    },
    {
      "cell_type": "code",
      "source": [
        "d={}\n",
        "a=int(input())\n",
        "for i in range(-10,10):\n",
        "   if a>0:\n",
        "      d[a]='positive'\n",
        "   else:\n",
        "     d[a]='negative'\n",
        "print(d)"
      ],
      "metadata": {
        "id": "zIS-4aDik7wv",
        "colab": {
          "base_uri": "https://localhost:8080/"
        },
        "outputId": "284bbb2b-1f58-480a-e05d-62ad33781009"
      },
      "execution_count": null,
      "outputs": [
        {
          "output_type": "stream",
          "name": "stdout",
          "text": [
            "-11\n",
            "{-11: 'negative'}\n"
          ]
        }
      ]
    },
    {
      "cell_type": "code",
      "source": [
        "n = {1:'one',2:'two',3:'three',4:'four',5:'five'}\n",
        "print(n)"
      ],
      "metadata": {
        "colab": {
          "base_uri": "https://localhost:8080/",
          "height": 106
        },
        "id": "qC2XClwrQhW7",
        "outputId": "ee4f0b38-afb0-4e45-c867-bb0e569764f6"
      },
      "execution_count": null,
      "outputs": [
        {
          "output_type": "error",
          "ename": "SyntaxError",
          "evalue": "invalid syntax (<ipython-input-6-588daa46a147>, line 1)",
          "traceback": [
            "\u001b[0;36m  File \u001b[0;32m\"<ipython-input-6-588daa46a147>\"\u001b[0;36m, line \u001b[0;32m1\u001b[0m\n\u001b[0;31m    n=(1:'one',2:'two',3:'three',4:'four',5:'five')\u001b[0m\n\u001b[0m        ^\u001b[0m\n\u001b[0;31mSyntaxError\u001b[0m\u001b[0;31m:\u001b[0m invalid syntax\n"
          ]
        }
      ]
    },
    {
      "cell_type": "code",
      "source": [
        "marks = {'physics': 67, 'chemistry': 72, 'math': 89}\n",
        "\n",
        "print(marks.values())\n"
      ],
      "metadata": {
        "colab": {
          "base_uri": "https://localhost:8080/"
        },
        "id": "iTtDKUItRSq8",
        "outputId": "6f40bd1a-8b2a-4aad-daa3-d978fb61c44c"
      },
      "execution_count": null,
      "outputs": [
        {
          "output_type": "stream",
          "name": "stdout",
          "text": [
            "dict_values([67, 72, 89])\n"
          ]
        }
      ]
    },
    {
      "cell_type": "code",
      "source": [
        "marks = {'physcis':67,'maths':87}\n",
        "internal_marks = {'practical':48}\n",
        "marks.update(internal_marks)\n",
        "print(marks)\n"
      ],
      "metadata": {
        "colab": {
          "base_uri": "https://localhost:8080/"
        },
        "id": "S4QIhb4WSKlc",
        "outputId": "75ec572c-ae87-4696-9c7a-b05ae75a71b4"
      },
      "execution_count": null,
      "outputs": [
        {
          "output_type": "stream",
          "name": "stdout",
          "text": [
            "{'physcis': 67, 'maths': 87, 'practical': 48}\n"
          ]
        }
      ]
    },
    {
      "cell_type": "markdown",
      "source": [
        "In a given list remove all duplicates and display in the form of list."
      ],
      "metadata": {
        "id": "i163gPYwTgAB"
      }
    },
    {
      "source": [
        "S=set(\"yeswanth\")\n",
        "for i in S: # Changed 's' to 'S'\n",
        "  print(i,end=\"\")"
      ],
      "cell_type": "code",
      "metadata": {
        "colab": {
          "base_uri": "https://localhost:8080/"
        },
        "id": "e1REMoUf3gJh",
        "outputId": "2779d782-79f0-4f2d-8b38-4c0c1b29efb0"
      },
      "execution_count": null,
      "outputs": [
        {
          "output_type": "stream",
          "name": "stdout",
          "text": [
            "sthnayew"
          ]
        }
      ]
    },
    {
      "cell_type": "markdown",
      "source": [
        "In a given list remove all duplicates and display in the form of list."
      ],
      "metadata": {
        "id": "xvHh87LSbIKR"
      }
    },
    {
      "cell_type": "markdown",
      "source": [
        "In a given list remove all duplicates and display in the form of list."
      ],
      "metadata": {
        "id": "PDXMhqLXbGtY"
      }
    },
    {
      "cell_type": "code",
      "source": [
        "people = {\"dict1\": {'name':'joo', 'age': '27', 'gender': 'male'}}\n",
        "print(people)"
      ],
      "metadata": {
        "colab": {
          "base_uri": "https://localhost:8080/"
        },
        "id": "Yevn3xzoVZUR",
        "outputId": "0567d486-d0af-4e4b-ae41-98b040ed3aa6"
      },
      "execution_count": null,
      "outputs": [
        {
          "output_type": "stream",
          "name": "stdout",
          "text": [
            "{'dict1': {'name': 'joo', 'age': '27', 'gender': 'male'}}\n"
          ]
        }
      ]
    },
    {
      "cell_type": "code",
      "source": [
        "people = {\"dict2\": {'name': 'monu', 'age': '22', 'gender': 'female'}}\n",
        "print(people)"
      ],
      "metadata": {
        "colab": {
          "base_uri": "https://localhost:8080/"
        },
        "id": "nkbClghlX76p",
        "outputId": "d173d313-255f-4deb-96de-01ba7e5aecd9"
      },
      "execution_count": null,
      "outputs": [
        {
          "output_type": "stream",
          "name": "stdout",
          "text": [
            "{'dict2': {'name': 'monu', 'age': '22', 'gender': 'female'}}\n"
          ]
        }
      ]
    },
    {
      "cell_type": "code",
      "source": [
        "people={\"dict1\":{\"fname\":\"lol\",\"lastname\":{\"lname\":\"mice\",\"mname\":\"d\"}},\"age\":25}\n",
        "print(people[\"dict1\"][\"lastname\"][\"mname\"])\n",
        "del people[\"dict1\"][\"lastname\"][\"mname\"]\n",
        "print(people)"
      ],
      "metadata": {
        "colab": {
          "base_uri": "https://localhost:8080/"
        },
        "id": "42RnMKbqYuIZ",
        "outputId": "87c6dfb2-09b3-4b10-e2a0-9cf6c67f47db"
      },
      "execution_count": null,
      "outputs": [
        {
          "output_type": "stream",
          "name": "stdout",
          "text": [
            "d\n",
            "{'dict1': {'fname': 'lol', 'lastname': {'lname': 'mice'}}, 'age': 25}\n"
          ]
        }
      ]
    },
    {
      "cell_type": "code",
      "source": [
        "people = {1: {'name': 'john', 'age': 30, 'gender': 'male'}}  # Added age and corrected th\n",
        "\n",
        "for p_id, p_info in people.items():\n",
        "    print(\"\\nperson id:\", p_id)\n",
        "    for key, value in p_info.items():  # Iterate through key-value pairs\n",
        "        print(key + ':', value)"
      ],
      "metadata": {
        "colab": {
          "base_uri": "https://localhost:8080/"
        },
        "id": "zsR30uEwgjAr",
        "outputId": "430f30b1-d52f-427e-81c2-8ebe6e07330f"
      },
      "execution_count": null,
      "outputs": [
        {
          "output_type": "stream",
          "name": "stdout",
          "text": [
            "\n",
            "person id: 1\n",
            "name: john\n",
            "age: 30\n",
            "gender: male\n"
          ]
        }
      ]
    },
    {
      "cell_type": "code",
      "source": [
        "people = {1: {'name': 'yeswanth', 'age': 20, 'gender': 'male','college':'gitam','branch':'cse'}}  # Added age and corrected th\n",
        ",\n",
        "for p_id, p_info in people.items():\n",
        "    print(\"\\npersonal information:\")\n",
        "    for key, value in p_info.items():  # Iterate through key-value pairs\n",
        "        print(key + ':', value)"
      ],
      "metadata": {
        "colab": {
          "base_uri": "https://localhost:8080/"
        },
        "id": "tQACxjwGg1X6",
        "outputId": "18c362e4-cf13-4ef0-dfc9-e4fa0f75d9e7"
      },
      "execution_count": null,
      "outputs": [
        {
          "output_type": "stream",
          "name": "stdout",
          "text": [
            "\n",
            "personal information:\n",
            "name: yeswanth\n",
            "age: 20\n",
            "gender: male\n",
            "college: gitam\n",
            "branch: cse\n"
          ]
        }
      ]
    },
    {
      "cell_type": "code",
      "source": [
        "def calculation_a_b(a,b):\n",
        "return a+b,a-b,a*b,a/b\n",
        "res = calcution_a_b(30,10 )\n",
        "print(result)"
      ],
      "metadata": {
        "colab": {
          "base_uri": "https://localhost:8080/",
          "height": 106
        },
        "id": "24-bGhDO7lWQ",
        "outputId": "a6a3c2db-4e02-4d0f-ad40-0aa04082afd8"
      },
      "execution_count": null,
      "outputs": [
        {
          "output_type": "error",
          "ename": "IndentationError",
          "evalue": "expected an indented block after function definition on line 1 (<ipython-input-1-c9d54d44fec7>, line 2)",
          "traceback": [
            "\u001b[0;36m  File \u001b[0;32m\"<ipython-input-1-c9d54d44fec7>\"\u001b[0;36m, line \u001b[0;32m2\u001b[0m\n\u001b[0;31m    return a+b,a-b,a*b,a/b\u001b[0m\n\u001b[0m    ^\u001b[0m\n\u001b[0;31mIndentationError\u001b[0m\u001b[0;31m:\u001b[0m expected an indented block after function definition on line 1\n"
          ]
        }
      ]
    },
    {
      "cell_type": "markdown",
      "source": [
        "write a program to perform largest of three numbers and write a program to perform incriment of a value and decriment of a value"
      ],
      "metadata": {
        "id": "YBbR-BquEHxo"
      }
    },
    {
      "cell_type": "code",
      "source": [
        "# Function to find the largest of three numbers\n",
        "def largest_of_three(num1, num2, num3):\n",
        "    return max(num1, num2, num3)\n",
        "\n",
        "# Input from the user\n",
        "try:\n",
        "    num1 = float(input(\"Enter first number: \"))\n",
        "    num2 = float(input(\"Enter second number: \"))\n",
        "    num3 = float(input(\"Enter third number: \"))\n",
        "\n",
        "    largest = largest_of_three(num1, num2, num3)\n",
        "    print(f\"The largest number among {num1}, {num2}, and {num3} is: {largest}\")\n",
        "except ValueError:\n",
        "    print(\"Please enter valid numbers.\")"
      ],
      "metadata": {
        "colab": {
          "base_uri": "https://localhost:8080/"
        },
        "id": "V8oUeDroEnCh",
        "outputId": "893c71d3-d924-4745-df0b-bbe396793363"
      },
      "execution_count": null,
      "outputs": [
        {
          "output_type": "stream",
          "name": "stdout",
          "text": [
            "Enter first number: 12\n",
            "Enter second number: 13\n",
            "Enter third number: 14\n",
            "The largest number among 12.0, 13.0, and 14.0 is: 14.0\n"
          ]
        }
      ]
    },
    {
      "cell_type": "markdown",
      "source": [
        "write a program to identify vowels and consonents"
      ],
      "metadata": {
        "id": "O12Vq209GOYP"
      }
    },
    {
      "cell_type": "markdown",
      "source": [
        "incriment and decriment"
      ],
      "metadata": {
        "id": "8_tQX9Q9M9p-"
      }
    },
    {
      "cell_type": "code",
      "source": [
        "def i_de(a):\n",
        "  return a+1,a-1\n",
        "print(i_de(10))"
      ],
      "metadata": {
        "colab": {
          "base_uri": "https://localhost:8080/"
        },
        "id": "k5lrZkRYNGyO",
        "outputId": "120df2cb-c3f5-4243-cd13-1bbbabb6e57e"
      },
      "execution_count": null,
      "outputs": [
        {
          "output_type": "stream",
          "name": "stdout",
          "text": [
            "(11, 9)\n"
          ]
        }
      ]
    },
    {
      "cell_type": "markdown",
      "source": [
        "write a program to count no of elements that contain digits 5 in it using tuple and a user defined function"
      ],
      "metadata": {
        "id": "Gcyl4686ZTaf"
      }
    },
    {
      "cell_type": "code",
      "source": [
        "def CDF():\n",
        "  t1 =(13,54,66,35,77,65,22)\n",
        "  count=0\n",
        "  for i in t1:\n",
        "    if \"5\" in str(i):\n",
        "      count+=1\n",
        "  print(count)\n",
        "CDF() # Call the function once to execute it and print the count\n",
        "\n"
      ],
      "metadata": {
        "colab": {
          "base_uri": "https://localhost:8080/"
        },
        "id": "vl-CdpmRelfh",
        "outputId": "32d259b9-0760-403a-b086-9b7baa1913f5"
      },
      "execution_count": null,
      "outputs": [
        {
          "output_type": "stream",
          "name": "stdout",
          "text": [
            "3\n"
          ]
        }
      ]
    },
    {
      "cell_type": "markdown",
      "source": [
        "given a tuple of elements .write a program to form only the string element in the given tuple"
      ],
      "metadata": {
        "id": "x2Y-WvTTds7E"
      }
    },
    {
      "cell_type": "markdown",
      "source": [
        "1: program to count no of strings where the string length is two or more\n",
        "2: first and last character are same two or more length of the strings"
      ],
      "metadata": {
        "id": "ZhXeGojfiKWp"
      }
    },
    {
      "source": [
        "def str_count():\n",
        "  list1 = ['abc','xyz','aba','1221','d','aa']  # Changed list to list1 or declare list1 before this line\n",
        "  count=0\n",
        "  for i in list1:\n",
        "    if len(i)>=2:\n",
        "      count+=1\n",
        "      if (i[0]==i[-1]):\n",
        "        count+=1\n",
        "  print(count)  # Dedented to be outside the for loop\n",
        "  return count # return count value\n",
        "\n",
        "# Call the function and store the returned value\n",
        "count_result = str_count()\n",
        "\n",
        "# Assuming you want to print the count, not call an undefined function\n",
        "print(count_result)   # Instead of str_(count), print the returned count"
      ],
      "cell_type": "code",
      "metadata": {
        "colab": {
          "base_uri": "https://localhost:8080/"
        },
        "id": "AEzFf85S315K",
        "outputId": "e7c0d71b-5653-4b82-d277-6b6b9ecc0e3e"
      },
      "execution_count": null,
      "outputs": [
        {
          "output_type": "stream",
          "name": "stdout",
          "text": [
            "8\n",
            "8\n"
          ]
        }
      ]
    },
    {
      "cell_type": "markdown",
      "source": [
        "write a program to accept the string function and calculate the no of the upper case letters and lower case letters"
      ],
      "metadata": {
        "id": "UIIpOfripxEs"
      }
    },
    {
      "cell_type": "code",
      "source": [
        "//def count_case(input_string):\n",
        "  \"\"\"Counts uppercase and lowercase letters in a string.\"\"\"\n",
        "  upper_count = 0\n",
        "  lower_count = 0\n",
        "  for char in input_string:\n",
        "    if char.isupper():\n",
        "      upper_count += 1\n",
        "    elif char.islower():\n",
        "      lower_count += 1\n",
        "  return upper_count, lower_count\n",
        "\n",
        "# Get input from the user\n",
        "input_string = input(\"Enter a string: \")\n",
        "\n",
        "# Count uppercase and lowercase letters\n",
        "upper, lower = count_case(input_string)\n",
        "\n",
        "# Print the results\n",
        "print(\"Number of uppercase letters:\", upper)\n",
        "print(\"Number of lowercase letters:\", lower)"
      ],
      "metadata": {
        "colab": {
          "base_uri": "https://localhost:8080/"
        },
        "id": "KecLfP2XqLla",
        "outputId": "45326008-d182-4c70-cdc7-599b3db6c025"
      },
      "execution_count": null,
      "outputs": [
        {
          "output_type": "stream",
          "name": "stdout",
          "text": [
            "Enter a string: 12\n",
            "Number of uppercase letters: 0\n",
            "Number of lowercase letters: 0\n"
          ]
        }
      ]
    },
    {
      "cell_type": "code",
      "source": [
        "def get_square(num):\n",
        "  return num * num\n",
        "\n",
        "for i in [1,2,3]:\n",
        "    result = get_square(i)\n",
        "    print('square of',i,'=',result)"
      ],
      "metadata": {
        "colab": {
          "base_uri": "https://localhost:8080/"
        },
        "id": "oAofQNeFQ5j5",
        "outputId": "6c1f8880-4cdb-4ec7-e8cf-53b7360e3a27"
      },
      "execution_count": null,
      "outputs": [
        {
          "output_type": "stream",
          "name": "stdout",
          "text": [
            "square of 1 = 1\n",
            "square of 2 = 4\n",
            "square of 3 = 9\n"
          ]
        }
      ]
    },
    {
      "cell_type": "code",
      "source": [
        "def GCD(a,b):\n",
        "  rem=a%b\n",
        "  if rem==0:\n",
        "    return b\n",
        "  else:\n",
        "    return GCD(b,rem)\n",
        "print(GCD(50,5))"
      ],
      "metadata": {
        "colab": {
          "base_uri": "https://localhost:8080/"
        },
        "id": "rgJWzKuASLsI",
        "outputId": "342988da-410d-4e97-b1b0-74fe5286b348"
      },
      "execution_count": null,
      "outputs": [
        {
          "output_type": "stream",
          "name": "stdout",
          "text": [
            "5\n"
          ]
        }
      ]
    },
    {
      "cell_type": "markdown",
      "source": [
        "write a recrusive program by using recrusive method"
      ],
      "metadata": {
        "id": "uNudnuJTWbYM"
      }
    },
    {
      "cell_type": "code",
      "source": [
        "def reverse(string):\n",
        "    if len(string) == 0:\n",
        "       return string\n",
        "    else:\n",
        "       return reverse(string[1:]) + string[0]\n",
        "reversename = 'yeswanth'\n",
        "print(reverse(reversename))"
      ],
      "metadata": {
        "colab": {
          "base_uri": "https://localhost:8080/"
        },
        "id": "WAoa7JPJYGWG",
        "outputId": "7e016d02-8edf-4e1b-aee3-682836237392"
      },
      "execution_count": null,
      "outputs": [
        {
          "output_type": "stream",
          "name": "stdout",
          "text": [
            "htnawsey\n"
          ]
        }
      ]
    },
    {
      "cell_type": "markdown",
      "source": [
        "write a recursion program for fibonacci serises"
      ],
      "metadata": {
        "id": "fxnXGKXJZoL3"
      }
    },
    {
      "cell_type": "markdown",
      "source": [
        "1: write a function tupe even number list and odd number list from given a list\n",
        "2: write a function to positive number list and negative number list from given a list"
      ],
      "metadata": {
        "id": "2QZC_QSUc_YF"
      }
    },
    {
      "cell_type": "code",
      "source": [],
      "metadata": {
        "id": "17RkWifMd5Gk"
      },
      "execution_count": null,
      "outputs": []
    },
    {
      "cell_type": "markdown",
      "source": [
        "write a recursion program on some on serises 1+2+3+"
      ],
      "metadata": {
        "id": "a6blHVYqjReS"
      }
    },
    {
      "cell_type": "code",
      "source": [
        "def towerofHanoi(n, source, destination, auxiliary):\n",
        "    if n == 1:\n",
        "      print(\"Move disk 1 from rod\", source, \"to destination\", destination)\n",
        "      return\n",
        "      towerofHanoi(n-1, source, auxiliary, destination)\n",
        "      print(\"Move disk\", n, \"from rod\", source, \"to destination\", destination)\n",
        "      towerofHanoi(n-1, auxiliary, destination, source)\n",
        "\n",
        "    # Driver code\n",
        "      n = 3\n",
        "      towerofHanoi(N, 'A', 'B', 'C')"
      ],
      "metadata": {
        "id": "ZOmAenm1Nzyd"
      },
      "execution_count": null,
      "outputs": []
    },
    {
      "cell_type": "markdown",
      "source": [
        "write a program to duplicate elements in a list"
      ],
      "metadata": {
        "id": "xNmbNGhiP5tl"
      }
    },
    {
      "cell_type": "code",
      "source": [
        "def fun( a, n):\n",
        "    if(n == 1):\n",
        "        return True\n",
        "    for i in range(0, n - 1):\n",
        "        if (a[i] == a[n - 1]):\n",
        "            return True\n",
        "    return fun(a, n - 1)\n",
        "\n",
        "# Driver code\n",
        "arr = [12, 10, 30, 50, 100]\n",
        "print(fun(arr, 5))\n"
      ],
      "metadata": {
        "colab": {
          "base_uri": "https://localhost:8080/"
        },
        "id": "4SPJ1NJnSXkG",
        "outputId": "df33a967-f94d-4f4f-87a2-4a1058d8602a"
      },
      "execution_count": null,
      "outputs": [
        {
          "output_type": "stream",
          "name": "stdout",
          "text": [
            "True\n"
          ]
        }
      ]
    },
    {
      "cell_type": "code",
      "source": [
        "def fun(i):\n",
        "    if (i % 2 == 1):\n",
        "        i += 1\n",
        "        return (i - 1)\n",
        "    else :\n",
        "        return fun(fun(i -  1))\n",
        "\n",
        "print"
      ],
      "metadata": {
        "id": "3hL6FgQ5TWEP",
        "colab": {
          "base_uri": "https://localhost:8080/"
        },
        "outputId": "286686e5-6ad3-4de7-bb5d-2b92e0c4c4ef"
      },
      "execution_count": null,
      "outputs": [
        {
          "output_type": "execute_result",
          "data": {
            "text/plain": [
              "<function print(*args, sep=' ', end='\\n', file=None, flush=False)>"
            ]
          },
          "metadata": {},
          "execution_count": 16
        }
      ]
    },
    {
      "cell_type": "markdown",
      "source": [
        "write a program to print dictinory in the dictinory keys or numbers between 1 to 20 .value or cube of that key 2.same key but value will be a to z 3.multiply all the items in the dictinory"
      ],
      "metadata": {
        "id": "gDzJrDjBDOh_"
      }
    },
    {
      "cell_type": "code",
      "source": [
        "d = {}\n",
        "for x in range(1,21):\n",
        "    d[x] = x **3\n",
        "print(d)"
      ],
      "metadata": {
        "colab": {
          "base_uri": "https://localhost:8080/"
        },
        "id": "yMVzCNp5Gt3d",
        "outputId": "ee548d9b-dace-425b-db3a-98b8cdda07be"
      },
      "execution_count": null,
      "outputs": [
        {
          "output_type": "stream",
          "name": "stdout",
          "text": [
            "{1: 1, 2: 8, 3: 27, 4: 64, 5: 125, 6: 216, 7: 343, 8: 512, 9: 729, 10: 1000, 11: 1331, 12: 1728, 13: 2197, 14: 2744, 15: 3375, 16: 4096, 17: 4913, 18: 5832, 19: 6859, 20: 8000}\n"
          ]
        }
      ]
    },
    {
      "cell_type": "code",
      "source": [
        "import string\n",
        "def create_alphabet_dictinary():\n",
        "    alphabet_dict = {}\n",
        "    for letter in string.ascii_lowercase:\n",
        "        alphabet_dict[letter] = ord(letter)\n",
        "    return alphabet_dict\n",
        "alphabet_dict = create_alphabet_dictinary()\n",
        "print(alphabet_dict)"
      ],
      "metadata": {
        "colab": {
          "base_uri": "https://localhost:8080/"
        },
        "id": "IDfYKqg7HsO9",
        "outputId": "06d4b568-3773-4906-a305-c90ff5d481db"
      },
      "execution_count": null,
      "outputs": [
        {
          "output_type": "stream",
          "name": "stdout",
          "text": [
            "{'a': 97, 'b': 98, 'c': 99, 'd': 100, 'e': 101, 'f': 102, 'g': 103, 'h': 104, 'i': 105, 'j': 106, 'k': 107, 'l': 108, 'm': 109, 'n': 110, 'o': 111, 'p': 112, 'q': 113, 'r': 114, 's': 115, 't': 116, 'u': 117, 'v': 118, 'w': 119, 'x': 120, 'y': 121, 'z': 122}\n"
          ]
        }
      ]
    },
    {
      "cell_type": "code",
      "source": [
        "my_dict = {'data1':100,'data2':-54,'data3':2417}\n",
        "result = 1\n",
        "for key in my_dict:\n",
        "    result = result * my_dict[key]\n",
        "print(result)"
      ],
      "metadata": {
        "colab": {
          "base_uri": "https://localhost:8080/"
        },
        "id": "pnrtvB85LXNc",
        "outputId": "4cfa6616-f4a2-4adf-b454-6233d6594cb2"
      },
      "execution_count": null,
      "outputs": [
        {
          "output_type": "stream",
          "name": "stdout",
          "text": [
            "-13051800\n"
          ]
        }
      ]
    },
    {
      "cell_type": "code",
      "source": [
        "def add(x, y):\n",
        "    return x + y\n",
        "\n",
        "def sub(x, y):\n",
        "    return x -y\n",
        "\n",
        "def multiply(x, y):\n",
        "    return x * y\n",
        "\n",
        "def divide(x, y):\n",
        "    return x / y\n",
        "print(\"select operation\")\n",
        "print(\"1.add\")\n",
        "print(\"2.sub\")\n",
        "print(\"3.multiply\")\n",
        "print(\"4.divide\")\n",
        "\n",
        "choice = input(\"enter choice(1/2/3/4):\")"
      ],
      "metadata": {
        "id": "A1u6dZWni05J",
        "outputId": "1cf711a9-1097-4406-fb0c-69073c7228ac",
        "colab": {
          "base_uri": "https://localhost:8080/"
        }
      },
      "execution_count": null,
      "outputs": [
        {
          "name": "stdout",
          "output_type": "stream",
          "text": [
            "select operation\n",
            "1.add\n",
            "2.sub\n",
            "3.multiply\n",
            "4.divide\n",
            "enter choice(1/2/3/4):2\n"
          ]
        }
      ]
    },
    {
      "cell_type": "code",
      "source": [
        "f=open(\"/content/raw.txt\",\"r\")\n",
        "f.read()"
      ],
      "metadata": {
        "colab": {
          "base_uri": "https://localhost:8080/",
          "height": 35
        },
        "id": "y0pJyPgsfgFo",
        "outputId": "6f3b5ed3-ce8b-44ff-8ccc-0d0c33364e8f"
      },
      "execution_count": null,
      "outputs": [
        {
          "output_type": "execute_result",
          "data": {
            "text/plain": [
              "'what is your name\\nsalamon'"
            ],
            "application/vnd.google.colaboratory.intrinsic+json": {
              "type": "string"
            }
          },
          "metadata": {},
          "execution_count": 25
        }
      ]
    },
    {
      "cell_type": "code",
      "source": [
        "with open(\"/content/raw.txt\",\"r\") as f :\n",
        "  data=f.read()\n",
        "print(data)"
      ],
      "metadata": {
        "colab": {
          "base_uri": "https://localhost:8080/"
        },
        "id": "ONznDamTeuhX",
        "outputId": "7f22faaf-314a-4ce0-966d-80619341dea5"
      },
      "execution_count": null,
      "outputs": [
        {
          "output_type": "stream",
          "name": "stdout",
          "text": [
            "what is your name\n",
            "salamon\n"
          ]
        }
      ]
    },
    {
      "cell_type": "code",
      "source": [
        "f=open(\"/content/raw.txt\",\"r\")\n",
        "f.read(5)"
      ],
      "metadata": {
        "colab": {
          "base_uri": "https://localhost:8080/",
          "height": 35
        },
        "id": "kSw7ft_ghAp1",
        "outputId": "17051151-2d40-4e4c-92e8-883e39841eca"
      },
      "execution_count": null,
      "outputs": [
        {
          "output_type": "execute_result",
          "data": {
            "text/plain": [
              "'what '"
            ],
            "application/vnd.google.colaboratory.intrinsic+json": {
              "type": "string"
            }
          },
          "metadata": {},
          "execution_count": 29
        }
      ]
    },
    {
      "cell_type": "code",
      "source": [
        "with open(\"/content/raw.txt\",\"r\") as f:\n",
        "  data=f.read()\n",
        "print(data)"
      ],
      "metadata": {
        "colab": {
          "base_uri": "https://localhost:8080/"
        },
        "id": "hazLaH-2lttW",
        "outputId": "1dc1dc2a-b8d3-434e-80d5-ae0d6ed12a99"
      },
      "execution_count": null,
      "outputs": [
        {
          "output_type": "stream",
          "name": "stdout",
          "text": [
            "what is your name\n",
            "salamon\n"
          ]
        }
      ]
    },
    {
      "cell_type": "code",
      "source": [
        "f1=open('core.txt','w')\n",
        "f1.writelines(['city\\n','town\\n'])\n",
        "f1.close()"
      ],
      "metadata": {
        "id": "UYcr2WCxnZrj"
      },
      "execution_count": null,
      "outputs": []
    },
    {
      "cell_type": "markdown",
      "source": [
        "create a name dot and list of names and write that into file and read the file"
      ],
      "metadata": {
        "id": "Yfvl9jdMoZn5"
      }
    },
    {
      "cell_type": "code",
      "source": [
        "# example - 12:\n",
        "f1=open('name.txt','w')\n",
        "f1.writelines(['name1\\n','name2\\n','name3\\n'])\n",
        "f1.close()"
      ],
      "metadata": {
        "id": "nTmxHXt4pcKJ"
      },
      "execution_count": null,
      "outputs": []
    },
    {
      "cell_type": "code",
      "source": [
        "# example - 13: for admin\n",
        "f1 = open(\"name.txt\",\"r\")\n",
        "password = input(\"please enter the password:\")\n",
        "for i in f1.read():\n",
        "  if password == \"member@12\":\n",
        "    if i.isalpha():  # Nested if statement\n",
        "      ch = chr((ord(i)+3))\n",
        "      print(ch,end=\"\")\n",
        "  elif password==\"admin@12\":\n",
        "    print(i,end=\"\")\n",
        "  else:\n",
        "    print(\"you are not authorised to acess this data\")\n",
        "    break\n",
        "\n",
        "f1.close()"
      ],
      "metadata": {
        "colab": {
          "base_uri": "https://localhost:8080/"
        },
        "id": "nzfVj5MJkSG0",
        "outputId": "4195c81b-61e2-4502-e461-8d135b5cc422"
      },
      "execution_count": null,
      "outputs": [
        {
          "output_type": "stream",
          "name": "stdout",
          "text": [
            "please enter the password:123\n",
            "you are not authorised to acess this data\n"
          ]
        }
      ]
    },
    {
      "cell_type": "code",
      "source": [
        "# example - 14:\n",
        "f3 = open(\"class details.txt\",\"a\")\n",
        "f3.write(\"this lab room number is 423\")\n",
        "f3.close()\n",
        "f1= open (\"class details.txt\",\"r\")\n",
        "f1.read()"
      ],
      "metadata": {
        "colab": {
          "base_uri": "https://localhost:8080/",
          "height": 35
        },
        "id": "B1OIZMeInAzs",
        "outputId": "184bba8f-c858-4644-ee6b-6842a0a49f3f"
      },
      "execution_count": null,
      "outputs": [
        {
          "output_type": "execute_result",
          "data": {
            "text/plain": [
              "'this lab room number is 423this lab room number is 423this lab room number is 423'"
            ],
            "application/vnd.google.colaboratory.intrinsic+json": {
              "type": "string"
            }
          },
          "metadata": {},
          "execution_count": 16
        }
      ]
    },
    {
      "cell_type": "code",
      "source": [
        "import re\n",
        "\n",
        "def is_valid_email(email):\n",
        "    \"\"\"Checks if an email address is valid using regular expressions.\n",
        "\n",
        "    Args:\n",
        "        email: The email address to check.\n",
        "\n",
        "    Returns:\n",
        "        True if the email address is valid, False otherwise.\n",
        "    \"\"\"\n",
        "    pattern = r\"^[a-zA-Z0-9._%+-]+@[a-zA-Z0-9.-]+\\.[a-zA-Z]{2,}$\"\n",
        "    return re.match(pattern, email) is not None\n",
        "\n",
        "email = input(\"Enter an email address: \")\n",
        "\n",
        "\n",
        "if is_valid_email(email):\n",
        "    print(\"Valid email address\")\n",
        "else:\n",
        "    print(\"Invalid email address\")"
      ],
      "metadata": {
        "id": "CKluHog-pFOi",
        "colab": {
          "base_uri": "https://localhost:8080/"
        },
        "outputId": "c4002b4f-dce4-4f08-a72f-557d6fc2480b"
      },
      "execution_count": null,
      "outputs": [
        {
          "output_type": "stream",
          "name": "stdout",
          "text": [
            "Enter an email address: yeshu@gmail.com\n",
            "Valid email address\n"
          ]
        }
      ]
    },
    {
      "source": [
        "# If the file does not exist, create it\n",
        "try:\n",
        "  with open(\"/content/new1.txt\", \"w\") as f:\n",
        "    # Add some content to the file if desired\n",
        "    f.write(\"2\\n\")  # Example content\n",
        "    f.write(\"3\\n\")  # Example content\n",
        "except Exception as e:\n",
        "  print(f\"Error creating file: {e}\")\n",
        "\n",
        "# Then, proceed with your original code\n",
        "a = open(\"/content/new1.txt\", \"r\")\n",
        "for i in a:\n",
        "  i = i.strip()\n",
        "  if i.isdigit():\n",
        "    if int(i) % 2 == 0:\n",
        "        print(\"even\")\n",
        "    else:\n",
        "        print(\"odd\")\n",
        "a.close()"
      ],
      "cell_type": "code",
      "metadata": {
        "colab": {
          "base_uri": "https://localhost:8080/"
        },
        "id": "iiGRBV_44_Zw",
        "outputId": "f5255f33-dba0-4456-e604-b2fe51562431"
      },
      "execution_count": null,
      "outputs": [
        {
          "output_type": "stream",
          "name": "stdout",
          "text": [
            "even\n",
            "odd\n"
          ]
        }
      ]
    },
    {
      "cell_type": "code",
      "source": [
        "a = open(\"/content/new1.txt\", \"r\")\n",
        "for i in a:\n",
        "    i = i.strip()\n",
        "    if i.isdigit():\n",
        "        if int(i) % 2 == 0:\n",
        "            print(\"even\")\n",
        "        else:\n",
        "            print(\"odd\")\n",
        "a.close()"
      ],
      "metadata": {
        "colab": {
          "base_uri": "https://localhost:8080/"
        },
        "id": "B4QnMJbaWPKK",
        "outputId": "4c445ff5-7ec4-4687-8e7e-a6f8221d7e06"
      },
      "execution_count": null,
      "outputs": [
        {
          "output_type": "stream",
          "name": "stdout",
          "text": [
            "odd\n",
            "odd\n",
            "odd\n"
          ]
        }
      ]
    },
    {
      "cell_type": "code",
      "source": [
        "import csv\n",
        "\n",
        "try:\n",
        "    with open(\"/content/file.csv\", \"r\") as file:\n",
        "        reader = csv.reader(file)\n",
        "        for row in reader:\n",
        "            print(row)\n",
        "except FileNotFoundError:\n",
        "    print(\"File not found. Creating a new file...\")\n",
        "    with open(\"/content/file.csv\", \"w\", newline=\"\") as file:\n",
        "        writer = csv.writer(file)\n",
        "        # Write some initial data if needed\n",
        "        writer.writerow([\"Header1\", \"Header2\"])\n",
        "        print(\"New file created successfully.\")"
      ],
      "metadata": {
        "colab": {
          "base_uri": "https://localhost:8080/"
        },
        "id": "ZR7rjXx1r1Bb",
        "outputId": "8bb32949-c0ca-4347-bece-2ab09b32536a"
      },
      "execution_count": null,
      "outputs": [
        {
          "output_type": "stream",
          "name": "stdout",
          "text": [
            "File not found. Creating a new file...\n",
            "New file created successfully.\n"
          ]
        }
      ]
    },
    {
      "cell_type": "code",
      "source": [
        "import numpy as np\n",
        "\n",
        "a=np.array([1,2,3,4,5])\n",
        "print(a)\n",
        "print(np.mean(a))"
      ],
      "metadata": {
        "colab": {
          "base_uri": "https://localhost:8080/"
        },
        "id": "_HeoDAuItWjq",
        "outputId": "086889dc-cf8f-40e3-dfdc-96a0f84fb289"
      },
      "execution_count": null,
      "outputs": [
        {
          "output_type": "stream",
          "name": "stdout",
          "text": [
            "[1 2 3 4 5]\n",
            "3.0\n"
          ]
        }
      ]
    },
    {
      "cell_type": "code",
      "source": [
        "for i in range(3,-3,-1):\n",
        "    try:\n",
        "        print(1.0/ i)\n",
        "    except ZeroDivisionError as err:\n",
        "     print(\"zero division error\", str(err.args[0]))"
      ],
      "metadata": {
        "colab": {
          "base_uri": "https://localhost:8080/"
        },
        "id": "23y7kt2sPvcD",
        "outputId": "33f53df8-249f-40a8-a9ad-e812af82ff1e"
      },
      "execution_count": null,
      "outputs": [
        {
          "output_type": "stream",
          "name": "stdout",
          "text": [
            "0.3333333333333333\n",
            "0.5\n",
            "1.0\n",
            "zero division error float division by zero\n",
            "-1.0\n",
            "-0.5\n"
          ]
        }
      ]
    }
  ]
}