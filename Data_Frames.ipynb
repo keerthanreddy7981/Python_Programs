{
  "nbformat": 4,
  "nbformat_minor": 0,
  "metadata": {
    "colab": {
      "provenance": [],
      "authorship_tag": "ABX9TyOICS48hykMhQK43UyK4YwT"
    },
    "kernelspec": {
      "name": "python3",
      "display_name": "Python 3"
    },
    "language_info": {
      "name": "python"
    }
  },
  "cells": [
    {
      "cell_type": "code",
      "execution_count": null,
      "metadata": {
        "colab": {
          "base_uri": "https://localhost:8080/"
        },
        "id": "KGvMN-sjLYRY",
        "outputId": "86d6d146-d581-4a7e-8ce4-7cc2ccc063ab"
      },
      "outputs": [
        {
          "output_type": "stream",
          "name": "stdout",
          "text": [
            "     Name Team\n",
            "0  Hardik   MI\n",
            "1   Virat  RCB\n"
          ]
        }
      ],
      "source": [
        "import pandas as pd\n",
        "name=pd.Series(['Hardik','Virat'])\n",
        "team=pd.Series(['MI','RCB'])\n",
        "dic={'Name':name,'Team':team}\n",
        "df=pd.DataFrame(dic)\n",
        "print(df)"
      ]
    },
    {
      "cell_type": "code",
      "source": [
        "import pandas as pd\n",
        "dic={'Name':['Hardik','Virat'],'Team':['MI','RCB']}\n",
        "df=pd.DataFrame(dic)\n",
        "print(df)"
      ],
      "metadata": {
        "colab": {
          "base_uri": "https://localhost:8080/"
        },
        "id": "riZpgsueNrin",
        "outputId": "c04f6b54-38f2-44c2-9728-ca582dc6b5b2"
      },
      "execution_count": null,
      "outputs": [
        {
          "output_type": "stream",
          "name": "stdout",
          "text": [
            "     Name Team\n",
            "0  Hardik   MI\n",
            "1   Virat  RCB\n"
          ]
        }
      ]
    },
    {
      "cell_type": "code",
      "source": [
        "import pandas as pd\n",
        "data=[{'Name':'rama','Roll':1001,'Branch':'CSE'},{'Name':'sham','Roll':1002,'Branch':'CSE'},{'Name':'ranjit','Roll':1003,'Branch':'ECE'}]\n",
        "df=pd.DataFrame(data)\n",
        "print(df)"
      ],
      "metadata": {
        "id": "hL40lDgLgOho",
        "colab": {
          "base_uri": "https://localhost:8080/"
        },
        "outputId": "ade9600d-d47c-4e2d-9734-7f552c87c977"
      },
      "execution_count": null,
      "outputs": [
        {
          "output_type": "stream",
          "name": "stdout",
          "text": [
            "     Name  Roll Branch\n",
            "0    rama  1001    CSE\n",
            "1    sham  1002    CSE\n",
            "2  ranjit  1003    ECE\n"
          ]
        }
      ]
    },
    {
      "cell_type": "code",
      "source": [
        "import pandas as pd\n",
        "data=[{'Name':'rama','Roll':1001,'Branch':'CSE'},{'Name':'sham','Roll':1002,'Branch':'CSE'},{'Name':'ranjit','Roll':1003,'Branch':'ECE'}]\n",
        "df=pd.DataFrame(data)\n",
        "print(df['Name'])"
      ],
      "metadata": {
        "colab": {
          "base_uri": "https://localhost:8080/"
        },
        "id": "zN4xbpmsoB5W",
        "outputId": "f54ce38b-f91a-4857-fdc9-bbe7f62720a9"
      },
      "execution_count": null,
      "outputs": [
        {
          "output_type": "stream",
          "name": "stdout",
          "text": [
            "0      rama\n",
            "1      sham\n",
            "2    ranjit\n",
            "Name: Name, dtype: object\n"
          ]
        }
      ]
    },
    {
      "cell_type": "code",
      "source": [
        "import pandas as pd\n",
        "data=[{'Name':'rama','Roll':1001,'Branch':'CSE'},{'Name':'sham','Roll':1002,'Branch':'CSE'},{'Name':'ranjit','Roll':1003,'Branch':'ECE'}]\n",
        "df=pd.DataFrame(data)\n",
        "print(df['Roll'])"
      ],
      "metadata": {
        "colab": {
          "base_uri": "https://localhost:8080/"
        },
        "id": "sr5XhN7EoXs_",
        "outputId": "0a5701cc-659d-4ca4-8352-bd87cbe0fee8"
      },
      "execution_count": null,
      "outputs": [
        {
          "output_type": "stream",
          "name": "stdout",
          "text": [
            "0    1001\n",
            "1    1002\n",
            "2    1003\n",
            "Name: Roll, dtype: int64\n"
          ]
        }
      ]
    },
    {
      "cell_type": "code",
      "source": [
        "import pandas as pd\n",
        "data=[{'Name':'rama','Roll':1001,'Branch':'CSE'},{'Name':'sham','Roll':1002,'Branch':'CSE'},{'Name':'ranjit','Roll':1003,'Branch':'ECE'}]\n",
        "df=pd.DataFrame(data)\n",
        "print(df.loc[0:1,'Name':'Roll'])"
      ],
      "metadata": {
        "colab": {
          "base_uri": "https://localhost:8080/"
        },
        "id": "wjWmftjIofHO",
        "outputId": "bfd4a4e5-156d-4975-b8f6-63937a93ae9c"
      },
      "execution_count": null,
      "outputs": [
        {
          "output_type": "stream",
          "name": "stdout",
          "text": [
            "   Name  Roll\n",
            "0  rama  1001\n",
            "1  sham  1002\n"
          ]
        }
      ]
    },
    {
      "cell_type": "code",
      "source": [
        "import pandas as pd\n",
        "data=[{'Name':'rama','Roll':1001,'Branch':'CSE'},{'Name':'sham','Roll':1002,'Branch':'CSE'},{'Name':'ranjit','Roll':1003,'Branch':'ECE'}]\n",
        "df=pd.DataFrame(data)\n",
        "print(df.loc[1:2,'Roll':'Branch'])"
      ],
      "metadata": {
        "colab": {
          "base_uri": "https://localhost:8080/"
        },
        "id": "tl3U_vCcqA4v",
        "outputId": "c7ab26b1-45db-4985-a878-d6890e6c0f04"
      },
      "execution_count": null,
      "outputs": [
        {
          "output_type": "stream",
          "name": "stdout",
          "text": [
            "   Roll Branch\n",
            "1  1002    CSE\n",
            "2  1003    ECE\n"
          ]
        }
      ]
    },
    {
      "cell_type": "code",
      "source": [],
      "metadata": {
        "id": "uuDPGc2quBOM"
      },
      "execution_count": null,
      "outputs": []
    },
    {
      "cell_type": "code",
      "source": [
        "import pandas as pd\n",
        "data=[{'Name':'rama','Roll':1001,'Branch':'CSE'},{'Name':'sham','Roll':1002,'Branch':'CSE'},{'Name':'ranjit','Roll':1003,'Branch':'ECE'}]\n",
        "df=pd.DataFrame(data)\n",
        "print(df)\n",
        "df.columns=['empname','empid','dept']\n",
        "print(df)\n",
        "df.index=['emp0','emp1','emp2']\n",
        "print(df.loc['emp0':'emp1','empname':'empid'])"
      ],
      "metadata": {
        "colab": {
          "base_uri": "https://localhost:8080/"
        },
        "id": "d9M4oMQ4qcT1",
        "outputId": "57b41975-93f1-408b-e93f-a15f518a7593"
      },
      "execution_count": null,
      "outputs": [
        {
          "output_type": "stream",
          "name": "stdout",
          "text": [
            "     Name  Roll Branch\n",
            "0    rama  1001    CSE\n",
            "1    sham  1002    CSE\n",
            "2  ranjit  1003    ECE\n",
            "  empname  empid dept\n",
            "0    rama   1001  CSE\n",
            "1    sham   1002  CSE\n",
            "2  ranjit   1003  ECE\n",
            "     empname  empid\n",
            "emp0    rama   1001\n",
            "emp1    sham   1002\n"
          ]
        }
      ]
    },
    {
      "cell_type": "code",
      "source": [
        "import pandas as pd\n",
        "data=[{'Name':'rama','Roll':1001,'Branch':'CSE'},\n",
        "      {'Name':'sham','Roll':1002,'Branch':'CSE'},\n",
        "      {'Name':'ranjit','Roll':1003,'Branch':'ECE'}]\n",
        "df=pd.DataFrame(data)\n",
        "print(df)\n",
        "del df['Branch']\n",
        "print(df)"
      ],
      "metadata": {
        "colab": {
          "base_uri": "https://localhost:8080/"
        },
        "id": "Jm-WXsK8txRI",
        "outputId": "9289e27a-2104-4a5c-e2c2-5f5cfe16d04e"
      },
      "execution_count": null,
      "outputs": [
        {
          "output_type": "stream",
          "name": "stdout",
          "text": [
            "     Name  Roll Branch\n",
            "0    rama  1001    CSE\n",
            "1    sham  1002    CSE\n",
            "2  ranjit  1003    ECE\n",
            "     Name  Roll\n",
            "0    rama  1001\n",
            "1    sham  1002\n",
            "2  ranjit  1003\n"
          ]
        }
      ]
    },
    {
      "cell_type": "code",
      "source": [
        "import pandas as pd\n",
        "data=[{'Name':'rama','Roll':1001,'Branch':'CSE'},\n",
        "      {'Name':'sham','Roll':1002,'Branch':'CSE'},\n",
        "      {'Name':'ranjit','Roll':1003,'Branch':'ECE'}]\n",
        "df=pd.DataFrame(data)\n",
        "print(df)\n",
        "df=df.drop(['Roll','Branch'],axis=1)\n",
        "print(df)"
      ],
      "metadata": {
        "colab": {
          "base_uri": "https://localhost:8080/"
        },
        "id": "pX_EL0LourFb",
        "outputId": "a694d611-5f45-450a-e563-73d09f7a5d00"
      },
      "execution_count": null,
      "outputs": [
        {
          "output_type": "stream",
          "name": "stdout",
          "text": [
            "     Name  Roll Branch\n",
            "0    rama  1001    CSE\n",
            "1    sham  1002    CSE\n",
            "2  ranjit  1003    ECE\n",
            "     Name\n",
            "0    rama\n",
            "1    sham\n",
            "2  ranjit\n"
          ]
        }
      ]
    },
    {
      "cell_type": "code",
      "source": [
        "import pandas as pd\n",
        "data=[{'Name':'rama','Roll':1001,'Branch':'CSE'},\n",
        "      {'Name':'sham','Roll':1002,'Branch':'CSE'},\n",
        "      {'Name':'ranjit','Roll':1003,'Branch':'ECE'}]\n",
        "df=pd.DataFrame(data)\n",
        "print(df)\n",
        "df=df.drop([1],axis=0)\n",
        "print(df)"
      ],
      "metadata": {
        "colab": {
          "base_uri": "https://localhost:8080/"
        },
        "id": "ibMJdsfdvPuo",
        "outputId": "c30925a7-3e95-412f-c2d8-41ad15c37b47"
      },
      "execution_count": null,
      "outputs": [
        {
          "output_type": "stream",
          "name": "stdout",
          "text": [
            "     Name  Roll Branch\n",
            "0    rama  1001    CSE\n",
            "1    sham  1002    CSE\n",
            "2  ranjit  1003    ECE\n",
            "     Name  Roll Branch\n",
            "0    rama  1001    CSE\n",
            "2  ranjit  1003    ECE\n"
          ]
        }
      ]
    },
    {
      "cell_type": "code",
      "source": [
        "import pandas as pd\n",
        "data=[{'Name':'rama','Roll':1001,'Branch':'CSE'},\n",
        "      {'Name':'sham','Roll':1002,'Branch':'CSE'},\n",
        "      {'Name':'ranjit','Roll':1003,'Branch':'ECE'}]\n",
        "df=pd.DataFrame(data)\n",
        "print(df)\n",
        "df['address']=['blr','hyd','delhi']\n",
        "print(df)"
      ],
      "metadata": {
        "colab": {
          "base_uri": "https://localhost:8080/"
        },
        "id": "flPnAUTkvYdI",
        "outputId": "09fc02eb-aab1-4a9d-f5b3-1667ffe33066"
      },
      "execution_count": null,
      "outputs": [
        {
          "output_type": "stream",
          "name": "stdout",
          "text": [
            "     Name  Roll Branch\n",
            "0    rama  1001    CSE\n",
            "1    sham  1002    CSE\n",
            "2  ranjit  1003    ECE\n",
            "     Name  Roll Branch address\n",
            "0    rama  1001    CSE     blr\n",
            "1    sham  1002    CSE     hyd\n",
            "2  ranjit  1003    ECE   delhi\n"
          ]
        }
      ]
    },
    {
      "cell_type": "code",
      "source": [
        "import pandas as pd\n",
        "data=[{'Name':'rama','Roll':1001,'Branch':'CSE'},\n",
        "      {'Name':'sham','Roll':1002,'Branch':'CSE'},\n",
        "      {'Name':'ranjit','Roll':1003,'Branch':'ECE'}]\n",
        "df=pd.DataFrame(data)\n",
        "print(df)\n",
        "df.loc[3]=['sita',1004,'ece']\n",
        "print(df)"
      ],
      "metadata": {
        "colab": {
          "base_uri": "https://localhost:8080/"
        },
        "id": "hIVC2C0VwOta",
        "outputId": "b787a5d1-623e-4e64-811c-20aa91175ab0"
      },
      "execution_count": null,
      "outputs": [
        {
          "output_type": "stream",
          "name": "stdout",
          "text": [
            "     Name  Roll Branch\n",
            "0    rama  1001    CSE\n",
            "1    sham  1002    CSE\n",
            "2  ranjit  1003    ECE\n",
            "     Name  Roll Branch\n",
            "0    rama  1001    CSE\n",
            "1    sham  1002    CSE\n",
            "2  ranjit  1003    ECE\n",
            "3    sita  1004    ece\n"
          ]
        }
      ]
    },
    {
      "cell_type": "code",
      "source": [],
      "metadata": {
        "id": "28uNSrG4wzbO"
      },
      "execution_count": null,
      "outputs": []
    },
    {
      "cell_type": "code",
      "source": [
        "import pandas as pd\n",
        "data=[{'Name':'rama','Roll':1001,'Branch':'CSE'},\n",
        "      {'Name':'sham','Roll':1002,'Branch':'CSE'},\n",
        "      {'Name':'ranjit','Roll':1003,'Branch':'ECE'}]\n",
        "df=pd.DataFrame(data)\n",
        "print(df)\n",
        "df.loc[0,'Name']='gitam'\n",
        "print(df)"
      ],
      "metadata": {
        "colab": {
          "base_uri": "https://localhost:8080/"
        },
        "id": "2aHczBdxvp4H",
        "outputId": "61edfeb8-7510-4764-b4db-82b55a4f5024"
      },
      "execution_count": null,
      "outputs": [
        {
          "output_type": "stream",
          "name": "stdout",
          "text": [
            "     Name  Roll Branch\n",
            "0    rama  1001    CSE\n",
            "1    sham  1002    CSE\n",
            "2  ranjit  1003    ECE\n",
            "     Name  Roll Branch\n",
            "0   gitam  1001    CSE\n",
            "1    sham  1002    CSE\n",
            "2  ranjit  1003    ECE\n"
          ]
        }
      ]
    },
    {
      "cell_type": "code",
      "source": [
        "import pandas as pd\n",
        "data=[{'Name':'rama','Roll':1001,'Branch':'CSE'},\n",
        "      {'Name':'sham','Roll':1002,'Branch':'CSE'},\n",
        "      {'Name':'ranjit','Roll':1003,'Branch':'ECE'}]\n",
        "df=pd.DataFrame(data)\n",
        "print(df)\n",
        "df.loc[2,'Roll']=1010\n",
        "print(df)"
      ],
      "metadata": {
        "colab": {
          "base_uri": "https://localhost:8080/"
        },
        "id": "eRqHwTbKyLGs",
        "outputId": "f9651bc9-a6aa-451d-b567-c6cdad1fb87e"
      },
      "execution_count": null,
      "outputs": [
        {
          "output_type": "stream",
          "name": "stdout",
          "text": [
            "     Name  Roll Branch\n",
            "0    rama  1001    CSE\n",
            "1    sham  1002    CSE\n",
            "2  ranjit  1003    ECE\n",
            "     Name  Roll Branch\n",
            "0    rama  1001    CSE\n",
            "1    sham  1002    CSE\n",
            "2  ranjit  1010    ECE\n"
          ]
        }
      ]
    },
    {
      "cell_type": "code",
      "source": [
        "import pandas as pd\n",
        "dict1={'id':[1,2,3,4],'value1':['a','b','c','d'],'value2':['a','b','d','f']}\n",
        "dict2={'id':[2,4,5,7],'value1':['A','C','G','F'],'value2':['A','B','D','F']}\n",
        "df1=pd.DataFrame(dict1)\n",
        "df2=pd.DataFrame(dict2)\n",
        "print(df1)\n",
        "print(df2)\n",
        "df3=pd.concat([df1,df2])\n",
        "print(df3)"
      ],
      "metadata": {
        "colab": {
          "base_uri": "https://localhost:8080/"
        },
        "id": "4Xe5mRgobpAU",
        "outputId": "e6a5a8aa-338a-4cff-cc4e-aeeb4151e355"
      },
      "execution_count": null,
      "outputs": [
        {
          "output_type": "stream",
          "name": "stdout",
          "text": [
            "   id value1 value2\n",
            "0   1      a      a\n",
            "1   2      b      b\n",
            "2   3      c      d\n",
            "3   4      d      f\n",
            "   id value1 value2\n",
            "0   2      A      A\n",
            "1   4      C      B\n",
            "2   5      G      D\n",
            "3   7      F      F\n",
            "   id value1 value2\n",
            "0   1      a      a\n",
            "1   2      b      b\n",
            "2   3      c      d\n",
            "3   4      d      f\n",
            "0   2      A      A\n",
            "1   4      C      B\n",
            "2   5      G      D\n",
            "3   7      F      F\n"
          ]
        }
      ]
    },
    {
      "cell_type": "code",
      "source": [
        "import pandas as pd\n",
        "dict1={'id':[1,2,3,4],'value1':['a','b','c','d'],'value2':['a','b','d','f']}\n",
        "dict2={'id':[2,4,5,7],'value1':['A','C','G','F'],'value2':['A','B','D','F']}\n",
        "df1=pd.DataFrame(dict1)\n",
        "df2=pd.DataFrame(dict2)\n",
        "print(df1,df2)\n",
        "df3=pd.concat([df1,df2],ignore_index=True)\n",
        "print(df3)"
      ],
      "metadata": {
        "colab": {
          "base_uri": "https://localhost:8080/"
        },
        "id": "t4CYhGPmfqgt",
        "outputId": "8074effb-0685-42d4-efa1-9257f3c4a527"
      },
      "execution_count": null,
      "outputs": [
        {
          "output_type": "stream",
          "name": "stdout",
          "text": [
            "   id value1 value2\n",
            "0   1      a      a\n",
            "1   2      b      b\n",
            "2   3      c      d\n",
            "3   4      d      f    id value1 value2\n",
            "0   2      A      A\n",
            "1   4      C      B\n",
            "2   5      G      D\n",
            "3   7      F      F\n",
            "   id value1 value2\n",
            "0   1      a      a\n",
            "1   2      b      b\n",
            "2   3      c      d\n",
            "3   4      d      f\n",
            "4   2      A      A\n",
            "5   4      C      B\n",
            "6   5      G      D\n",
            "7   7      F      F\n"
          ]
        }
      ]
    },
    {
      "cell_type": "code",
      "source": [
        "import pandas as pd\n",
        "dict1={'id':[1,2,3,4],'value1':['a','b','c','d'],'value2':['a','b','d','f']}\n",
        "dict2={'id':[2,4,5,7],'value1':['A','C','G','F'],'value2':['A','B','D','F']}\n",
        "df1=pd.DataFrame(dict1)\n",
        "df2=pd.DataFrame(dict2)\n",
        "print(df1,df2)\n",
        "df3=pd.concat([df1,df2],join=\"outer\",ignore_index=True)\n",
        "print(df3)"
      ],
      "metadata": {
        "colab": {
          "base_uri": "https://localhost:8080/"
        },
        "id": "aeIB_EleiAmN",
        "outputId": "41ceb7d0-062f-4710-f33e-9eca91dbb3f5"
      },
      "execution_count": null,
      "outputs": [
        {
          "output_type": "stream",
          "name": "stdout",
          "text": [
            "   id value1 value2\n",
            "0   1      a      a\n",
            "1   2      b      b\n",
            "2   3      c      d\n",
            "3   4      d      f    id value1 value2\n",
            "0   2      A      A\n",
            "1   4      C      B\n",
            "2   5      G      D\n",
            "3   7      F      F\n",
            "   id value1 value2\n",
            "0   1      a      a\n",
            "1   2      b      b\n",
            "2   3      c      d\n",
            "3   4      d      f\n",
            "4   2      A      A\n",
            "5   4      C      B\n",
            "6   5      G      D\n",
            "7   7      F      F\n"
          ]
        }
      ]
    },
    {
      "cell_type": "code",
      "source": [
        "import pandas as pd\n",
        "dict1={'id':[1,2,3,4],'value1':['a','b','c','d'],'value2':['a','b','d','f']}\n",
        "dict2={'id':[2,4,5,7],'value1':['A','C','G','F'],'value2':['A','B','D','F']}\n",
        "df1=pd.DataFrame(dict1)\n",
        "df2=pd.DataFrame(dict2)\n",
        "print(df1,df2)\n",
        "df3=pd.concat([df1,df2],axis=1)\n",
        "print(df3)"
      ],
      "metadata": {
        "colab": {
          "base_uri": "https://localhost:8080/"
        },
        "id": "Qgm9y1O8iMG0",
        "outputId": "c32b7959-17d2-4220-e569-0e1b3ca5c252"
      },
      "execution_count": null,
      "outputs": [
        {
          "output_type": "stream",
          "name": "stdout",
          "text": [
            "   id value1 value2\n",
            "0   1      a      a\n",
            "1   2      b      b\n",
            "2   3      c      d\n",
            "3   4      d      f    id value1 value2\n",
            "0   2      A      A\n",
            "1   4      C      B\n",
            "2   5      G      D\n",
            "3   7      F      F\n",
            "   id value1 value2  id value1 value2\n",
            "0   1      a      a   2      A      A\n",
            "1   2      b      b   4      C      B\n",
            "2   3      c      d   5      G      D\n",
            "3   4      d      f   7      F      F\n"
          ]
        }
      ]
    },
    {
      "cell_type": "code",
      "source": [
        "import pandas as pd\n",
        "dict1={'id':[1,2,3,4],'value1':['a','b','c','d'],'value2':['a','b','d','f']}\n",
        "dict2={'id':[2,4,5,7],'value1':['A','C','G','F'],'value2':['A','B','D','F']}\n",
        "df1=pd.DataFrame(dict1)\n",
        "df2=pd.DataFrame(dict2)\n",
        "print(df1,df2)\n",
        "df3=pd.merge(df1,df2,on='id',how='outer')\n",
        "print(df3)"
      ],
      "metadata": {
        "colab": {
          "base_uri": "https://localhost:8080/"
        },
        "id": "mlBFOPmOk3P9",
        "outputId": "049b7955-4d4e-42c0-ee3b-1159d5cfb2bb"
      },
      "execution_count": null,
      "outputs": [
        {
          "output_type": "stream",
          "name": "stdout",
          "text": [
            "   id value1 value2\n",
            "0   1      a      a\n",
            "1   2      b      b\n",
            "2   3      c      d\n",
            "3   4      d      f    id value1 value2\n",
            "0   2      A      A\n",
            "1   4      C      B\n",
            "2   5      G      D\n",
            "3   7      F      F\n",
            "   id value1_x value2_x value1_y value2_y\n",
            "0   1        a        a      NaN      NaN\n",
            "1   2        b        b        A        A\n",
            "2   3        c        d      NaN      NaN\n",
            "3   4        d        f        C        B\n",
            "4   5      NaN      NaN        G        D\n",
            "5   7      NaN      NaN        F        F\n"
          ]
        }
      ]
    },
    {
      "cell_type": "code",
      "source": [
        "import pandas as pd\n",
        "dict1={'id':[1,2,3,4],'value1':['a','b','c','d'],'value2':['a','b','d','f']}\n",
        "dict2={'id':[2,4,5,7],'value1':['A','C','G','F'],'value2':['A','B','D','F']}\n",
        "df1=pd.DataFrame(dict1)\n",
        "df2=pd.DataFrame(dict2)\n",
        "print(df1,df2)\n",
        "df3=pd.merge(df1,df2,on='id',how='inner')\n",
        "print(df3)"
      ],
      "metadata": {
        "colab": {
          "base_uri": "https://localhost:8080/"
        },
        "id": "DNO3iLFDm1vN",
        "outputId": "d46af05f-4d40-4d3f-8d0e-7f7773b9b053"
      },
      "execution_count": null,
      "outputs": [
        {
          "output_type": "stream",
          "name": "stdout",
          "text": [
            "   id value1 value2\n",
            "0   1      a      a\n",
            "1   2      b      b\n",
            "2   3      c      d\n",
            "3   4      d      f    id value1 value2\n",
            "0   2      A      A\n",
            "1   4      C      B\n",
            "2   5      G      D\n",
            "3   7      F      F\n",
            "   id value1_x value2_x value1_y value2_y\n",
            "0   2        b        b        A        A\n",
            "1   4        d        f        C        B\n"
          ]
        }
      ]
    },
    {
      "cell_type": "code",
      "source": [
        "import pandas as pd\n",
        "dict1={'id':[1,2,3,4],'value1':['a','b','c','d'],'value2':['a','b','d','f']}\n",
        "dict2={'id':[2,4,5,7],'value1':['A','C','G','F'],'value2':['A','B','D','F']}\n",
        "df1=pd.DataFrame(dict1)\n",
        "df2=pd.DataFrame(dict2)\n",
        "print(df1,df2)\n",
        "df3=pd.merge(df1,df2,left_on='value1',right_on='value1',how='outer')\n",
        "print(df3)"
      ],
      "metadata": {
        "colab": {
          "base_uri": "https://localhost:8080/"
        },
        "id": "8WoVSYUWm97z",
        "outputId": "64352bd3-6ad3-4f20-b076-ce258de10c0a"
      },
      "execution_count": null,
      "outputs": [
        {
          "output_type": "stream",
          "name": "stdout",
          "text": [
            "   id value1 value2\n",
            "0   1      a      a\n",
            "1   2      b      b\n",
            "2   3      c      d\n",
            "3   4      d      f    id value1 value2\n",
            "0   2      A      A\n",
            "1   4      C      B\n",
            "2   5      G      D\n",
            "3   7      F      F\n",
            "   id_x value1 value2_x  id_y value2_y\n",
            "0   1.0      a        a   NaN      NaN\n",
            "1   2.0      b        b   NaN      NaN\n",
            "2   3.0      c        d   NaN      NaN\n",
            "3   4.0      d        f   NaN      NaN\n",
            "4   NaN      A      NaN   2.0        A\n",
            "5   NaN      C      NaN   4.0        B\n",
            "6   NaN      G      NaN   5.0        D\n",
            "7   NaN      F      NaN   7.0        F\n"
          ]
        }
      ]
    },
    {
      "cell_type": "code",
      "source": [
        "import pandas as pd\n",
        "dict1={'id':[1,2,3,4],'value1':['a','b','c','d'],'value2':['a','b','d','f']}\n",
        "dict2={'id':[2,4,5,7],'value1':['A','C','G','F'],'value2':['A','B','D','F']}\n",
        "df1=pd.DataFrame(dict1)\n",
        "df2=pd.DataFrame(dict2)\n",
        "print(df1,df2)\n",
        "df3=pd.merge(df1,df2,left_on='value1',right_on='value1',how='outer')\n",
        "print(df3.head())"
      ],
      "metadata": {
        "colab": {
          "base_uri": "https://localhost:8080/"
        },
        "id": "6-Ucupgzph6U",
        "outputId": "fbbc2213-6372-4993-9da8-08b26616d8fe"
      },
      "execution_count": null,
      "outputs": [
        {
          "output_type": "stream",
          "name": "stdout",
          "text": [
            "   id value1 value2\n",
            "0   1      a      a\n",
            "1   2      b      b\n",
            "2   3      c      d\n",
            "3   4      d      f    id value1 value2\n",
            "0   2      A      A\n",
            "1   4      C      B\n",
            "2   5      G      D\n",
            "3   7      F      F\n",
            "   id_x value1 value2_x  id_y value2_y\n",
            "0   1.0      a        a   NaN      NaN\n",
            "1   2.0      b        b   NaN      NaN\n",
            "2   3.0      c        d   NaN      NaN\n",
            "3   4.0      d        f   NaN      NaN\n",
            "4   NaN      A      NaN   2.0        A\n"
          ]
        }
      ]
    },
    {
      "cell_type": "code",
      "source": [
        "import pandas as pd\n",
        "dict1={'id':[1,2,3,4],'value1':['a','b','c','d'],'value2':['a','b','d','f']}\n",
        "dict2={'id':[2,4,5,7],'value1':['A','C','G','F'],'value2':['A','B','D','F']}\n",
        "df1=pd.DataFrame(dict1)\n",
        "df2=pd.DataFrame(dict2)\n",
        "print(df1,df2)\n",
        "df3=pd.merge(df1,df2,left_on='value1',right_on='value1',how='outer')\n",
        "print(df3.tail())"
      ],
      "metadata": {
        "colab": {
          "base_uri": "https://localhost:8080/"
        },
        "id": "XdOqAfiiqYyd",
        "outputId": "45dae536-da42-43f7-be11-3eeb032fe9c4"
      },
      "execution_count": null,
      "outputs": [
        {
          "output_type": "stream",
          "name": "stdout",
          "text": [
            "   id value1 value2\n",
            "0   1      a      a\n",
            "1   2      b      b\n",
            "2   3      c      d\n",
            "3   4      d      f    id value1 value2\n",
            "0   2      A      A\n",
            "1   4      C      B\n",
            "2   5      G      D\n",
            "3   7      F      F\n",
            "   id_x value1 value2_x  id_y value2_y\n",
            "3   4.0      d        f   NaN      NaN\n",
            "4   NaN      A      NaN   2.0        A\n",
            "5   NaN      C      NaN   4.0        B\n",
            "6   NaN      G      NaN   5.0        D\n",
            "7   NaN      F      NaN   7.0        F\n"
          ]
        }
      ]
    },
    {
      "cell_type": "code",
      "source": [
        "import pandas as pd\n",
        "dict1={'marks':[40,50,95,80],'value1':['a','b','c','d'],'value2':['a','b','d','f']}\n",
        "dict2={'marks':[20,60,40,90],'value1':['A','C','G','F'],'value2':['A','B','D','F']}\n",
        "df1=pd.DataFrame(dict1)\n",
        "df2=pd.DataFrame(dict2)\n",
        "print(df1,df2)\n",
        "df3=pd.merge(df1,df2,on='marks',how='outer')\n",
        "print(df3[df3['marks']>=40])"
      ],
      "metadata": {
        "colab": {
          "base_uri": "https://localhost:8080/"
        },
        "id": "bY9--88cqzem",
        "outputId": "624a39f8-96b0-445c-90d0-e0d431f8ebc9"
      },
      "execution_count": null,
      "outputs": [
        {
          "output_type": "stream",
          "name": "stdout",
          "text": [
            "   marks value1 value2\n",
            "0     40      a      a\n",
            "1     50      b      b\n",
            "2     95      c      d\n",
            "3     80      d      f    marks value1 value2\n",
            "0     20      A      A\n",
            "1     60      C      B\n",
            "2     40      G      D\n",
            "3     90      F      F\n",
            "   marks value1_x value2_x value1_y value2_y\n",
            "0     40        a        a        G        D\n",
            "1     50        b        b      NaN      NaN\n",
            "2     95        c        d      NaN      NaN\n",
            "3     80        d        f      NaN      NaN\n",
            "5     60      NaN      NaN        C        B\n",
            "6     90      NaN      NaN        F        F\n"
          ]
        }
      ]
    },
    {
      "cell_type": "code",
      "source": [
        "import pandas as pd\n",
        "dict1={'marks':[40,50,95,80],'value1':['a','b','c','d'],'value2':['a','b','d','f']}\n",
        "dict2={'marks':[20,60,40,90],'value1':['A','C','G','F'],'value2':['A','B','D','F']}\n",
        "df1=pd.DataFrame(dict1)\n",
        "df2=pd.DataFrame(dict2)\n",
        "print(df1,df2)\n",
        "df3=pd.merge(df1,df2,on='marks',how='outer')\n",
        "print(df3[df3['marks']>=80])"
      ],
      "metadata": {
        "colab": {
          "base_uri": "https://localhost:8080/"
        },
        "id": "yfzO-YuWsWvt",
        "outputId": "7618829d-b863-4103-cb6c-61c45c0f4086"
      },
      "execution_count": null,
      "outputs": [
        {
          "output_type": "stream",
          "name": "stdout",
          "text": [
            "   marks value1 value2\n",
            "0     40      a      a\n",
            "1     50      b      b\n",
            "2     95      c      d\n",
            "3     80      d      f    marks value1 value2\n",
            "0     20      A      A\n",
            "1     60      C      B\n",
            "2     40      G      D\n",
            "3     90      F      F\n",
            "   marks value1_x value2_x value1_y value2_y\n",
            "2     95        c        d      NaN      NaN\n",
            "3     80        d        f      NaN      NaN\n",
            "6     90      NaN      NaN        F        F\n"
          ]
        }
      ]
    },
    {
      "cell_type": "code",
      "source": [
        "import pandas as pd\n",
        "d={'std1':{'Rollno':1,'Name':'rama'},\n",
        "'std2':{'Rollno':2,'Name':'syama'},\n",
        "'std3':{'Rollno':3,'Name':'kiran'}}\n",
        "p=pd.DataFrame.from_dict(d,orient='index')\n",
        "print(p['Name'])"
      ],
      "metadata": {
        "id": "Dos_Z55ZtGNd",
        "outputId": "a188e0ab-a4de-42ae-a924-f8de770f8466",
        "colab": {
          "base_uri": "https://localhost:8080/"
        }
      },
      "execution_count": null,
      "outputs": [
        {
          "output_type": "stream",
          "name": "stdout",
          "text": [
            "std1     rama\n",
            "std2    syama\n",
            "std3    kiran\n",
            "Name: Name, dtype: object\n"
          ]
        }
      ]
    },
    {
      "cell_type": "code",
      "source": [
        "import pandas as pd\n",
        "data={'id1':{'Rollno':1,'Name':'rama'}, 'id2':{'Rollno':2,'Name':'syama'},'id3':{'Rollno':3,'Name':'kiran'}}\n",
        "a=input('enter id')\n",
        "df=pd.DateFrame(data)\n",
        "print(df[a])"
      ],
      "metadata": {
        "id": "Rg-btIg219zi"
      },
      "execution_count": null,
      "outputs": []
    },
    {
      "cell_type": "code",
      "source": [
        "import pandas as pd\n",
        "data={'roll':[1001,1002,1003], 'name':['rama','shyama','sita'],'marks':[90.3,67.7,58.9]}\n",
        "df=pd.DataFrame(data)\n",
        "print(df)\n",
        "r=int(input('enter the roll number\\n'))\n",
        "u=float(input('enter the marks to update\\n'))\n",
        "df.loc[df['roll']==r,'marks']=u\n",
        "print(df)"
      ],
      "metadata": {
        "id": "GbZyhTel4XPw",
        "colab": {
          "base_uri": "https://localhost:8080/"
        },
        "outputId": "91464d93-8ba7-4e5d-bc05-1a6abd8ccad3"
      },
      "execution_count": null,
      "outputs": [
        {
          "output_type": "stream",
          "name": "stdout",
          "text": [
            "   roll    name  marks\n",
            "0  1001    rama   90.3\n",
            "1  1002  shyama   67.7\n",
            "2  1003    sita   58.9\n",
            "enter the roll number\n",
            "1001\n",
            "enter the marks to update\n",
            "89.0\n",
            "   roll    name  marks\n",
            "0  1001    rama   89.0\n",
            "1  1002  shyama   67.7\n",
            "2  1003    sita   58.9\n"
          ]
        }
      ]
    },
    {
      "cell_type": "code",
      "source": [
        "import pandas as pd\n",
        "data={'std1':{'Rollno':1,'Name':'rama'}, 'std2':{'Rollno':2,'Name':'syama'},'std3':{'Rollno':3,'Name':'kiran'}}\n",
        "df=pd.DataFrame(data)\n",
        "print(df)\n",
        "a=input('enter the character\\n')\n",
        "df.loc['name','std1']=a\n",
        "print(df)"
      ],
      "metadata": {
        "colab": {
          "base_uri": "https://localhost:8080/"
        },
        "id": "aTWhCRuOgHcP",
        "outputId": "2697830f-9004-4a91-a4e3-17d9f2302009"
      },
      "execution_count": null,
      "outputs": [
        {
          "output_type": "stream",
          "name": "stdout",
          "text": [
            "        std1   std2   std3\n",
            "Rollno     1      2      3\n",
            "Name    rama  syama  kiran\n",
            "enter the character\n",
            "keerthan\n",
            "            std1   std2   std3\n",
            "Rollno         1      2      3\n",
            "Name        rama  syama  kiran\n",
            "name    keerthan    NaN    NaN\n"
          ]
        }
      ]
    },
    {
      "cell_type": "code",
      "source": [
        "def Search(arr, n, a):\n",
        "    for i in range(0,n):\n",
        "      if(arr[i]== a):\n",
        "        return i\n",
        "    return -1\n",
        "arr = [1,2,3,4,5]\n",
        "a=5\n",
        "n = len(arr)\n",
        "res = Search(arr,n,a)\n",
        "if(res == -1):\n",
        "  print(\"element not found\")\n",
        "else:\n",
        "  print(\"element found at index: \",res)"
      ],
      "metadata": {
        "colab": {
          "base_uri": "https://localhost:8080/"
        },
        "id": "vQaqX_YfkZd1",
        "outputId": "eb759114-5ef0-48e8-8c69-3a214b1fa020"
      },
      "execution_count": null,
      "outputs": [
        {
          "output_type": "stream",
          "name": "stdout",
          "text": [
            "element found at index:  4\n"
          ]
        }
      ]
    },
    {
      "cell_type": "code",
      "source": [
        "def Search(L,start , end, item):\n",
        "    if(end>=start):\n",
        "      middle = (start +end)\n",
        "      if(L[middle]== item):\n",
        "        return middle\n",
        "      elif(L[middle]>item):\n",
        "        return Search(L,start, middle-1,item)\n",
        "      else:\n",
        "        return Search(L,middle-1,end,item)\n",
        "    else:\n",
        "      return -1\n",
        "lis = [1,2,3,4,5,6,7,8,9,10]\n",
        "Search_element = 5\n",
        "print(\"the given list is :\")\n",
        "print(lis)\n",
        "Element_index = Search(lis, 0,len(lis)-1,Search_element)\n",
        "if Element_index != -1:\n",
        "  print(\"element found at position number :\",str(Element_index))\n",
        "else:\n",
        "  print(\"element not found in the given list\")\n"
      ],
      "metadata": {
        "colab": {
          "base_uri": "https://localhost:8080/"
        },
        "id": "Yum8yRA5p4wf",
        "outputId": "8ca9dbc2-5abe-492c-d91c-ce1ada62dd5c"
      },
      "execution_count": null,
      "outputs": [
        {
          "output_type": "stream",
          "name": "stdout",
          "text": [
            "the given list is :\n",
            "[1, 2, 3, 4, 5, 6, 7, 8, 9, 10]\n",
            "element found at position number : 4\n"
          ]
        }
      ]
    },
    {
      "cell_type": "code",
      "source": [
        "def insertionSort(arr):\n",
        "\tn = len(arr)\n",
        "\n",
        "\tif n <= 1:\n",
        "\t\treturn\n",
        "\tfor i in range(1, n):\n",
        "\t\tkey = arr[i]\n",
        "\t\tj = i-1\n",
        "\t\twhile j >= 0 and key < arr[j]:\n",
        "\t\t\tarr[j+1] = arr[j]\n",
        "\t\t\tj -= 1\n",
        "\t\tarr[j+1] = key\n",
        "arr = [12, 11, 13, 5, 6]\n",
        "insertionSort(arr)\n",
        "print(arr)\n"
      ],
      "metadata": {
        "colab": {
          "base_uri": "https://localhost:8080/"
        },
        "id": "DqZA2MdiuARc",
        "outputId": "a005d121-7e30-448d-b91d-a59820c1f3c8"
      },
      "execution_count": null,
      "outputs": [
        {
          "output_type": "stream",
          "name": "stdout",
          "text": [
            "[5, 6, 11, 12, 13]\n"
          ]
        }
      ]
    },
    {
      "cell_type": "code",
      "source": [
        "def selectionSort(array, size):\n",
        "\n",
        "\tfor ind in range(size):\n",
        "\t\tmin_index = ind\n",
        "\n",
        "\t\tfor j in range(ind + 1, size):\n",
        "\t\t\tif array[j] < array[min_index]:\n",
        "\t\t\t\tmin_index = j\n",
        "\t\t(array[ind], array[min_index]) = (array[min_index], array[ind])\n",
        "arr = [-1,29,-3,10,324,-8,22,-58,243, 983,-24]\n",
        "size = len(arr)\n",
        "selectionSort(arr, size)\n",
        "print('The array after sorting in Ascending Order by selection sort is:')\n",
        "print(arr)\n"
      ],
      "metadata": {
        "colab": {
          "base_uri": "https://localhost:8080/"
        },
        "id": "w21WJerPvVmy",
        "outputId": "d52c0ce4-6d2b-4158-c638-cc7e9ab77e80"
      },
      "execution_count": null,
      "outputs": [
        {
          "output_type": "stream",
          "name": "stdout",
          "text": [
            "The array after sorting in Ascending Order by selection sort is:\n",
            "[-58, -24, -8, -3, -1, 10, 22, 29, 243, 324, 983]\n"
          ]
        }
      ]
    },
    {
      "cell_type": "code",
      "source": [
        "def mergeSort(size,array):\n",
        "  for i in range(size):\n",
        "    min_index = ind\n"
      ],
      "metadata": {
        "id": "_1lplCBsyct5"
      },
      "execution_count": null,
      "outputs": []
    },
    {
      "cell_type": "code",
      "source": [
        "from itertools import permutations\n",
        "def solve_cryptarithmetic():\n",
        "    letters = 'SENDMORY'\n",
        "    for perm in permutations('0123456789', len(letters)):\n",
        "        mapping = dict(zip(letters, perm))\n",
        "        if mapping['S'] == '0' or mapping['M'] == '0':\n",
        "            continue\n",
        "        send = int(\"\".join(mapping[c] for c in \"SEND\"))\n",
        "        more = int(\"\".join(mapping[c] for c in \"MORE\"))\n",
        "        money = int(\"\".join(mapping[c] for c in \"MONEY\"))\n",
        "        if send + more == money:\n",
        "            print(f\"SEND + MORE = MONEY\")\n",
        "            print(f\"{send} + {more} = {money}\")\n",
        "            print(f\"Mapping: {mapping}\")\n",
        "            return mapping\n",
        "    print(\"No solution found.\")\n",
        "    return None\n",
        "solve_cryptarithmetic()\n"
      ],
      "metadata": {
        "colab": {
          "base_uri": "https://localhost:8080/"
        },
        "id": "D4NfVB5TDxHS",
        "outputId": "1730e0bf-0be8-41c9-f678-eb8893f7e401"
      },
      "execution_count": null,
      "outputs": [
        {
          "output_type": "stream",
          "name": "stdout",
          "text": [
            "SEND + MORE = MONEY\n",
            "9567 + 1085 = 10652\n",
            "Mapping: {'S': '9', 'E': '5', 'N': '6', 'D': '7', 'M': '1', 'O': '0', 'R': '8', 'Y': '2'}\n"
          ]
        },
        {
          "output_type": "execute_result",
          "data": {
            "text/plain": [
              "{'S': '9',\n",
              " 'E': '5',\n",
              " 'N': '6',\n",
              " 'D': '7',\n",
              " 'M': '1',\n",
              " 'O': '0',\n",
              " 'R': '8',\n",
              " 'Y': '2'}"
            ]
          },
          "metadata": {},
          "execution_count": 1
        }
      ]
    },
    {
      "cell_type": "code",
      "source": [
        "from itertools import permutations\n",
        "def solve_cryptarithmetic():\n",
        "    letters = 'BASELGM'\n",
        "    for perm in permutations('0123456789', len(letters)):\n",
        "        mapping = dict(zip(letters, perm))\n",
        "        if mapping['B'] == '0' or mapping['M'] == '0':\n",
        "            continue\n",
        "        base = int(\"\".join(mapping[c] for c in \"BASE\"))\n",
        "        ball = int(\"\".join(mapping[c] for c in \"BALL\"))\n",
        "        games = int(\"\".join(mapping[c] for c in \"GAMES\"))\n",
        "        if base + ball == games:\n",
        "            print(f\"BASE + BALL = GAMES\")\n",
        "            print(f\"{base} + {ball} = {games}\")\n",
        "            print(f\"Mapping: {mapping}\")\n",
        "            return mapping\n",
        "    print(\"No solution found.\")\n",
        "    return None\n",
        "solve_cryptarithmetic()\n"
      ],
      "metadata": {
        "colab": {
          "base_uri": "https://localhost:8080/"
        },
        "id": "MrLcDoZZFSs6",
        "outputId": "b5ae5319-19f3-430c-9a26-477bbfc9e5df"
      },
      "execution_count": null,
      "outputs": [
        {
          "output_type": "stream",
          "name": "stdout",
          "text": [
            "BASE + BALL = GAMES\n",
            "2461 + 2455 = 4916\n",
            "Mapping: {'B': '2', 'A': '4', 'S': '6', 'E': '1', 'L': '5', 'G': '0', 'M': '9'}\n"
          ]
        },
        {
          "output_type": "execute_result",
          "data": {
            "text/plain": [
              "{'B': '2', 'A': '4', 'S': '6', 'E': '1', 'L': '5', 'G': '0', 'M': '9'}"
            ]
          },
          "metadata": {},
          "execution_count": 4
        }
      ]
    },
    {
      "cell_type": "code",
      "source": [
        "import numpy as np"
      ],
      "metadata": {
        "id": "bagThb-qt5gc"
      },
      "execution_count": null,
      "outputs": []
    },
    {
      "cell_type": "code",
      "source": [
        "import seaborn as sns"
      ],
      "metadata": {
        "id": "UxvxEO_bt8jW"
      },
      "execution_count": null,
      "outputs": []
    },
    {
      "cell_type": "code",
      "source": [
        "import pandas as pd"
      ],
      "metadata": {
        "id": "b0zO_uUkt_LN"
      },
      "execution_count": null,
      "outputs": []
    },
    {
      "cell_type": "code",
      "source": [
        "df = pd.read_csv('/content/csv')\n",
        "df"
      ],
      "metadata": {
        "colab": {
          "base_uri": "https://localhost:8080/",
          "height": 704
        },
        "id": "Obz2vW5vuEs2",
        "outputId": "15581766-e3fc-42eb-a437-47a4c1ea4ae9"
      },
      "execution_count": null,
      "outputs": [
        {
          "output_type": "execute_result",
          "data": {
            "text/plain": [
              "                    state        district      market              commodity  \\\n",
              "0     Andaman and Nicobar   South Andaman  Port Blair             Amaranthus   \n",
              "1     Andaman and Nicobar   South Andaman  Port Blair         Banana - Green   \n",
              "2     Andaman and Nicobar   South Andaman  Port Blair  Bhindi(Ladies Finger)   \n",
              "3     Andaman and Nicobar   South Andaman  Port Blair           Bitter gourd   \n",
              "4     Andaman and Nicobar   South Andaman  Port Blair           Black pepper   \n",
              "...                   ...             ...         ...                    ...   \n",
              "2233          West Bengal  Uttar Dinajpur    Islampur                 Potato   \n",
              "2234          West Bengal  Uttar Dinajpur    Islampur                   Rice   \n",
              "2235          West Bengal  Uttar Dinajpur     Raiganj                   Jute   \n",
              "2236          West Bengal  Uttar Dinajpur     Raiganj                   Rice   \n",
              "2237          West Bengal  Uttar Dinajpur     Raiganj                  Wheat   \n",
              "\n",
              "             variety arrival_date  min_price  max_price  modal_price  \n",
              "0         Amaranthus   04/03/2019       6000       8000         7000  \n",
              "1     Banana - Green   04/03/2019       4500       5500         5000  \n",
              "2             Bhindi   04/03/2019       6000       8000         7000  \n",
              "3              Other   04/03/2019       6000       8000         7000  \n",
              "4              Other   04/03/2019     110000     130000       120000  \n",
              "...              ...          ...        ...        ...          ...  \n",
              "2233           Jyoti   08/03/2019        530        570          550  \n",
              "2234           Other   08/03/2019       3550       3650         3600  \n",
              "2235            TD-5   08/03/2019       4400       4600         4500  \n",
              "2236           Other   08/03/2019       3450       3550         3500  \n",
              "2237          Kalyan   08/03/2019       2075       2125         2100  \n",
              "\n",
              "[2238 rows x 9 columns]"
            ],
            "text/html": [
              "\n",
              "  <div id=\"df-364b455b-5fb6-4607-a515-ea0fccaa9153\" class=\"colab-df-container\">\n",
              "    <div>\n",
              "<style scoped>\n",
              "    .dataframe tbody tr th:only-of-type {\n",
              "        vertical-align: middle;\n",
              "    }\n",
              "\n",
              "    .dataframe tbody tr th {\n",
              "        vertical-align: top;\n",
              "    }\n",
              "\n",
              "    .dataframe thead th {\n",
              "        text-align: right;\n",
              "    }\n",
              "</style>\n",
              "<table border=\"1\" class=\"dataframe\">\n",
              "  <thead>\n",
              "    <tr style=\"text-align: right;\">\n",
              "      <th></th>\n",
              "      <th>state</th>\n",
              "      <th>district</th>\n",
              "      <th>market</th>\n",
              "      <th>commodity</th>\n",
              "      <th>variety</th>\n",
              "      <th>arrival_date</th>\n",
              "      <th>min_price</th>\n",
              "      <th>max_price</th>\n",
              "      <th>modal_price</th>\n",
              "    </tr>\n",
              "  </thead>\n",
              "  <tbody>\n",
              "    <tr>\n",
              "      <th>0</th>\n",
              "      <td>Andaman and Nicobar</td>\n",
              "      <td>South Andaman</td>\n",
              "      <td>Port Blair</td>\n",
              "      <td>Amaranthus</td>\n",
              "      <td>Amaranthus</td>\n",
              "      <td>04/03/2019</td>\n",
              "      <td>6000</td>\n",
              "      <td>8000</td>\n",
              "      <td>7000</td>\n",
              "    </tr>\n",
              "    <tr>\n",
              "      <th>1</th>\n",
              "      <td>Andaman and Nicobar</td>\n",
              "      <td>South Andaman</td>\n",
              "      <td>Port Blair</td>\n",
              "      <td>Banana - Green</td>\n",
              "      <td>Banana - Green</td>\n",
              "      <td>04/03/2019</td>\n",
              "      <td>4500</td>\n",
              "      <td>5500</td>\n",
              "      <td>5000</td>\n",
              "    </tr>\n",
              "    <tr>\n",
              "      <th>2</th>\n",
              "      <td>Andaman and Nicobar</td>\n",
              "      <td>South Andaman</td>\n",
              "      <td>Port Blair</td>\n",
              "      <td>Bhindi(Ladies Finger)</td>\n",
              "      <td>Bhindi</td>\n",
              "      <td>04/03/2019</td>\n",
              "      <td>6000</td>\n",
              "      <td>8000</td>\n",
              "      <td>7000</td>\n",
              "    </tr>\n",
              "    <tr>\n",
              "      <th>3</th>\n",
              "      <td>Andaman and Nicobar</td>\n",
              "      <td>South Andaman</td>\n",
              "      <td>Port Blair</td>\n",
              "      <td>Bitter gourd</td>\n",
              "      <td>Other</td>\n",
              "      <td>04/03/2019</td>\n",
              "      <td>6000</td>\n",
              "      <td>8000</td>\n",
              "      <td>7000</td>\n",
              "    </tr>\n",
              "    <tr>\n",
              "      <th>4</th>\n",
              "      <td>Andaman and Nicobar</td>\n",
              "      <td>South Andaman</td>\n",
              "      <td>Port Blair</td>\n",
              "      <td>Black pepper</td>\n",
              "      <td>Other</td>\n",
              "      <td>04/03/2019</td>\n",
              "      <td>110000</td>\n",
              "      <td>130000</td>\n",
              "      <td>120000</td>\n",
              "    </tr>\n",
              "    <tr>\n",
              "      <th>...</th>\n",
              "      <td>...</td>\n",
              "      <td>...</td>\n",
              "      <td>...</td>\n",
              "      <td>...</td>\n",
              "      <td>...</td>\n",
              "      <td>...</td>\n",
              "      <td>...</td>\n",
              "      <td>...</td>\n",
              "      <td>...</td>\n",
              "    </tr>\n",
              "    <tr>\n",
              "      <th>2233</th>\n",
              "      <td>West Bengal</td>\n",
              "      <td>Uttar Dinajpur</td>\n",
              "      <td>Islampur</td>\n",
              "      <td>Potato</td>\n",
              "      <td>Jyoti</td>\n",
              "      <td>08/03/2019</td>\n",
              "      <td>530</td>\n",
              "      <td>570</td>\n",
              "      <td>550</td>\n",
              "    </tr>\n",
              "    <tr>\n",
              "      <th>2234</th>\n",
              "      <td>West Bengal</td>\n",
              "      <td>Uttar Dinajpur</td>\n",
              "      <td>Islampur</td>\n",
              "      <td>Rice</td>\n",
              "      <td>Other</td>\n",
              "      <td>08/03/2019</td>\n",
              "      <td>3550</td>\n",
              "      <td>3650</td>\n",
              "      <td>3600</td>\n",
              "    </tr>\n",
              "    <tr>\n",
              "      <th>2235</th>\n",
              "      <td>West Bengal</td>\n",
              "      <td>Uttar Dinajpur</td>\n",
              "      <td>Raiganj</td>\n",
              "      <td>Jute</td>\n",
              "      <td>TD-5</td>\n",
              "      <td>08/03/2019</td>\n",
              "      <td>4400</td>\n",
              "      <td>4600</td>\n",
              "      <td>4500</td>\n",
              "    </tr>\n",
              "    <tr>\n",
              "      <th>2236</th>\n",
              "      <td>West Bengal</td>\n",
              "      <td>Uttar Dinajpur</td>\n",
              "      <td>Raiganj</td>\n",
              "      <td>Rice</td>\n",
              "      <td>Other</td>\n",
              "      <td>08/03/2019</td>\n",
              "      <td>3450</td>\n",
              "      <td>3550</td>\n",
              "      <td>3500</td>\n",
              "    </tr>\n",
              "    <tr>\n",
              "      <th>2237</th>\n",
              "      <td>West Bengal</td>\n",
              "      <td>Uttar Dinajpur</td>\n",
              "      <td>Raiganj</td>\n",
              "      <td>Wheat</td>\n",
              "      <td>Kalyan</td>\n",
              "      <td>08/03/2019</td>\n",
              "      <td>2075</td>\n",
              "      <td>2125</td>\n",
              "      <td>2100</td>\n",
              "    </tr>\n",
              "  </tbody>\n",
              "</table>\n",
              "<p>2238 rows × 9 columns</p>\n",
              "</div>\n",
              "    <div class=\"colab-df-buttons\">\n",
              "\n",
              "  <div class=\"colab-df-container\">\n",
              "    <button class=\"colab-df-convert\" onclick=\"convertToInteractive('df-364b455b-5fb6-4607-a515-ea0fccaa9153')\"\n",
              "            title=\"Convert this dataframe to an interactive table.\"\n",
              "            style=\"display:none;\">\n",
              "\n",
              "  <svg xmlns=\"http://www.w3.org/2000/svg\" height=\"24px\" viewBox=\"0 -960 960 960\">\n",
              "    <path d=\"M120-120v-720h720v720H120Zm60-500h600v-160H180v160Zm220 220h160v-160H400v160Zm0 220h160v-160H400v160ZM180-400h160v-160H180v160Zm440 0h160v-160H620v160ZM180-180h160v-160H180v160Zm440 0h160v-160H620v160Z\"/>\n",
              "  </svg>\n",
              "    </button>\n",
              "\n",
              "  <style>\n",
              "    .colab-df-container {\n",
              "      display:flex;\n",
              "      gap: 12px;\n",
              "    }\n",
              "\n",
              "    .colab-df-convert {\n",
              "      background-color: #E8F0FE;\n",
              "      border: none;\n",
              "      border-radius: 50%;\n",
              "      cursor: pointer;\n",
              "      display: none;\n",
              "      fill: #1967D2;\n",
              "      height: 32px;\n",
              "      padding: 0 0 0 0;\n",
              "      width: 32px;\n",
              "    }\n",
              "\n",
              "    .colab-df-convert:hover {\n",
              "      background-color: #E2EBFA;\n",
              "      box-shadow: 0px 1px 2px rgba(60, 64, 67, 0.3), 0px 1px 3px 1px rgba(60, 64, 67, 0.15);\n",
              "      fill: #174EA6;\n",
              "    }\n",
              "\n",
              "    .colab-df-buttons div {\n",
              "      margin-bottom: 4px;\n",
              "    }\n",
              "\n",
              "    [theme=dark] .colab-df-convert {\n",
              "      background-color: #3B4455;\n",
              "      fill: #D2E3FC;\n",
              "    }\n",
              "\n",
              "    [theme=dark] .colab-df-convert:hover {\n",
              "      background-color: #434B5C;\n",
              "      box-shadow: 0px 1px 3px 1px rgba(0, 0, 0, 0.15);\n",
              "      filter: drop-shadow(0px 1px 2px rgba(0, 0, 0, 0.3));\n",
              "      fill: #FFFFFF;\n",
              "    }\n",
              "  </style>\n",
              "\n",
              "    <script>\n",
              "      const buttonEl =\n",
              "        document.querySelector('#df-364b455b-5fb6-4607-a515-ea0fccaa9153 button.colab-df-convert');\n",
              "      buttonEl.style.display =\n",
              "        google.colab.kernel.accessAllowed ? 'block' : 'none';\n",
              "\n",
              "      async function convertToInteractive(key) {\n",
              "        const element = document.querySelector('#df-364b455b-5fb6-4607-a515-ea0fccaa9153');\n",
              "        const dataTable =\n",
              "          await google.colab.kernel.invokeFunction('convertToInteractive',\n",
              "                                                    [key], {});\n",
              "        if (!dataTable) return;\n",
              "\n",
              "        const docLinkHtml = 'Like what you see? Visit the ' +\n",
              "          '<a target=\"_blank\" href=https://colab.research.google.com/notebooks/data_table.ipynb>data table notebook</a>'\n",
              "          + ' to learn more about interactive tables.';\n",
              "        element.innerHTML = '';\n",
              "        dataTable['output_type'] = 'display_data';\n",
              "        await google.colab.output.renderOutput(dataTable, element);\n",
              "        const docLink = document.createElement('div');\n",
              "        docLink.innerHTML = docLinkHtml;\n",
              "        element.appendChild(docLink);\n",
              "      }\n",
              "    </script>\n",
              "  </div>\n",
              "\n",
              "\n",
              "<div id=\"df-5cdf3ec0-31a4-4bd2-8ac0-b5da3b7dd20a\">\n",
              "  <button class=\"colab-df-quickchart\" onclick=\"quickchart('df-5cdf3ec0-31a4-4bd2-8ac0-b5da3b7dd20a')\"\n",
              "            title=\"Suggest charts\"\n",
              "            style=\"display:none;\">\n",
              "\n",
              "<svg xmlns=\"http://www.w3.org/2000/svg\" height=\"24px\"viewBox=\"0 0 24 24\"\n",
              "     width=\"24px\">\n",
              "    <g>\n",
              "        <path d=\"M19 3H5c-1.1 0-2 .9-2 2v14c0 1.1.9 2 2 2h14c1.1 0 2-.9 2-2V5c0-1.1-.9-2-2-2zM9 17H7v-7h2v7zm4 0h-2V7h2v10zm4 0h-2v-4h2v4z\"/>\n",
              "    </g>\n",
              "</svg>\n",
              "  </button>\n",
              "\n",
              "<style>\n",
              "  .colab-df-quickchart {\n",
              "      --bg-color: #E8F0FE;\n",
              "      --fill-color: #1967D2;\n",
              "      --hover-bg-color: #E2EBFA;\n",
              "      --hover-fill-color: #174EA6;\n",
              "      --disabled-fill-color: #AAA;\n",
              "      --disabled-bg-color: #DDD;\n",
              "  }\n",
              "\n",
              "  [theme=dark] .colab-df-quickchart {\n",
              "      --bg-color: #3B4455;\n",
              "      --fill-color: #D2E3FC;\n",
              "      --hover-bg-color: #434B5C;\n",
              "      --hover-fill-color: #FFFFFF;\n",
              "      --disabled-bg-color: #3B4455;\n",
              "      --disabled-fill-color: #666;\n",
              "  }\n",
              "\n",
              "  .colab-df-quickchart {\n",
              "    background-color: var(--bg-color);\n",
              "    border: none;\n",
              "    border-radius: 50%;\n",
              "    cursor: pointer;\n",
              "    display: none;\n",
              "    fill: var(--fill-color);\n",
              "    height: 32px;\n",
              "    padding: 0;\n",
              "    width: 32px;\n",
              "  }\n",
              "\n",
              "  .colab-df-quickchart:hover {\n",
              "    background-color: var(--hover-bg-color);\n",
              "    box-shadow: 0 1px 2px rgba(60, 64, 67, 0.3), 0 1px 3px 1px rgba(60, 64, 67, 0.15);\n",
              "    fill: var(--button-hover-fill-color);\n",
              "  }\n",
              "\n",
              "  .colab-df-quickchart-complete:disabled,\n",
              "  .colab-df-quickchart-complete:disabled:hover {\n",
              "    background-color: var(--disabled-bg-color);\n",
              "    fill: var(--disabled-fill-color);\n",
              "    box-shadow: none;\n",
              "  }\n",
              "\n",
              "  .colab-df-spinner {\n",
              "    border: 2px solid var(--fill-color);\n",
              "    border-color: transparent;\n",
              "    border-bottom-color: var(--fill-color);\n",
              "    animation:\n",
              "      spin 1s steps(1) infinite;\n",
              "  }\n",
              "\n",
              "  @keyframes spin {\n",
              "    0% {\n",
              "      border-color: transparent;\n",
              "      border-bottom-color: var(--fill-color);\n",
              "      border-left-color: var(--fill-color);\n",
              "    }\n",
              "    20% {\n",
              "      border-color: transparent;\n",
              "      border-left-color: var(--fill-color);\n",
              "      border-top-color: var(--fill-color);\n",
              "    }\n",
              "    30% {\n",
              "      border-color: transparent;\n",
              "      border-left-color: var(--fill-color);\n",
              "      border-top-color: var(--fill-color);\n",
              "      border-right-color: var(--fill-color);\n",
              "    }\n",
              "    40% {\n",
              "      border-color: transparent;\n",
              "      border-right-color: var(--fill-color);\n",
              "      border-top-color: var(--fill-color);\n",
              "    }\n",
              "    60% {\n",
              "      border-color: transparent;\n",
              "      border-right-color: var(--fill-color);\n",
              "    }\n",
              "    80% {\n",
              "      border-color: transparent;\n",
              "      border-right-color: var(--fill-color);\n",
              "      border-bottom-color: var(--fill-color);\n",
              "    }\n",
              "    90% {\n",
              "      border-color: transparent;\n",
              "      border-bottom-color: var(--fill-color);\n",
              "    }\n",
              "  }\n",
              "</style>\n",
              "\n",
              "  <script>\n",
              "    async function quickchart(key) {\n",
              "      const quickchartButtonEl =\n",
              "        document.querySelector('#' + key + ' button');\n",
              "      quickchartButtonEl.disabled = true;  // To prevent multiple clicks.\n",
              "      quickchartButtonEl.classList.add('colab-df-spinner');\n",
              "      try {\n",
              "        const charts = await google.colab.kernel.invokeFunction(\n",
              "            'suggestCharts', [key], {});\n",
              "      } catch (error) {\n",
              "        console.error('Error during call to suggestCharts:', error);\n",
              "      }\n",
              "      quickchartButtonEl.classList.remove('colab-df-spinner');\n",
              "      quickchartButtonEl.classList.add('colab-df-quickchart-complete');\n",
              "    }\n",
              "    (() => {\n",
              "      let quickchartButtonEl =\n",
              "        document.querySelector('#df-5cdf3ec0-31a4-4bd2-8ac0-b5da3b7dd20a button');\n",
              "      quickchartButtonEl.style.display =\n",
              "        google.colab.kernel.accessAllowed ? 'block' : 'none';\n",
              "    })();\n",
              "  </script>\n",
              "</div>\n",
              "\n",
              "  <div id=\"id_a8310ef3-e0df-4d3b-a86b-e6993a058157\">\n",
              "    <style>\n",
              "      .colab-df-generate {\n",
              "        background-color: #E8F0FE;\n",
              "        border: none;\n",
              "        border-radius: 50%;\n",
              "        cursor: pointer;\n",
              "        display: none;\n",
              "        fill: #1967D2;\n",
              "        height: 32px;\n",
              "        padding: 0 0 0 0;\n",
              "        width: 32px;\n",
              "      }\n",
              "\n",
              "      .colab-df-generate:hover {\n",
              "        background-color: #E2EBFA;\n",
              "        box-shadow: 0px 1px 2px rgba(60, 64, 67, 0.3), 0px 1px 3px 1px rgba(60, 64, 67, 0.15);\n",
              "        fill: #174EA6;\n",
              "      }\n",
              "\n",
              "      [theme=dark] .colab-df-generate {\n",
              "        background-color: #3B4455;\n",
              "        fill: #D2E3FC;\n",
              "      }\n",
              "\n",
              "      [theme=dark] .colab-df-generate:hover {\n",
              "        background-color: #434B5C;\n",
              "        box-shadow: 0px 1px 3px 1px rgba(0, 0, 0, 0.15);\n",
              "        filter: drop-shadow(0px 1px 2px rgba(0, 0, 0, 0.3));\n",
              "        fill: #FFFFFF;\n",
              "      }\n",
              "    </style>\n",
              "    <button class=\"colab-df-generate\" onclick=\"generateWithVariable('df')\"\n",
              "            title=\"Generate code using this dataframe.\"\n",
              "            style=\"display:none;\">\n",
              "\n",
              "  <svg xmlns=\"http://www.w3.org/2000/svg\" height=\"24px\"viewBox=\"0 0 24 24\"\n",
              "       width=\"24px\">\n",
              "    <path d=\"M7,19H8.4L18.45,9,17,7.55,7,17.6ZM5,21V16.75L18.45,3.32a2,2,0,0,1,2.83,0l1.4,1.43a1.91,1.91,0,0,1,.58,1.4,1.91,1.91,0,0,1-.58,1.4L9.25,21ZM18.45,9,17,7.55Zm-12,3A5.31,5.31,0,0,0,4.9,8.1,5.31,5.31,0,0,0,1,6.5,5.31,5.31,0,0,0,4.9,4.9,5.31,5.31,0,0,0,6.5,1,5.31,5.31,0,0,0,8.1,4.9,5.31,5.31,0,0,0,12,6.5,5.46,5.46,0,0,0,6.5,12Z\"/>\n",
              "  </svg>\n",
              "    </button>\n",
              "    <script>\n",
              "      (() => {\n",
              "      const buttonEl =\n",
              "        document.querySelector('#id_a8310ef3-e0df-4d3b-a86b-e6993a058157 button.colab-df-generate');\n",
              "      buttonEl.style.display =\n",
              "        google.colab.kernel.accessAllowed ? 'block' : 'none';\n",
              "\n",
              "      buttonEl.onclick = () => {\n",
              "        google.colab.notebook.generateWithVariable('df');\n",
              "      }\n",
              "      })();\n",
              "    </script>\n",
              "  </div>\n",
              "\n",
              "    </div>\n",
              "  </div>\n"
            ],
            "application/vnd.google.colaboratory.intrinsic+json": {
              "type": "dataframe",
              "variable_name": "df",
              "summary": "{\n  \"name\": \"df\",\n  \"rows\": 2238,\n  \"fields\": [\n    {\n      \"column\": \"state\",\n      \"properties\": {\n        \"dtype\": \"category\",\n        \"num_unique_values\": 26,\n        \"samples\": [\n          \"Jammu and Kashmir\",\n          \"Odisha\",\n          \"Andaman and Nicobar\"\n        ],\n        \"semantic_type\": \"\",\n        \"description\": \"\"\n      }\n    },\n    {\n      \"column\": \"district\",\n      \"properties\": {\n        \"dtype\": \"category\",\n        \"num_unique_values\": 174,\n        \"samples\": [\n          \"Rampur\",\n          \"Jhansi\",\n          \"Coimbatore\"\n        ],\n        \"semantic_type\": \"\",\n        \"description\": \"\"\n      }\n    },\n    {\n      \"column\": \"market\",\n      \"properties\": {\n        \"dtype\": \"category\",\n        \"num_unique_values\": 326,\n        \"samples\": [\n          \"Rajapalayam\",\n          \"Parlakhemundi\",\n          \"Achnera\"\n        ],\n        \"semantic_type\": \"\",\n        \"description\": \"\"\n      }\n    },\n    {\n      \"column\": \"commodity\",\n      \"properties\": {\n        \"dtype\": \"category\",\n        \"num_unique_values\": 156,\n        \"samples\": [\n          \"Water Melon\",\n          \"Papaya (Raw)\",\n          \"Mashrooms\"\n        ],\n        \"semantic_type\": \"\",\n        \"description\": \"\"\n      }\n    },\n    {\n      \"column\": \"variety\",\n      \"properties\": {\n        \"dtype\": \"category\",\n        \"num_unique_values\": 218,\n        \"samples\": [\n          \"Rasakathai\",\n          \"Moath Dal\",\n          \"Hybrid Red (Cattle Feed)\"\n        ],\n        \"semantic_type\": \"\",\n        \"description\": \"\"\n      }\n    },\n    {\n      \"column\": \"arrival_date\",\n      \"properties\": {\n        \"dtype\": \"object\",\n        \"num_unique_values\": 2,\n        \"samples\": [\n          \"08/03/2019\",\n          \"04/03/2019\"\n        ],\n        \"semantic_type\": \"\",\n        \"description\": \"\"\n      }\n    },\n    {\n      \"column\": \"min_price\",\n      \"properties\": {\n        \"dtype\": \"number\",\n        \"std\": 3452,\n        \"min\": 0,\n        \"max\": 110000,\n        \"num_unique_values\": 417,\n        \"samples\": [\n          1650,\n          520\n        ],\n        \"semantic_type\": \"\",\n        \"description\": \"\"\n      }\n    },\n    {\n      \"column\": \"max_price\",\n      \"properties\": {\n        \"dtype\": \"number\",\n        \"std\": 3917,\n        \"min\": 0,\n        \"max\": 130000,\n        \"num_unique_values\": 482,\n        \"samples\": [\n          4120,\n          6700\n        ],\n        \"semantic_type\": \"\",\n        \"description\": \"\"\n      }\n    },\n    {\n      \"column\": \"modal_price\",\n      \"properties\": {\n        \"dtype\": \"number\",\n        \"std\": 3694,\n        \"min\": 2,\n        \"max\": 120000,\n        \"num_unique_values\": 506,\n        \"samples\": [\n          910,\n          1280\n        ],\n        \"semantic_type\": \"\",\n        \"description\": \"\"\n      }\n    }\n  ]\n}"
            }
          },
          "metadata": {},
          "execution_count": 65
        }
      ]
    },
    {
      "cell_type": "code",
      "source": [
        "df.info()"
      ],
      "metadata": {
        "colab": {
          "base_uri": "https://localhost:8080/"
        },
        "id": "y2PjijptuQ3g",
        "outputId": "2203e371-d55b-4d24-f337-be5909dd4af6"
      },
      "execution_count": null,
      "outputs": [
        {
          "output_type": "stream",
          "name": "stdout",
          "text": [
            "<class 'pandas.core.frame.DataFrame'>\n",
            "RangeIndex: 2238 entries, 0 to 2237\n",
            "Data columns (total 9 columns):\n",
            " #   Column        Non-Null Count  Dtype \n",
            "---  ------        --------------  ----- \n",
            " 0   state         2238 non-null   object\n",
            " 1   district      2238 non-null   object\n",
            " 2   market        2238 non-null   object\n",
            " 3   commodity     2238 non-null   object\n",
            " 4   variety       2238 non-null   object\n",
            " 5   arrival_date  2238 non-null   object\n",
            " 6   min_price     2238 non-null   int64 \n",
            " 7   max_price     2238 non-null   int64 \n",
            " 8   modal_price   2238 non-null   int64 \n",
            "dtypes: int64(3), object(6)\n",
            "memory usage: 157.5+ KB\n"
          ]
        }
      ]
    },
    {
      "cell_type": "code",
      "source": [
        "df.isnull().sum()"
      ],
      "metadata": {
        "colab": {
          "base_uri": "https://localhost:8080/",
          "height": 366
        },
        "id": "O-3IuRyduUL1",
        "outputId": "5db785ad-7472-4a68-94d6-9276a2284db6"
      },
      "execution_count": null,
      "outputs": [
        {
          "output_type": "execute_result",
          "data": {
            "text/plain": [
              "state           0\n",
              "district        0\n",
              "market          0\n",
              "commodity       0\n",
              "variety         0\n",
              "arrival_date    0\n",
              "min_price       0\n",
              "max_price       0\n",
              "modal_price     0\n",
              "dtype: int64"
            ],
            "text/html": [
              "<div>\n",
              "<style scoped>\n",
              "    .dataframe tbody tr th:only-of-type {\n",
              "        vertical-align: middle;\n",
              "    }\n",
              "\n",
              "    .dataframe tbody tr th {\n",
              "        vertical-align: top;\n",
              "    }\n",
              "\n",
              "    .dataframe thead th {\n",
              "        text-align: right;\n",
              "    }\n",
              "</style>\n",
              "<table border=\"1\" class=\"dataframe\">\n",
              "  <thead>\n",
              "    <tr style=\"text-align: right;\">\n",
              "      <th></th>\n",
              "      <th>0</th>\n",
              "    </tr>\n",
              "  </thead>\n",
              "  <tbody>\n",
              "    <tr>\n",
              "      <th>state</th>\n",
              "      <td>0</td>\n",
              "    </tr>\n",
              "    <tr>\n",
              "      <th>district</th>\n",
              "      <td>0</td>\n",
              "    </tr>\n",
              "    <tr>\n",
              "      <th>market</th>\n",
              "      <td>0</td>\n",
              "    </tr>\n",
              "    <tr>\n",
              "      <th>commodity</th>\n",
              "      <td>0</td>\n",
              "    </tr>\n",
              "    <tr>\n",
              "      <th>variety</th>\n",
              "      <td>0</td>\n",
              "    </tr>\n",
              "    <tr>\n",
              "      <th>arrival_date</th>\n",
              "      <td>0</td>\n",
              "    </tr>\n",
              "    <tr>\n",
              "      <th>min_price</th>\n",
              "      <td>0</td>\n",
              "    </tr>\n",
              "    <tr>\n",
              "      <th>max_price</th>\n",
              "      <td>0</td>\n",
              "    </tr>\n",
              "    <tr>\n",
              "      <th>modal_price</th>\n",
              "      <td>0</td>\n",
              "    </tr>\n",
              "  </tbody>\n",
              "</table>\n",
              "</div><br><label><b>dtype:</b> int64</label>"
            ]
          },
          "metadata": {},
          "execution_count": 67
        }
      ]
    },
    {
      "cell_type": "code",
      "source": [
        "df.head(6)"
      ],
      "metadata": {
        "colab": {
          "base_uri": "https://localhost:8080/",
          "height": 445
        },
        "id": "RfpJcfHcuZcN",
        "outputId": "73328151-1676-4c7c-d404-2e2528a6d49f"
      },
      "execution_count": null,
      "outputs": [
        {
          "output_type": "execute_result",
          "data": {
            "text/plain": [
              "                 state       district      market              commodity  \\\n",
              "0  Andaman and Nicobar  South Andaman  Port Blair             Amaranthus   \n",
              "1  Andaman and Nicobar  South Andaman  Port Blair         Banana - Green   \n",
              "2  Andaman and Nicobar  South Andaman  Port Blair  Bhindi(Ladies Finger)   \n",
              "3  Andaman and Nicobar  South Andaman  Port Blair           Bitter gourd   \n",
              "4  Andaman and Nicobar  South Andaman  Port Blair           Black pepper   \n",
              "5  Andaman and Nicobar  South Andaman  Port Blair           Bottle gourd   \n",
              "\n",
              "          variety arrival_date  min_price  max_price  modal_price  \n",
              "0      Amaranthus   04/03/2019       6000       8000         7000  \n",
              "1  Banana - Green   04/03/2019       4500       5500         5000  \n",
              "2          Bhindi   04/03/2019       6000       8000         7000  \n",
              "3           Other   04/03/2019       6000       8000         7000  \n",
              "4           Other   04/03/2019     110000     130000       120000  \n",
              "5           Other   04/03/2019       3000       4000         3500  "
            ],
            "text/html": [
              "\n",
              "  <div id=\"df-cdfd2c47-bb59-4469-a25c-4b0540a8a96f\" class=\"colab-df-container\">\n",
              "    <div>\n",
              "<style scoped>\n",
              "    .dataframe tbody tr th:only-of-type {\n",
              "        vertical-align: middle;\n",
              "    }\n",
              "\n",
              "    .dataframe tbody tr th {\n",
              "        vertical-align: top;\n",
              "    }\n",
              "\n",
              "    .dataframe thead th {\n",
              "        text-align: right;\n",
              "    }\n",
              "</style>\n",
              "<table border=\"1\" class=\"dataframe\">\n",
              "  <thead>\n",
              "    <tr style=\"text-align: right;\">\n",
              "      <th></th>\n",
              "      <th>state</th>\n",
              "      <th>district</th>\n",
              "      <th>market</th>\n",
              "      <th>commodity</th>\n",
              "      <th>variety</th>\n",
              "      <th>arrival_date</th>\n",
              "      <th>min_price</th>\n",
              "      <th>max_price</th>\n",
              "      <th>modal_price</th>\n",
              "    </tr>\n",
              "  </thead>\n",
              "  <tbody>\n",
              "    <tr>\n",
              "      <th>0</th>\n",
              "      <td>Andaman and Nicobar</td>\n",
              "      <td>South Andaman</td>\n",
              "      <td>Port Blair</td>\n",
              "      <td>Amaranthus</td>\n",
              "      <td>Amaranthus</td>\n",
              "      <td>04/03/2019</td>\n",
              "      <td>6000</td>\n",
              "      <td>8000</td>\n",
              "      <td>7000</td>\n",
              "    </tr>\n",
              "    <tr>\n",
              "      <th>1</th>\n",
              "      <td>Andaman and Nicobar</td>\n",
              "      <td>South Andaman</td>\n",
              "      <td>Port Blair</td>\n",
              "      <td>Banana - Green</td>\n",
              "      <td>Banana - Green</td>\n",
              "      <td>04/03/2019</td>\n",
              "      <td>4500</td>\n",
              "      <td>5500</td>\n",
              "      <td>5000</td>\n",
              "    </tr>\n",
              "    <tr>\n",
              "      <th>2</th>\n",
              "      <td>Andaman and Nicobar</td>\n",
              "      <td>South Andaman</td>\n",
              "      <td>Port Blair</td>\n",
              "      <td>Bhindi(Ladies Finger)</td>\n",
              "      <td>Bhindi</td>\n",
              "      <td>04/03/2019</td>\n",
              "      <td>6000</td>\n",
              "      <td>8000</td>\n",
              "      <td>7000</td>\n",
              "    </tr>\n",
              "    <tr>\n",
              "      <th>3</th>\n",
              "      <td>Andaman and Nicobar</td>\n",
              "      <td>South Andaman</td>\n",
              "      <td>Port Blair</td>\n",
              "      <td>Bitter gourd</td>\n",
              "      <td>Other</td>\n",
              "      <td>04/03/2019</td>\n",
              "      <td>6000</td>\n",
              "      <td>8000</td>\n",
              "      <td>7000</td>\n",
              "    </tr>\n",
              "    <tr>\n",
              "      <th>4</th>\n",
              "      <td>Andaman and Nicobar</td>\n",
              "      <td>South Andaman</td>\n",
              "      <td>Port Blair</td>\n",
              "      <td>Black pepper</td>\n",
              "      <td>Other</td>\n",
              "      <td>04/03/2019</td>\n",
              "      <td>110000</td>\n",
              "      <td>130000</td>\n",
              "      <td>120000</td>\n",
              "    </tr>\n",
              "    <tr>\n",
              "      <th>5</th>\n",
              "      <td>Andaman and Nicobar</td>\n",
              "      <td>South Andaman</td>\n",
              "      <td>Port Blair</td>\n",
              "      <td>Bottle gourd</td>\n",
              "      <td>Other</td>\n",
              "      <td>04/03/2019</td>\n",
              "      <td>3000</td>\n",
              "      <td>4000</td>\n",
              "      <td>3500</td>\n",
              "    </tr>\n",
              "  </tbody>\n",
              "</table>\n",
              "</div>\n",
              "    <div class=\"colab-df-buttons\">\n",
              "\n",
              "  <div class=\"colab-df-container\">\n",
              "    <button class=\"colab-df-convert\" onclick=\"convertToInteractive('df-cdfd2c47-bb59-4469-a25c-4b0540a8a96f')\"\n",
              "            title=\"Convert this dataframe to an interactive table.\"\n",
              "            style=\"display:none;\">\n",
              "\n",
              "  <svg xmlns=\"http://www.w3.org/2000/svg\" height=\"24px\" viewBox=\"0 -960 960 960\">\n",
              "    <path d=\"M120-120v-720h720v720H120Zm60-500h600v-160H180v160Zm220 220h160v-160H400v160Zm0 220h160v-160H400v160ZM180-400h160v-160H180v160Zm440 0h160v-160H620v160ZM180-180h160v-160H180v160Zm440 0h160v-160H620v160Z\"/>\n",
              "  </svg>\n",
              "    </button>\n",
              "\n",
              "  <style>\n",
              "    .colab-df-container {\n",
              "      display:flex;\n",
              "      gap: 12px;\n",
              "    }\n",
              "\n",
              "    .colab-df-convert {\n",
              "      background-color: #E8F0FE;\n",
              "      border: none;\n",
              "      border-radius: 50%;\n",
              "      cursor: pointer;\n",
              "      display: none;\n",
              "      fill: #1967D2;\n",
              "      height: 32px;\n",
              "      padding: 0 0 0 0;\n",
              "      width: 32px;\n",
              "    }\n",
              "\n",
              "    .colab-df-convert:hover {\n",
              "      background-color: #E2EBFA;\n",
              "      box-shadow: 0px 1px 2px rgba(60, 64, 67, 0.3), 0px 1px 3px 1px rgba(60, 64, 67, 0.15);\n",
              "      fill: #174EA6;\n",
              "    }\n",
              "\n",
              "    .colab-df-buttons div {\n",
              "      margin-bottom: 4px;\n",
              "    }\n",
              "\n",
              "    [theme=dark] .colab-df-convert {\n",
              "      background-color: #3B4455;\n",
              "      fill: #D2E3FC;\n",
              "    }\n",
              "\n",
              "    [theme=dark] .colab-df-convert:hover {\n",
              "      background-color: #434B5C;\n",
              "      box-shadow: 0px 1px 3px 1px rgba(0, 0, 0, 0.15);\n",
              "      filter: drop-shadow(0px 1px 2px rgba(0, 0, 0, 0.3));\n",
              "      fill: #FFFFFF;\n",
              "    }\n",
              "  </style>\n",
              "\n",
              "    <script>\n",
              "      const buttonEl =\n",
              "        document.querySelector('#df-cdfd2c47-bb59-4469-a25c-4b0540a8a96f button.colab-df-convert');\n",
              "      buttonEl.style.display =\n",
              "        google.colab.kernel.accessAllowed ? 'block' : 'none';\n",
              "\n",
              "      async function convertToInteractive(key) {\n",
              "        const element = document.querySelector('#df-cdfd2c47-bb59-4469-a25c-4b0540a8a96f');\n",
              "        const dataTable =\n",
              "          await google.colab.kernel.invokeFunction('convertToInteractive',\n",
              "                                                    [key], {});\n",
              "        if (!dataTable) return;\n",
              "\n",
              "        const docLinkHtml = 'Like what you see? Visit the ' +\n",
              "          '<a target=\"_blank\" href=https://colab.research.google.com/notebooks/data_table.ipynb>data table notebook</a>'\n",
              "          + ' to learn more about interactive tables.';\n",
              "        element.innerHTML = '';\n",
              "        dataTable['output_type'] = 'display_data';\n",
              "        await google.colab.output.renderOutput(dataTable, element);\n",
              "        const docLink = document.createElement('div');\n",
              "        docLink.innerHTML = docLinkHtml;\n",
              "        element.appendChild(docLink);\n",
              "      }\n",
              "    </script>\n",
              "  </div>\n",
              "\n",
              "\n",
              "<div id=\"df-c797e15a-6788-481f-a6f6-497347d89f2a\">\n",
              "  <button class=\"colab-df-quickchart\" onclick=\"quickchart('df-c797e15a-6788-481f-a6f6-497347d89f2a')\"\n",
              "            title=\"Suggest charts\"\n",
              "            style=\"display:none;\">\n",
              "\n",
              "<svg xmlns=\"http://www.w3.org/2000/svg\" height=\"24px\"viewBox=\"0 0 24 24\"\n",
              "     width=\"24px\">\n",
              "    <g>\n",
              "        <path d=\"M19 3H5c-1.1 0-2 .9-2 2v14c0 1.1.9 2 2 2h14c1.1 0 2-.9 2-2V5c0-1.1-.9-2-2-2zM9 17H7v-7h2v7zm4 0h-2V7h2v10zm4 0h-2v-4h2v4z\"/>\n",
              "    </g>\n",
              "</svg>\n",
              "  </button>\n",
              "\n",
              "<style>\n",
              "  .colab-df-quickchart {\n",
              "      --bg-color: #E8F0FE;\n",
              "      --fill-color: #1967D2;\n",
              "      --hover-bg-color: #E2EBFA;\n",
              "      --hover-fill-color: #174EA6;\n",
              "      --disabled-fill-color: #AAA;\n",
              "      --disabled-bg-color: #DDD;\n",
              "  }\n",
              "\n",
              "  [theme=dark] .colab-df-quickchart {\n",
              "      --bg-color: #3B4455;\n",
              "      --fill-color: #D2E3FC;\n",
              "      --hover-bg-color: #434B5C;\n",
              "      --hover-fill-color: #FFFFFF;\n",
              "      --disabled-bg-color: #3B4455;\n",
              "      --disabled-fill-color: #666;\n",
              "  }\n",
              "\n",
              "  .colab-df-quickchart {\n",
              "    background-color: var(--bg-color);\n",
              "    border: none;\n",
              "    border-radius: 50%;\n",
              "    cursor: pointer;\n",
              "    display: none;\n",
              "    fill: var(--fill-color);\n",
              "    height: 32px;\n",
              "    padding: 0;\n",
              "    width: 32px;\n",
              "  }\n",
              "\n",
              "  .colab-df-quickchart:hover {\n",
              "    background-color: var(--hover-bg-color);\n",
              "    box-shadow: 0 1px 2px rgba(60, 64, 67, 0.3), 0 1px 3px 1px rgba(60, 64, 67, 0.15);\n",
              "    fill: var(--button-hover-fill-color);\n",
              "  }\n",
              "\n",
              "  .colab-df-quickchart-complete:disabled,\n",
              "  .colab-df-quickchart-complete:disabled:hover {\n",
              "    background-color: var(--disabled-bg-color);\n",
              "    fill: var(--disabled-fill-color);\n",
              "    box-shadow: none;\n",
              "  }\n",
              "\n",
              "  .colab-df-spinner {\n",
              "    border: 2px solid var(--fill-color);\n",
              "    border-color: transparent;\n",
              "    border-bottom-color: var(--fill-color);\n",
              "    animation:\n",
              "      spin 1s steps(1) infinite;\n",
              "  }\n",
              "\n",
              "  @keyframes spin {\n",
              "    0% {\n",
              "      border-color: transparent;\n",
              "      border-bottom-color: var(--fill-color);\n",
              "      border-left-color: var(--fill-color);\n",
              "    }\n",
              "    20% {\n",
              "      border-color: transparent;\n",
              "      border-left-color: var(--fill-color);\n",
              "      border-top-color: var(--fill-color);\n",
              "    }\n",
              "    30% {\n",
              "      border-color: transparent;\n",
              "      border-left-color: var(--fill-color);\n",
              "      border-top-color: var(--fill-color);\n",
              "      border-right-color: var(--fill-color);\n",
              "    }\n",
              "    40% {\n",
              "      border-color: transparent;\n",
              "      border-right-color: var(--fill-color);\n",
              "      border-top-color: var(--fill-color);\n",
              "    }\n",
              "    60% {\n",
              "      border-color: transparent;\n",
              "      border-right-color: var(--fill-color);\n",
              "    }\n",
              "    80% {\n",
              "      border-color: transparent;\n",
              "      border-right-color: var(--fill-color);\n",
              "      border-bottom-color: var(--fill-color);\n",
              "    }\n",
              "    90% {\n",
              "      border-color: transparent;\n",
              "      border-bottom-color: var(--fill-color);\n",
              "    }\n",
              "  }\n",
              "</style>\n",
              "\n",
              "  <script>\n",
              "    async function quickchart(key) {\n",
              "      const quickchartButtonEl =\n",
              "        document.querySelector('#' + key + ' button');\n",
              "      quickchartButtonEl.disabled = true;  // To prevent multiple clicks.\n",
              "      quickchartButtonEl.classList.add('colab-df-spinner');\n",
              "      try {\n",
              "        const charts = await google.colab.kernel.invokeFunction(\n",
              "            'suggestCharts', [key], {});\n",
              "      } catch (error) {\n",
              "        console.error('Error during call to suggestCharts:', error);\n",
              "      }\n",
              "      quickchartButtonEl.classList.remove('colab-df-spinner');\n",
              "      quickchartButtonEl.classList.add('colab-df-quickchart-complete');\n",
              "    }\n",
              "    (() => {\n",
              "      let quickchartButtonEl =\n",
              "        document.querySelector('#df-c797e15a-6788-481f-a6f6-497347d89f2a button');\n",
              "      quickchartButtonEl.style.display =\n",
              "        google.colab.kernel.accessAllowed ? 'block' : 'none';\n",
              "    })();\n",
              "  </script>\n",
              "</div>\n",
              "\n",
              "    </div>\n",
              "  </div>\n"
            ],
            "application/vnd.google.colaboratory.intrinsic+json": {
              "type": "dataframe",
              "variable_name": "df",
              "summary": "{\n  \"name\": \"df\",\n  \"rows\": 2238,\n  \"fields\": [\n    {\n      \"column\": \"state\",\n      \"properties\": {\n        \"dtype\": \"category\",\n        \"num_unique_values\": 26,\n        \"samples\": [\n          \"Jammu and Kashmir\",\n          \"Odisha\",\n          \"Andaman and Nicobar\"\n        ],\n        \"semantic_type\": \"\",\n        \"description\": \"\"\n      }\n    },\n    {\n      \"column\": \"district\",\n      \"properties\": {\n        \"dtype\": \"category\",\n        \"num_unique_values\": 174,\n        \"samples\": [\n          \"Rampur\",\n          \"Jhansi\",\n          \"Coimbatore\"\n        ],\n        \"semantic_type\": \"\",\n        \"description\": \"\"\n      }\n    },\n    {\n      \"column\": \"market\",\n      \"properties\": {\n        \"dtype\": \"category\",\n        \"num_unique_values\": 326,\n        \"samples\": [\n          \"Rajapalayam\",\n          \"Parlakhemundi\",\n          \"Achnera\"\n        ],\n        \"semantic_type\": \"\",\n        \"description\": \"\"\n      }\n    },\n    {\n      \"column\": \"commodity\",\n      \"properties\": {\n        \"dtype\": \"category\",\n        \"num_unique_values\": 156,\n        \"samples\": [\n          \"Water Melon\",\n          \"Papaya (Raw)\",\n          \"Mashrooms\"\n        ],\n        \"semantic_type\": \"\",\n        \"description\": \"\"\n      }\n    },\n    {\n      \"column\": \"variety\",\n      \"properties\": {\n        \"dtype\": \"category\",\n        \"num_unique_values\": 218,\n        \"samples\": [\n          \"Rasakathai\",\n          \"Moath Dal\",\n          \"Hybrid Red (Cattle Feed)\"\n        ],\n        \"semantic_type\": \"\",\n        \"description\": \"\"\n      }\n    },\n    {\n      \"column\": \"arrival_date\",\n      \"properties\": {\n        \"dtype\": \"object\",\n        \"num_unique_values\": 2,\n        \"samples\": [\n          \"08/03/2019\",\n          \"04/03/2019\"\n        ],\n        \"semantic_type\": \"\",\n        \"description\": \"\"\n      }\n    },\n    {\n      \"column\": \"min_price\",\n      \"properties\": {\n        \"dtype\": \"number\",\n        \"std\": 3452,\n        \"min\": 0,\n        \"max\": 110000,\n        \"num_unique_values\": 417,\n        \"samples\": [\n          1650,\n          520\n        ],\n        \"semantic_type\": \"\",\n        \"description\": \"\"\n      }\n    },\n    {\n      \"column\": \"max_price\",\n      \"properties\": {\n        \"dtype\": \"number\",\n        \"std\": 3917,\n        \"min\": 0,\n        \"max\": 130000,\n        \"num_unique_values\": 482,\n        \"samples\": [\n          4120,\n          6700\n        ],\n        \"semantic_type\": \"\",\n        \"description\": \"\"\n      }\n    },\n    {\n      \"column\": \"modal_price\",\n      \"properties\": {\n        \"dtype\": \"number\",\n        \"std\": 3694,\n        \"min\": 2,\n        \"max\": 120000,\n        \"num_unique_values\": 506,\n        \"samples\": [\n          910,\n          1280\n        ],\n        \"semantic_type\": \"\",\n        \"description\": \"\"\n      }\n    }\n  ]\n}"
            }
          },
          "metadata": {},
          "execution_count": 68
        }
      ]
    },
    {
      "cell_type": "code",
      "source": [
        "df.columns"
      ],
      "metadata": {
        "colab": {
          "base_uri": "https://localhost:8080/"
        },
        "id": "4Ljg4P_SuetJ",
        "outputId": "e533f258-c3e9-4e8e-efd7-4b596420af9b"
      },
      "execution_count": null,
      "outputs": [
        {
          "output_type": "execute_result",
          "data": {
            "text/plain": [
              "Index(['state', 'district', 'market', 'commodity', 'variety', 'arrival_date',\n",
              "       'min_price', 'max_price', 'modal_price'],\n",
              "      dtype='object')"
            ]
          },
          "metadata": {},
          "execution_count": 69
        }
      ]
    },
    {
      "cell_type": "code",
      "source": [
        "data2 = df.copy()"
      ],
      "metadata": {
        "id": "45NinVsyun98"
      },
      "execution_count": null,
      "outputs": []
    },
    {
      "cell_type": "code",
      "source": [
        "data2 = data2.dropna()"
      ],
      "metadata": {
        "id": "-V4roPf_usqO"
      },
      "execution_count": null,
      "outputs": []
    },
    {
      "cell_type": "code",
      "source": [
        "data2.head()"
      ],
      "metadata": {
        "colab": {
          "base_uri": "https://localhost:8080/",
          "height": 379
        },
        "id": "Xl3-sHG2uvCo",
        "outputId": "da0f58b3-c200-45ab-d016-5abbc1d0932f"
      },
      "execution_count": null,
      "outputs": [
        {
          "output_type": "execute_result",
          "data": {
            "text/plain": [
              "                 state       district      market              commodity  \\\n",
              "0  Andaman and Nicobar  South Andaman  Port Blair             Amaranthus   \n",
              "1  Andaman and Nicobar  South Andaman  Port Blair         Banana - Green   \n",
              "2  Andaman and Nicobar  South Andaman  Port Blair  Bhindi(Ladies Finger)   \n",
              "3  Andaman and Nicobar  South Andaman  Port Blair           Bitter gourd   \n",
              "4  Andaman and Nicobar  South Andaman  Port Blair           Black pepper   \n",
              "\n",
              "          variety arrival_date  min_price  max_price  modal_price  \n",
              "0      Amaranthus   04/03/2019       6000       8000         7000  \n",
              "1  Banana - Green   04/03/2019       4500       5500         5000  \n",
              "2          Bhindi   04/03/2019       6000       8000         7000  \n",
              "3           Other   04/03/2019       6000       8000         7000  \n",
              "4           Other   04/03/2019     110000     130000       120000  "
            ],
            "text/html": [
              "\n",
              "  <div id=\"df-3b0185f1-fef3-4b18-89bc-860b5045a3f2\" class=\"colab-df-container\">\n",
              "    <div>\n",
              "<style scoped>\n",
              "    .dataframe tbody tr th:only-of-type {\n",
              "        vertical-align: middle;\n",
              "    }\n",
              "\n",
              "    .dataframe tbody tr th {\n",
              "        vertical-align: top;\n",
              "    }\n",
              "\n",
              "    .dataframe thead th {\n",
              "        text-align: right;\n",
              "    }\n",
              "</style>\n",
              "<table border=\"1\" class=\"dataframe\">\n",
              "  <thead>\n",
              "    <tr style=\"text-align: right;\">\n",
              "      <th></th>\n",
              "      <th>state</th>\n",
              "      <th>district</th>\n",
              "      <th>market</th>\n",
              "      <th>commodity</th>\n",
              "      <th>variety</th>\n",
              "      <th>arrival_date</th>\n",
              "      <th>min_price</th>\n",
              "      <th>max_price</th>\n",
              "      <th>modal_price</th>\n",
              "    </tr>\n",
              "  </thead>\n",
              "  <tbody>\n",
              "    <tr>\n",
              "      <th>0</th>\n",
              "      <td>Andaman and Nicobar</td>\n",
              "      <td>South Andaman</td>\n",
              "      <td>Port Blair</td>\n",
              "      <td>Amaranthus</td>\n",
              "      <td>Amaranthus</td>\n",
              "      <td>04/03/2019</td>\n",
              "      <td>6000</td>\n",
              "      <td>8000</td>\n",
              "      <td>7000</td>\n",
              "    </tr>\n",
              "    <tr>\n",
              "      <th>1</th>\n",
              "      <td>Andaman and Nicobar</td>\n",
              "      <td>South Andaman</td>\n",
              "      <td>Port Blair</td>\n",
              "      <td>Banana - Green</td>\n",
              "      <td>Banana - Green</td>\n",
              "      <td>04/03/2019</td>\n",
              "      <td>4500</td>\n",
              "      <td>5500</td>\n",
              "      <td>5000</td>\n",
              "    </tr>\n",
              "    <tr>\n",
              "      <th>2</th>\n",
              "      <td>Andaman and Nicobar</td>\n",
              "      <td>South Andaman</td>\n",
              "      <td>Port Blair</td>\n",
              "      <td>Bhindi(Ladies Finger)</td>\n",
              "      <td>Bhindi</td>\n",
              "      <td>04/03/2019</td>\n",
              "      <td>6000</td>\n",
              "      <td>8000</td>\n",
              "      <td>7000</td>\n",
              "    </tr>\n",
              "    <tr>\n",
              "      <th>3</th>\n",
              "      <td>Andaman and Nicobar</td>\n",
              "      <td>South Andaman</td>\n",
              "      <td>Port Blair</td>\n",
              "      <td>Bitter gourd</td>\n",
              "      <td>Other</td>\n",
              "      <td>04/03/2019</td>\n",
              "      <td>6000</td>\n",
              "      <td>8000</td>\n",
              "      <td>7000</td>\n",
              "    </tr>\n",
              "    <tr>\n",
              "      <th>4</th>\n",
              "      <td>Andaman and Nicobar</td>\n",
              "      <td>South Andaman</td>\n",
              "      <td>Port Blair</td>\n",
              "      <td>Black pepper</td>\n",
              "      <td>Other</td>\n",
              "      <td>04/03/2019</td>\n",
              "      <td>110000</td>\n",
              "      <td>130000</td>\n",
              "      <td>120000</td>\n",
              "    </tr>\n",
              "  </tbody>\n",
              "</table>\n",
              "</div>\n",
              "    <div class=\"colab-df-buttons\">\n",
              "\n",
              "  <div class=\"colab-df-container\">\n",
              "    <button class=\"colab-df-convert\" onclick=\"convertToInteractive('df-3b0185f1-fef3-4b18-89bc-860b5045a3f2')\"\n",
              "            title=\"Convert this dataframe to an interactive table.\"\n",
              "            style=\"display:none;\">\n",
              "\n",
              "  <svg xmlns=\"http://www.w3.org/2000/svg\" height=\"24px\" viewBox=\"0 -960 960 960\">\n",
              "    <path d=\"M120-120v-720h720v720H120Zm60-500h600v-160H180v160Zm220 220h160v-160H400v160Zm0 220h160v-160H400v160ZM180-400h160v-160H180v160Zm440 0h160v-160H620v160ZM180-180h160v-160H180v160Zm440 0h160v-160H620v160Z\"/>\n",
              "  </svg>\n",
              "    </button>\n",
              "\n",
              "  <style>\n",
              "    .colab-df-container {\n",
              "      display:flex;\n",
              "      gap: 12px;\n",
              "    }\n",
              "\n",
              "    .colab-df-convert {\n",
              "      background-color: #E8F0FE;\n",
              "      border: none;\n",
              "      border-radius: 50%;\n",
              "      cursor: pointer;\n",
              "      display: none;\n",
              "      fill: #1967D2;\n",
              "      height: 32px;\n",
              "      padding: 0 0 0 0;\n",
              "      width: 32px;\n",
              "    }\n",
              "\n",
              "    .colab-df-convert:hover {\n",
              "      background-color: #E2EBFA;\n",
              "      box-shadow: 0px 1px 2px rgba(60, 64, 67, 0.3), 0px 1px 3px 1px rgba(60, 64, 67, 0.15);\n",
              "      fill: #174EA6;\n",
              "    }\n",
              "\n",
              "    .colab-df-buttons div {\n",
              "      margin-bottom: 4px;\n",
              "    }\n",
              "\n",
              "    [theme=dark] .colab-df-convert {\n",
              "      background-color: #3B4455;\n",
              "      fill: #D2E3FC;\n",
              "    }\n",
              "\n",
              "    [theme=dark] .colab-df-convert:hover {\n",
              "      background-color: #434B5C;\n",
              "      box-shadow: 0px 1px 3px 1px rgba(0, 0, 0, 0.15);\n",
              "      filter: drop-shadow(0px 1px 2px rgba(0, 0, 0, 0.3));\n",
              "      fill: #FFFFFF;\n",
              "    }\n",
              "  </style>\n",
              "\n",
              "    <script>\n",
              "      const buttonEl =\n",
              "        document.querySelector('#df-3b0185f1-fef3-4b18-89bc-860b5045a3f2 button.colab-df-convert');\n",
              "      buttonEl.style.display =\n",
              "        google.colab.kernel.accessAllowed ? 'block' : 'none';\n",
              "\n",
              "      async function convertToInteractive(key) {\n",
              "        const element = document.querySelector('#df-3b0185f1-fef3-4b18-89bc-860b5045a3f2');\n",
              "        const dataTable =\n",
              "          await google.colab.kernel.invokeFunction('convertToInteractive',\n",
              "                                                    [key], {});\n",
              "        if (!dataTable) return;\n",
              "\n",
              "        const docLinkHtml = 'Like what you see? Visit the ' +\n",
              "          '<a target=\"_blank\" href=https://colab.research.google.com/notebooks/data_table.ipynb>data table notebook</a>'\n",
              "          + ' to learn more about interactive tables.';\n",
              "        element.innerHTML = '';\n",
              "        dataTable['output_type'] = 'display_data';\n",
              "        await google.colab.output.renderOutput(dataTable, element);\n",
              "        const docLink = document.createElement('div');\n",
              "        docLink.innerHTML = docLinkHtml;\n",
              "        element.appendChild(docLink);\n",
              "      }\n",
              "    </script>\n",
              "  </div>\n",
              "\n",
              "\n",
              "<div id=\"df-10c78c5b-05c3-43e9-9d39-59f4052daada\">\n",
              "  <button class=\"colab-df-quickchart\" onclick=\"quickchart('df-10c78c5b-05c3-43e9-9d39-59f4052daada')\"\n",
              "            title=\"Suggest charts\"\n",
              "            style=\"display:none;\">\n",
              "\n",
              "<svg xmlns=\"http://www.w3.org/2000/svg\" height=\"24px\"viewBox=\"0 0 24 24\"\n",
              "     width=\"24px\">\n",
              "    <g>\n",
              "        <path d=\"M19 3H5c-1.1 0-2 .9-2 2v14c0 1.1.9 2 2 2h14c1.1 0 2-.9 2-2V5c0-1.1-.9-2-2-2zM9 17H7v-7h2v7zm4 0h-2V7h2v10zm4 0h-2v-4h2v4z\"/>\n",
              "    </g>\n",
              "</svg>\n",
              "  </button>\n",
              "\n",
              "<style>\n",
              "  .colab-df-quickchart {\n",
              "      --bg-color: #E8F0FE;\n",
              "      --fill-color: #1967D2;\n",
              "      --hover-bg-color: #E2EBFA;\n",
              "      --hover-fill-color: #174EA6;\n",
              "      --disabled-fill-color: #AAA;\n",
              "      --disabled-bg-color: #DDD;\n",
              "  }\n",
              "\n",
              "  [theme=dark] .colab-df-quickchart {\n",
              "      --bg-color: #3B4455;\n",
              "      --fill-color: #D2E3FC;\n",
              "      --hover-bg-color: #434B5C;\n",
              "      --hover-fill-color: #FFFFFF;\n",
              "      --disabled-bg-color: #3B4455;\n",
              "      --disabled-fill-color: #666;\n",
              "  }\n",
              "\n",
              "  .colab-df-quickchart {\n",
              "    background-color: var(--bg-color);\n",
              "    border: none;\n",
              "    border-radius: 50%;\n",
              "    cursor: pointer;\n",
              "    display: none;\n",
              "    fill: var(--fill-color);\n",
              "    height: 32px;\n",
              "    padding: 0;\n",
              "    width: 32px;\n",
              "  }\n",
              "\n",
              "  .colab-df-quickchart:hover {\n",
              "    background-color: var(--hover-bg-color);\n",
              "    box-shadow: 0 1px 2px rgba(60, 64, 67, 0.3), 0 1px 3px 1px rgba(60, 64, 67, 0.15);\n",
              "    fill: var(--button-hover-fill-color);\n",
              "  }\n",
              "\n",
              "  .colab-df-quickchart-complete:disabled,\n",
              "  .colab-df-quickchart-complete:disabled:hover {\n",
              "    background-color: var(--disabled-bg-color);\n",
              "    fill: var(--disabled-fill-color);\n",
              "    box-shadow: none;\n",
              "  }\n",
              "\n",
              "  .colab-df-spinner {\n",
              "    border: 2px solid var(--fill-color);\n",
              "    border-color: transparent;\n",
              "    border-bottom-color: var(--fill-color);\n",
              "    animation:\n",
              "      spin 1s steps(1) infinite;\n",
              "  }\n",
              "\n",
              "  @keyframes spin {\n",
              "    0% {\n",
              "      border-color: transparent;\n",
              "      border-bottom-color: var(--fill-color);\n",
              "      border-left-color: var(--fill-color);\n",
              "    }\n",
              "    20% {\n",
              "      border-color: transparent;\n",
              "      border-left-color: var(--fill-color);\n",
              "      border-top-color: var(--fill-color);\n",
              "    }\n",
              "    30% {\n",
              "      border-color: transparent;\n",
              "      border-left-color: var(--fill-color);\n",
              "      border-top-color: var(--fill-color);\n",
              "      border-right-color: var(--fill-color);\n",
              "    }\n",
              "    40% {\n",
              "      border-color: transparent;\n",
              "      border-right-color: var(--fill-color);\n",
              "      border-top-color: var(--fill-color);\n",
              "    }\n",
              "    60% {\n",
              "      border-color: transparent;\n",
              "      border-right-color: var(--fill-color);\n",
              "    }\n",
              "    80% {\n",
              "      border-color: transparent;\n",
              "      border-right-color: var(--fill-color);\n",
              "      border-bottom-color: var(--fill-color);\n",
              "    }\n",
              "    90% {\n",
              "      border-color: transparent;\n",
              "      border-bottom-color: var(--fill-color);\n",
              "    }\n",
              "  }\n",
              "</style>\n",
              "\n",
              "  <script>\n",
              "    async function quickchart(key) {\n",
              "      const quickchartButtonEl =\n",
              "        document.querySelector('#' + key + ' button');\n",
              "      quickchartButtonEl.disabled = true;  // To prevent multiple clicks.\n",
              "      quickchartButtonEl.classList.add('colab-df-spinner');\n",
              "      try {\n",
              "        const charts = await google.colab.kernel.invokeFunction(\n",
              "            'suggestCharts', [key], {});\n",
              "      } catch (error) {\n",
              "        console.error('Error during call to suggestCharts:', error);\n",
              "      }\n",
              "      quickchartButtonEl.classList.remove('colab-df-spinner');\n",
              "      quickchartButtonEl.classList.add('colab-df-quickchart-complete');\n",
              "    }\n",
              "    (() => {\n",
              "      let quickchartButtonEl =\n",
              "        document.querySelector('#df-10c78c5b-05c3-43e9-9d39-59f4052daada button');\n",
              "      quickchartButtonEl.style.display =\n",
              "        google.colab.kernel.accessAllowed ? 'block' : 'none';\n",
              "    })();\n",
              "  </script>\n",
              "</div>\n",
              "\n",
              "    </div>\n",
              "  </div>\n"
            ],
            "application/vnd.google.colaboratory.intrinsic+json": {
              "type": "dataframe",
              "variable_name": "data2",
              "summary": "{\n  \"name\": \"data2\",\n  \"rows\": 2238,\n  \"fields\": [\n    {\n      \"column\": \"state\",\n      \"properties\": {\n        \"dtype\": \"category\",\n        \"num_unique_values\": 26,\n        \"samples\": [\n          \"Jammu and Kashmir\",\n          \"Odisha\",\n          \"Andaman and Nicobar\"\n        ],\n        \"semantic_type\": \"\",\n        \"description\": \"\"\n      }\n    },\n    {\n      \"column\": \"district\",\n      \"properties\": {\n        \"dtype\": \"category\",\n        \"num_unique_values\": 174,\n        \"samples\": [\n          \"Rampur\",\n          \"Jhansi\",\n          \"Coimbatore\"\n        ],\n        \"semantic_type\": \"\",\n        \"description\": \"\"\n      }\n    },\n    {\n      \"column\": \"market\",\n      \"properties\": {\n        \"dtype\": \"category\",\n        \"num_unique_values\": 326,\n        \"samples\": [\n          \"Rajapalayam\",\n          \"Parlakhemundi\",\n          \"Achnera\"\n        ],\n        \"semantic_type\": \"\",\n        \"description\": \"\"\n      }\n    },\n    {\n      \"column\": \"commodity\",\n      \"properties\": {\n        \"dtype\": \"category\",\n        \"num_unique_values\": 156,\n        \"samples\": [\n          \"Water Melon\",\n          \"Papaya (Raw)\",\n          \"Mashrooms\"\n        ],\n        \"semantic_type\": \"\",\n        \"description\": \"\"\n      }\n    },\n    {\n      \"column\": \"variety\",\n      \"properties\": {\n        \"dtype\": \"category\",\n        \"num_unique_values\": 218,\n        \"samples\": [\n          \"Rasakathai\",\n          \"Moath Dal\",\n          \"Hybrid Red (Cattle Feed)\"\n        ],\n        \"semantic_type\": \"\",\n        \"description\": \"\"\n      }\n    },\n    {\n      \"column\": \"arrival_date\",\n      \"properties\": {\n        \"dtype\": \"object\",\n        \"num_unique_values\": 2,\n        \"samples\": [\n          \"08/03/2019\",\n          \"04/03/2019\"\n        ],\n        \"semantic_type\": \"\",\n        \"description\": \"\"\n      }\n    },\n    {\n      \"column\": \"min_price\",\n      \"properties\": {\n        \"dtype\": \"number\",\n        \"std\": 3452,\n        \"min\": 0,\n        \"max\": 110000,\n        \"num_unique_values\": 417,\n        \"samples\": [\n          1650,\n          520\n        ],\n        \"semantic_type\": \"\",\n        \"description\": \"\"\n      }\n    },\n    {\n      \"column\": \"max_price\",\n      \"properties\": {\n        \"dtype\": \"number\",\n        \"std\": 3917,\n        \"min\": 0,\n        \"max\": 130000,\n        \"num_unique_values\": 482,\n        \"samples\": [\n          4120,\n          6700\n        ],\n        \"semantic_type\": \"\",\n        \"description\": \"\"\n      }\n    },\n    {\n      \"column\": \"modal_price\",\n      \"properties\": {\n        \"dtype\": \"number\",\n        \"std\": 3694,\n        \"min\": 2,\n        \"max\": 120000,\n        \"num_unique_values\": 506,\n        \"samples\": [\n          910,\n          1280\n        ],\n        \"semantic_type\": \"\",\n        \"description\": \"\"\n      }\n    }\n  ]\n}"
            }
          },
          "metadata": {},
          "execution_count": 72
        }
      ]
    },
    {
      "cell_type": "code",
      "source": [
        "data2.info()"
      ],
      "metadata": {
        "colab": {
          "base_uri": "https://localhost:8080/"
        },
        "id": "R1YSlVRRux8M",
        "outputId": "fd1d6547-ce29-4753-dd0f-fe76c5fd981f"
      },
      "execution_count": null,
      "outputs": [
        {
          "output_type": "stream",
          "name": "stdout",
          "text": [
            "<class 'pandas.core.frame.DataFrame'>\n",
            "RangeIndex: 2238 entries, 0 to 2237\n",
            "Data columns (total 9 columns):\n",
            " #   Column        Non-Null Count  Dtype \n",
            "---  ------        --------------  ----- \n",
            " 0   state         2238 non-null   object\n",
            " 1   district      2238 non-null   object\n",
            " 2   market        2238 non-null   object\n",
            " 3   commodity     2238 non-null   object\n",
            " 4   variety       2238 non-null   object\n",
            " 5   arrival_date  2238 non-null   object\n",
            " 6   min_price     2238 non-null   int64 \n",
            " 7   max_price     2238 non-null   int64 \n",
            " 8   modal_price   2238 non-null   int64 \n",
            "dtypes: int64(3), object(6)\n",
            "memory usage: 157.5+ KB\n"
          ]
        }
      ]
    },
    {
      "cell_type": "code",
      "source": [
        "data2.isnull().sum()"
      ],
      "metadata": {
        "colab": {
          "base_uri": "https://localhost:8080/",
          "height": 366
        },
        "id": "qgjS8VDMu2uq",
        "outputId": "f2360dec-e5ef-40ff-e858-9d2ebf73e750"
      },
      "execution_count": null,
      "outputs": [
        {
          "output_type": "execute_result",
          "data": {
            "text/plain": [
              "state           0\n",
              "district        0\n",
              "market          0\n",
              "commodity       0\n",
              "variety         0\n",
              "arrival_date    0\n",
              "min_price       0\n",
              "max_price       0\n",
              "modal_price     0\n",
              "dtype: int64"
            ],
            "text/html": [
              "<div>\n",
              "<style scoped>\n",
              "    .dataframe tbody tr th:only-of-type {\n",
              "        vertical-align: middle;\n",
              "    }\n",
              "\n",
              "    .dataframe tbody tr th {\n",
              "        vertical-align: top;\n",
              "    }\n",
              "\n",
              "    .dataframe thead th {\n",
              "        text-align: right;\n",
              "    }\n",
              "</style>\n",
              "<table border=\"1\" class=\"dataframe\">\n",
              "  <thead>\n",
              "    <tr style=\"text-align: right;\">\n",
              "      <th></th>\n",
              "      <th>0</th>\n",
              "    </tr>\n",
              "  </thead>\n",
              "  <tbody>\n",
              "    <tr>\n",
              "      <th>state</th>\n",
              "      <td>0</td>\n",
              "    </tr>\n",
              "    <tr>\n",
              "      <th>district</th>\n",
              "      <td>0</td>\n",
              "    </tr>\n",
              "    <tr>\n",
              "      <th>market</th>\n",
              "      <td>0</td>\n",
              "    </tr>\n",
              "    <tr>\n",
              "      <th>commodity</th>\n",
              "      <td>0</td>\n",
              "    </tr>\n",
              "    <tr>\n",
              "      <th>variety</th>\n",
              "      <td>0</td>\n",
              "    </tr>\n",
              "    <tr>\n",
              "      <th>arrival_date</th>\n",
              "      <td>0</td>\n",
              "    </tr>\n",
              "    <tr>\n",
              "      <th>min_price</th>\n",
              "      <td>0</td>\n",
              "    </tr>\n",
              "    <tr>\n",
              "      <th>max_price</th>\n",
              "      <td>0</td>\n",
              "    </tr>\n",
              "    <tr>\n",
              "      <th>modal_price</th>\n",
              "      <td>0</td>\n",
              "    </tr>\n",
              "  </tbody>\n",
              "</table>\n",
              "</div><br><label><b>dtype:</b> int64</label>"
            ]
          },
          "metadata": {},
          "execution_count": 74
        }
      ]
    },
    {
      "cell_type": "code",
      "source": [
        "data2 = data2.head(2238)"
      ],
      "metadata": {
        "id": "OOrM9kfCu9dn"
      },
      "execution_count": null,
      "outputs": []
    },
    {
      "cell_type": "code",
      "source": [
        "data2[\"arrival_date\"][28]"
      ],
      "metadata": {
        "colab": {
          "base_uri": "https://localhost:8080/",
          "height": 36
        },
        "id": "k0FSruf4u_Y5",
        "outputId": "8280c193-b174-41f7-c4f5-dfe336ca46b9"
      },
      "execution_count": null,
      "outputs": [
        {
          "output_type": "execute_result",
          "data": {
            "text/plain": [
              "'04/03/2019'"
            ],
            "application/vnd.google.colaboratory.intrinsic+json": {
              "type": "string"
            }
          },
          "metadata": {},
          "execution_count": 76
        }
      ]
    },
    {
      "cell_type": "code",
      "source": [
        "str = data2[\"arrival_date\"][1]\n",
        "str2 = str.split('/')\n",
        "print(str)\n",
        "print(str2)\n",
        "print(str2[1])\n"
      ],
      "metadata": {
        "colab": {
          "base_uri": "https://localhost:8080/"
        },
        "id": "ZUWv2jpJvBTO",
        "outputId": "b1bbe712-6e9a-4269-d48c-4eefe081ce5f"
      },
      "execution_count": null,
      "outputs": [
        {
          "output_type": "stream",
          "name": "stdout",
          "text": [
            "04/03/2019\n",
            "['04', '03', '2019']\n",
            "03\n"
          ]
        }
      ]
    },
    {
      "cell_type": "code",
      "source": [
        "Dict = {1:\"January\",2:\"February\",3:\"March\",4:\"April\",5:\"May\",6:\"June\",7:\"July\",8:\"August\",9:\"September\",10:\"October\",11:\"November\",12:\"December\"}\n",
        "print(Dict)"
      ],
      "metadata": {
        "colab": {
          "base_uri": "https://localhost:8080/"
        },
        "id": "ZyjniaeUvKmc",
        "outputId": "3b567c89-c7f3-41d5-855e-1d8126ebb3de"
      },
      "execution_count": null,
      "outputs": [
        {
          "output_type": "stream",
          "name": "stdout",
          "text": [
            "{1: 'January', 2: 'February', 3: 'March', 4: 'April', 5: 'May', 6: 'June', 7: 'July', 8: 'August', 9: 'September', 10: 'October', 11: 'November', 12: 'December'}\n"
          ]
        }
      ]
    },
    {
      "cell_type": "code",
      "source": [
        "Dict[1]"
      ],
      "metadata": {
        "colab": {
          "base_uri": "https://localhost:8080/",
          "height": 36
        },
        "id": "tMLXRiAQvPmk",
        "outputId": "411b7c77-f57b-4d3e-c9f3-4dd2c71655b6"
      },
      "execution_count": null,
      "outputs": [
        {
          "output_type": "execute_result",
          "data": {
            "text/plain": [
              "'January'"
            ],
            "application/vnd.google.colaboratory.intrinsic+json": {
              "type": "string"
            }
          },
          "metadata": {},
          "execution_count": 79
        }
      ]
    },
    {
      "cell_type": "code",
      "source": [
        "month_column=[]"
      ],
      "metadata": {
        "id": "aOnKdDAvvVEe"
      },
      "execution_count": null,
      "outputs": []
    },
    {
      "cell_type": "code",
      "source": [
        "for rr in data2[\"arrival_date\"]:\n",
        "    str = rr\n",
        "    str2 = str.split('/')\n",
        "    month_column.append(Dict[int(str[1])])"
      ],
      "metadata": {
        "id": "tkCcnXzlvZty"
      },
      "execution_count": null,
      "outputs": []
    },
    {
      "cell_type": "code",
      "source": [
        "len(month_column)"
      ],
      "metadata": {
        "colab": {
          "base_uri": "https://localhost:8080/"
        },
        "id": "mUFIS4eGvbD1",
        "outputId": "3238ca8c-905f-49b3-845f-060ee421b8f7"
      },
      "execution_count": null,
      "outputs": [
        {
          "output_type": "execute_result",
          "data": {
            "text/plain": [
              "2238"
            ]
          },
          "metadata": {},
          "execution_count": 82
        }
      ]
    },
    {
      "cell_type": "code",
      "source": [
        "data2[\"month_column\"] = month_column"
      ],
      "metadata": {
        "id": "1ikvRy-dvdef"
      },
      "execution_count": null,
      "outputs": []
    },
    {
      "cell_type": "code",
      "source": [
        "data2[\"month_column\"]"
      ],
      "metadata": {
        "colab": {
          "base_uri": "https://localhost:8080/",
          "height": 458
        },
        "id": "gsPe24EqvhUX",
        "outputId": "c19467f2-0c3a-47b2-ef86-a4891d9424ce"
      },
      "execution_count": null,
      "outputs": [
        {
          "output_type": "execute_result",
          "data": {
            "text/plain": [
              "0       April\n",
              "1       April\n",
              "2       April\n",
              "3       April\n",
              "4       April\n",
              "        ...  \n",
              "1997    April\n",
              "1998    April\n",
              "1999    April\n",
              "2000    April\n",
              "2001    April\n",
              "Name: month_column, Length: 2000, dtype: object"
            ],
            "text/html": [
              "<div>\n",
              "<style scoped>\n",
              "    .dataframe tbody tr th:only-of-type {\n",
              "        vertical-align: middle;\n",
              "    }\n",
              "\n",
              "    .dataframe tbody tr th {\n",
              "        vertical-align: top;\n",
              "    }\n",
              "\n",
              "    .dataframe thead th {\n",
              "        text-align: right;\n",
              "    }\n",
              "</style>\n",
              "<table border=\"1\" class=\"dataframe\">\n",
              "  <thead>\n",
              "    <tr style=\"text-align: right;\">\n",
              "      <th></th>\n",
              "      <th>month_column</th>\n",
              "    </tr>\n",
              "  </thead>\n",
              "  <tbody>\n",
              "    <tr>\n",
              "      <th>0</th>\n",
              "      <td>April</td>\n",
              "    </tr>\n",
              "    <tr>\n",
              "      <th>1</th>\n",
              "      <td>April</td>\n",
              "    </tr>\n",
              "    <tr>\n",
              "      <th>2</th>\n",
              "      <td>April</td>\n",
              "    </tr>\n",
              "    <tr>\n",
              "      <th>3</th>\n",
              "      <td>April</td>\n",
              "    </tr>\n",
              "    <tr>\n",
              "      <th>4</th>\n",
              "      <td>April</td>\n",
              "    </tr>\n",
              "    <tr>\n",
              "      <th>...</th>\n",
              "      <td>...</td>\n",
              "    </tr>\n",
              "    <tr>\n",
              "      <th>1997</th>\n",
              "      <td>April</td>\n",
              "    </tr>\n",
              "    <tr>\n",
              "      <th>1998</th>\n",
              "      <td>April</td>\n",
              "    </tr>\n",
              "    <tr>\n",
              "      <th>1999</th>\n",
              "      <td>April</td>\n",
              "    </tr>\n",
              "    <tr>\n",
              "      <th>2000</th>\n",
              "      <td>April</td>\n",
              "    </tr>\n",
              "    <tr>\n",
              "      <th>2001</th>\n",
              "      <td>April</td>\n",
              "    </tr>\n",
              "  </tbody>\n",
              "</table>\n",
              "<p>2000 rows × 1 columns</p>\n",
              "</div><br><label><b>dtype:</b> object</label>"
            ]
          },
          "metadata": {},
          "execution_count": 59
        }
      ]
    },
    {
      "cell_type": "code",
      "source": [
        "data2[\"month_column\"].unique()"
      ],
      "metadata": {
        "colab": {
          "base_uri": "https://localhost:8080/"
        },
        "id": "DE9YQd2svkgX",
        "outputId": "c9bc0824-75df-4cf6-a31c-9ce6c0ca56dd"
      },
      "execution_count": null,
      "outputs": [
        {
          "output_type": "execute_result",
          "data": {
            "text/plain": [
              "array(['April', 'August'], dtype=object)"
            ]
          },
          "metadata": {},
          "execution_count": 84
        }
      ]
    },
    {
      "cell_type": "code",
      "source": [
        "print(data2.duplicated().sum())\n",
        "data2.drop_duplicates(inplace=True)"
      ],
      "metadata": {
        "colab": {
          "base_uri": "https://localhost:8080/"
        },
        "id": "FCj43X8-wu8C",
        "outputId": "a4366e28-4fa8-4f5d-aedd-557ecf76523e"
      },
      "execution_count": null,
      "outputs": [
        {
          "output_type": "stream",
          "name": "stdout",
          "text": [
            "2\n"
          ]
        }
      ]
    },
    {
      "cell_type": "code",
      "source": [
        "season_names = []"
      ],
      "metadata": {
        "id": "frolEsmpwgqp"
      },
      "execution_count": null,
      "outputs": []
    },
    {
      "cell_type": "code",
      "source": [
        "for tt in data2[\"month_column\"]:\n",
        "    if tt== \"January\" or tt== \"February\":\n",
        "        season_names.append(\"Winter\")\n",
        "    elif tt == \"March\" or tt == \"April\":\n",
        "        season_names.append(\"spring\")\n",
        "    elif tt == \"May\" or tt == \"June\":\n",
        "        season_names.append(\"summer\")\n",
        "    elif tt == \"July\" or tt == \"August\":\n",
        "        season_names.append(\"monsoon\")\n",
        "    elif tt == \"September\" or tt == \"October\":\n",
        "        season_names.append(\"autumn\")\n",
        "    elif tt == \"November\" or tt == \"December\":\n",
        "        season_names.append(\"pre winter\")\n"
      ],
      "metadata": {
        "id": "T8s0tbbmwwv-"
      },
      "execution_count": null,
      "outputs": []
    },
    {
      "cell_type": "code",
      "source": [
        "print(len(season_names))"
      ],
      "metadata": {
        "colab": {
          "base_uri": "https://localhost:8080/"
        },
        "id": "6XC7SESow18c",
        "outputId": "fb45648e-283f-4a6e-aeae-4751e915994e"
      },
      "execution_count": null,
      "outputs": [
        {
          "output_type": "stream",
          "name": "stdout",
          "text": [
            "2236\n"
          ]
        }
      ]
    },
    {
      "cell_type": "code",
      "source": [
        "data2[\"season_names\"] = season_names"
      ],
      "metadata": {
        "id": "qY3JGYiFxqXD"
      },
      "execution_count": null,
      "outputs": []
    },
    {
      "cell_type": "code",
      "source": [
        "data2.head()"
      ],
      "metadata": {
        "colab": {
          "base_uri": "https://localhost:8080/",
          "height": 399
        },
        "id": "rcnrdnfSw5PP",
        "outputId": "3687c8ed-28a2-4bdb-e13e-ac24ddb5b590"
      },
      "execution_count": null,
      "outputs": [
        {
          "output_type": "execute_result",
          "data": {
            "text/plain": [
              "                 state       district      market              commodity  \\\n",
              "0  Andaman and Nicobar  South Andaman  Port Blair             Amaranthus   \n",
              "1  Andaman and Nicobar  South Andaman  Port Blair         Banana - Green   \n",
              "2  Andaman and Nicobar  South Andaman  Port Blair  Bhindi(Ladies Finger)   \n",
              "3  Andaman and Nicobar  South Andaman  Port Blair           Bitter gourd   \n",
              "4  Andaman and Nicobar  South Andaman  Port Blair           Black pepper   \n",
              "\n",
              "          variety arrival_date  min_price  max_price  modal_price  \\\n",
              "0      Amaranthus   04/03/2019       6000       8000         7000   \n",
              "1  Banana - Green   04/03/2019       4500       5500         5000   \n",
              "2          Bhindi   04/03/2019       6000       8000         7000   \n",
              "3           Other   04/03/2019       6000       8000         7000   \n",
              "4           Other   04/03/2019     110000     130000       120000   \n",
              "\n",
              "  month_column season_names  \n",
              "0        April       spring  \n",
              "1        April       spring  \n",
              "2        April       spring  \n",
              "3        April       spring  \n",
              "4        April       spring  "
            ],
            "text/html": [
              "\n",
              "  <div id=\"df-7a659791-e0d3-47aa-b4e8-d76971836170\" class=\"colab-df-container\">\n",
              "    <div>\n",
              "<style scoped>\n",
              "    .dataframe tbody tr th:only-of-type {\n",
              "        vertical-align: middle;\n",
              "    }\n",
              "\n",
              "    .dataframe tbody tr th {\n",
              "        vertical-align: top;\n",
              "    }\n",
              "\n",
              "    .dataframe thead th {\n",
              "        text-align: right;\n",
              "    }\n",
              "</style>\n",
              "<table border=\"1\" class=\"dataframe\">\n",
              "  <thead>\n",
              "    <tr style=\"text-align: right;\">\n",
              "      <th></th>\n",
              "      <th>state</th>\n",
              "      <th>district</th>\n",
              "      <th>market</th>\n",
              "      <th>commodity</th>\n",
              "      <th>variety</th>\n",
              "      <th>arrival_date</th>\n",
              "      <th>min_price</th>\n",
              "      <th>max_price</th>\n",
              "      <th>modal_price</th>\n",
              "      <th>month_column</th>\n",
              "      <th>season_names</th>\n",
              "    </tr>\n",
              "  </thead>\n",
              "  <tbody>\n",
              "    <tr>\n",
              "      <th>0</th>\n",
              "      <td>Andaman and Nicobar</td>\n",
              "      <td>South Andaman</td>\n",
              "      <td>Port Blair</td>\n",
              "      <td>Amaranthus</td>\n",
              "      <td>Amaranthus</td>\n",
              "      <td>04/03/2019</td>\n",
              "      <td>6000</td>\n",
              "      <td>8000</td>\n",
              "      <td>7000</td>\n",
              "      <td>April</td>\n",
              "      <td>spring</td>\n",
              "    </tr>\n",
              "    <tr>\n",
              "      <th>1</th>\n",
              "      <td>Andaman and Nicobar</td>\n",
              "      <td>South Andaman</td>\n",
              "      <td>Port Blair</td>\n",
              "      <td>Banana - Green</td>\n",
              "      <td>Banana - Green</td>\n",
              "      <td>04/03/2019</td>\n",
              "      <td>4500</td>\n",
              "      <td>5500</td>\n",
              "      <td>5000</td>\n",
              "      <td>April</td>\n",
              "      <td>spring</td>\n",
              "    </tr>\n",
              "    <tr>\n",
              "      <th>2</th>\n",
              "      <td>Andaman and Nicobar</td>\n",
              "      <td>South Andaman</td>\n",
              "      <td>Port Blair</td>\n",
              "      <td>Bhindi(Ladies Finger)</td>\n",
              "      <td>Bhindi</td>\n",
              "      <td>04/03/2019</td>\n",
              "      <td>6000</td>\n",
              "      <td>8000</td>\n",
              "      <td>7000</td>\n",
              "      <td>April</td>\n",
              "      <td>spring</td>\n",
              "    </tr>\n",
              "    <tr>\n",
              "      <th>3</th>\n",
              "      <td>Andaman and Nicobar</td>\n",
              "      <td>South Andaman</td>\n",
              "      <td>Port Blair</td>\n",
              "      <td>Bitter gourd</td>\n",
              "      <td>Other</td>\n",
              "      <td>04/03/2019</td>\n",
              "      <td>6000</td>\n",
              "      <td>8000</td>\n",
              "      <td>7000</td>\n",
              "      <td>April</td>\n",
              "      <td>spring</td>\n",
              "    </tr>\n",
              "    <tr>\n",
              "      <th>4</th>\n",
              "      <td>Andaman and Nicobar</td>\n",
              "      <td>South Andaman</td>\n",
              "      <td>Port Blair</td>\n",
              "      <td>Black pepper</td>\n",
              "      <td>Other</td>\n",
              "      <td>04/03/2019</td>\n",
              "      <td>110000</td>\n",
              "      <td>130000</td>\n",
              "      <td>120000</td>\n",
              "      <td>April</td>\n",
              "      <td>spring</td>\n",
              "    </tr>\n",
              "  </tbody>\n",
              "</table>\n",
              "</div>\n",
              "    <div class=\"colab-df-buttons\">\n",
              "\n",
              "  <div class=\"colab-df-container\">\n",
              "    <button class=\"colab-df-convert\" onclick=\"convertToInteractive('df-7a659791-e0d3-47aa-b4e8-d76971836170')\"\n",
              "            title=\"Convert this dataframe to an interactive table.\"\n",
              "            style=\"display:none;\">\n",
              "\n",
              "  <svg xmlns=\"http://www.w3.org/2000/svg\" height=\"24px\" viewBox=\"0 -960 960 960\">\n",
              "    <path d=\"M120-120v-720h720v720H120Zm60-500h600v-160H180v160Zm220 220h160v-160H400v160Zm0 220h160v-160H400v160ZM180-400h160v-160H180v160Zm440 0h160v-160H620v160ZM180-180h160v-160H180v160Zm440 0h160v-160H620v160Z\"/>\n",
              "  </svg>\n",
              "    </button>\n",
              "\n",
              "  <style>\n",
              "    .colab-df-container {\n",
              "      display:flex;\n",
              "      gap: 12px;\n",
              "    }\n",
              "\n",
              "    .colab-df-convert {\n",
              "      background-color: #E8F0FE;\n",
              "      border: none;\n",
              "      border-radius: 50%;\n",
              "      cursor: pointer;\n",
              "      display: none;\n",
              "      fill: #1967D2;\n",
              "      height: 32px;\n",
              "      padding: 0 0 0 0;\n",
              "      width: 32px;\n",
              "    }\n",
              "\n",
              "    .colab-df-convert:hover {\n",
              "      background-color: #E2EBFA;\n",
              "      box-shadow: 0px 1px 2px rgba(60, 64, 67, 0.3), 0px 1px 3px 1px rgba(60, 64, 67, 0.15);\n",
              "      fill: #174EA6;\n",
              "    }\n",
              "\n",
              "    .colab-df-buttons div {\n",
              "      margin-bottom: 4px;\n",
              "    }\n",
              "\n",
              "    [theme=dark] .colab-df-convert {\n",
              "      background-color: #3B4455;\n",
              "      fill: #D2E3FC;\n",
              "    }\n",
              "\n",
              "    [theme=dark] .colab-df-convert:hover {\n",
              "      background-color: #434B5C;\n",
              "      box-shadow: 0px 1px 3px 1px rgba(0, 0, 0, 0.15);\n",
              "      filter: drop-shadow(0px 1px 2px rgba(0, 0, 0, 0.3));\n",
              "      fill: #FFFFFF;\n",
              "    }\n",
              "  </style>\n",
              "\n",
              "    <script>\n",
              "      const buttonEl =\n",
              "        document.querySelector('#df-7a659791-e0d3-47aa-b4e8-d76971836170 button.colab-df-convert');\n",
              "      buttonEl.style.display =\n",
              "        google.colab.kernel.accessAllowed ? 'block' : 'none';\n",
              "\n",
              "      async function convertToInteractive(key) {\n",
              "        const element = document.querySelector('#df-7a659791-e0d3-47aa-b4e8-d76971836170');\n",
              "        const dataTable =\n",
              "          await google.colab.kernel.invokeFunction('convertToInteractive',\n",
              "                                                    [key], {});\n",
              "        if (!dataTable) return;\n",
              "\n",
              "        const docLinkHtml = 'Like what you see? Visit the ' +\n",
              "          '<a target=\"_blank\" href=https://colab.research.google.com/notebooks/data_table.ipynb>data table notebook</a>'\n",
              "          + ' to learn more about interactive tables.';\n",
              "        element.innerHTML = '';\n",
              "        dataTable['output_type'] = 'display_data';\n",
              "        await google.colab.output.renderOutput(dataTable, element);\n",
              "        const docLink = document.createElement('div');\n",
              "        docLink.innerHTML = docLinkHtml;\n",
              "        element.appendChild(docLink);\n",
              "      }\n",
              "    </script>\n",
              "  </div>\n",
              "\n",
              "\n",
              "<div id=\"df-0d138964-1951-4fa7-8c9c-b22206699759\">\n",
              "  <button class=\"colab-df-quickchart\" onclick=\"quickchart('df-0d138964-1951-4fa7-8c9c-b22206699759')\"\n",
              "            title=\"Suggest charts\"\n",
              "            style=\"display:none;\">\n",
              "\n",
              "<svg xmlns=\"http://www.w3.org/2000/svg\" height=\"24px\"viewBox=\"0 0 24 24\"\n",
              "     width=\"24px\">\n",
              "    <g>\n",
              "        <path d=\"M19 3H5c-1.1 0-2 .9-2 2v14c0 1.1.9 2 2 2h14c1.1 0 2-.9 2-2V5c0-1.1-.9-2-2-2zM9 17H7v-7h2v7zm4 0h-2V7h2v10zm4 0h-2v-4h2v4z\"/>\n",
              "    </g>\n",
              "</svg>\n",
              "  </button>\n",
              "\n",
              "<style>\n",
              "  .colab-df-quickchart {\n",
              "      --bg-color: #E8F0FE;\n",
              "      --fill-color: #1967D2;\n",
              "      --hover-bg-color: #E2EBFA;\n",
              "      --hover-fill-color: #174EA6;\n",
              "      --disabled-fill-color: #AAA;\n",
              "      --disabled-bg-color: #DDD;\n",
              "  }\n",
              "\n",
              "  [theme=dark] .colab-df-quickchart {\n",
              "      --bg-color: #3B4455;\n",
              "      --fill-color: #D2E3FC;\n",
              "      --hover-bg-color: #434B5C;\n",
              "      --hover-fill-color: #FFFFFF;\n",
              "      --disabled-bg-color: #3B4455;\n",
              "      --disabled-fill-color: #666;\n",
              "  }\n",
              "\n",
              "  .colab-df-quickchart {\n",
              "    background-color: var(--bg-color);\n",
              "    border: none;\n",
              "    border-radius: 50%;\n",
              "    cursor: pointer;\n",
              "    display: none;\n",
              "    fill: var(--fill-color);\n",
              "    height: 32px;\n",
              "    padding: 0;\n",
              "    width: 32px;\n",
              "  }\n",
              "\n",
              "  .colab-df-quickchart:hover {\n",
              "    background-color: var(--hover-bg-color);\n",
              "    box-shadow: 0 1px 2px rgba(60, 64, 67, 0.3), 0 1px 3px 1px rgba(60, 64, 67, 0.15);\n",
              "    fill: var(--button-hover-fill-color);\n",
              "  }\n",
              "\n",
              "  .colab-df-quickchart-complete:disabled,\n",
              "  .colab-df-quickchart-complete:disabled:hover {\n",
              "    background-color: var(--disabled-bg-color);\n",
              "    fill: var(--disabled-fill-color);\n",
              "    box-shadow: none;\n",
              "  }\n",
              "\n",
              "  .colab-df-spinner {\n",
              "    border: 2px solid var(--fill-color);\n",
              "    border-color: transparent;\n",
              "    border-bottom-color: var(--fill-color);\n",
              "    animation:\n",
              "      spin 1s steps(1) infinite;\n",
              "  }\n",
              "\n",
              "  @keyframes spin {\n",
              "    0% {\n",
              "      border-color: transparent;\n",
              "      border-bottom-color: var(--fill-color);\n",
              "      border-left-color: var(--fill-color);\n",
              "    }\n",
              "    20% {\n",
              "      border-color: transparent;\n",
              "      border-left-color: var(--fill-color);\n",
              "      border-top-color: var(--fill-color);\n",
              "    }\n",
              "    30% {\n",
              "      border-color: transparent;\n",
              "      border-left-color: var(--fill-color);\n",
              "      border-top-color: var(--fill-color);\n",
              "      border-right-color: var(--fill-color);\n",
              "    }\n",
              "    40% {\n",
              "      border-color: transparent;\n",
              "      border-right-color: var(--fill-color);\n",
              "      border-top-color: var(--fill-color);\n",
              "    }\n",
              "    60% {\n",
              "      border-color: transparent;\n",
              "      border-right-color: var(--fill-color);\n",
              "    }\n",
              "    80% {\n",
              "      border-color: transparent;\n",
              "      border-right-color: var(--fill-color);\n",
              "      border-bottom-color: var(--fill-color);\n",
              "    }\n",
              "    90% {\n",
              "      border-color: transparent;\n",
              "      border-bottom-color: var(--fill-color);\n",
              "    }\n",
              "  }\n",
              "</style>\n",
              "\n",
              "  <script>\n",
              "    async function quickchart(key) {\n",
              "      const quickchartButtonEl =\n",
              "        document.querySelector('#' + key + ' button');\n",
              "      quickchartButtonEl.disabled = true;  // To prevent multiple clicks.\n",
              "      quickchartButtonEl.classList.add('colab-df-spinner');\n",
              "      try {\n",
              "        const charts = await google.colab.kernel.invokeFunction(\n",
              "            'suggestCharts', [key], {});\n",
              "      } catch (error) {\n",
              "        console.error('Error during call to suggestCharts:', error);\n",
              "      }\n",
              "      quickchartButtonEl.classList.remove('colab-df-spinner');\n",
              "      quickchartButtonEl.classList.add('colab-df-quickchart-complete');\n",
              "    }\n",
              "    (() => {\n",
              "      let quickchartButtonEl =\n",
              "        document.querySelector('#df-0d138964-1951-4fa7-8c9c-b22206699759 button');\n",
              "      quickchartButtonEl.style.display =\n",
              "        google.colab.kernel.accessAllowed ? 'block' : 'none';\n",
              "    })();\n",
              "  </script>\n",
              "</div>\n",
              "\n",
              "    </div>\n",
              "  </div>\n"
            ],
            "application/vnd.google.colaboratory.intrinsic+json": {
              "type": "dataframe",
              "variable_name": "data2",
              "summary": "{\n  \"name\": \"data2\",\n  \"rows\": 2236,\n  \"fields\": [\n    {\n      \"column\": \"state\",\n      \"properties\": {\n        \"dtype\": \"category\",\n        \"num_unique_values\": 26,\n        \"samples\": [\n          \"Jammu and Kashmir\",\n          \"Odisha\",\n          \"Andaman and Nicobar\"\n        ],\n        \"semantic_type\": \"\",\n        \"description\": \"\"\n      }\n    },\n    {\n      \"column\": \"district\",\n      \"properties\": {\n        \"dtype\": \"category\",\n        \"num_unique_values\": 174,\n        \"samples\": [\n          \"Rampur\",\n          \"Jhansi\",\n          \"Coimbatore\"\n        ],\n        \"semantic_type\": \"\",\n        \"description\": \"\"\n      }\n    },\n    {\n      \"column\": \"market\",\n      \"properties\": {\n        \"dtype\": \"category\",\n        \"num_unique_values\": 326,\n        \"samples\": [\n          \"Rajapalayam\",\n          \"Parlakhemundi\",\n          \"Achnera\"\n        ],\n        \"semantic_type\": \"\",\n        \"description\": \"\"\n      }\n    },\n    {\n      \"column\": \"commodity\",\n      \"properties\": {\n        \"dtype\": \"category\",\n        \"num_unique_values\": 156,\n        \"samples\": [\n          \"Water Melon\",\n          \"Papaya (Raw)\",\n          \"Mashrooms\"\n        ],\n        \"semantic_type\": \"\",\n        \"description\": \"\"\n      }\n    },\n    {\n      \"column\": \"variety\",\n      \"properties\": {\n        \"dtype\": \"category\",\n        \"num_unique_values\": 218,\n        \"samples\": [\n          \"Rasakathai\",\n          \"Moath Dal\",\n          \"Hybrid Red (Cattle Feed)\"\n        ],\n        \"semantic_type\": \"\",\n        \"description\": \"\"\n      }\n    },\n    {\n      \"column\": \"arrival_date\",\n      \"properties\": {\n        \"dtype\": \"object\",\n        \"num_unique_values\": 2,\n        \"samples\": [\n          \"08/03/2019\",\n          \"04/03/2019\"\n        ],\n        \"semantic_type\": \"\",\n        \"description\": \"\"\n      }\n    },\n    {\n      \"column\": \"min_price\",\n      \"properties\": {\n        \"dtype\": \"number\",\n        \"std\": 3450,\n        \"min\": 0,\n        \"max\": 110000,\n        \"num_unique_values\": 417,\n        \"samples\": [\n          1650,\n          520\n        ],\n        \"semantic_type\": \"\",\n        \"description\": \"\"\n      }\n    },\n    {\n      \"column\": \"max_price\",\n      \"properties\": {\n        \"dtype\": \"number\",\n        \"std\": 3915,\n        \"min\": 0,\n        \"max\": 130000,\n        \"num_unique_values\": 482,\n        \"samples\": [\n          4120,\n          6700\n        ],\n        \"semantic_type\": \"\",\n        \"description\": \"\"\n      }\n    },\n    {\n      \"column\": \"modal_price\",\n      \"properties\": {\n        \"dtype\": \"number\",\n        \"std\": 3693,\n        \"min\": 2,\n        \"max\": 120000,\n        \"num_unique_values\": 506,\n        \"samples\": [\n          910,\n          1280\n        ],\n        \"semantic_type\": \"\",\n        \"description\": \"\"\n      }\n    },\n    {\n      \"column\": \"month_column\",\n      \"properties\": {\n        \"dtype\": \"category\",\n        \"num_unique_values\": 2,\n        \"samples\": [\n          \"August\",\n          \"April\"\n        ],\n        \"semantic_type\": \"\",\n        \"description\": \"\"\n      }\n    },\n    {\n      \"column\": \"season_names\",\n      \"properties\": {\n        \"dtype\": \"category\",\n        \"num_unique_values\": 2,\n        \"samples\": [\n          \"monsoon\",\n          \"spring\"\n        ],\n        \"semantic_type\": \"\",\n        \"description\": \"\"\n      }\n    }\n  ]\n}"
            }
          },
          "metadata": {},
          "execution_count": 90
        }
      ]
    },
    {
      "cell_type": "code",
      "source": [
        "import pandas as pd\n",
        "df = pd.Timestamp(\"04/03/2019\")\n",
        "print(df.dayofweek)"
      ],
      "metadata": {
        "colab": {
          "base_uri": "https://localhost:8080/"
        },
        "id": "esqJ-jjt44jZ",
        "outputId": "ab41be97-c0d6-41b5-932c-e147b891e02a"
      },
      "execution_count": null,
      "outputs": [
        {
          "output_type": "stream",
          "name": "stdout",
          "text": [
            "2\n"
          ]
        }
      ]
    },
    {
      "cell_type": "code",
      "source": [
        "day_of_week = []"
      ],
      "metadata": {
        "id": "8wE-eizI46bG"
      },
      "execution_count": null,
      "outputs": []
    },
    {
      "cell_type": "code",
      "source": [
        "for rr in data2[\"arrival_date\"]:\n",
        "    str = rr\n",
        "    df = pd.Timestamp(rr)\n",
        "    day = df.dayofweek\n",
        "    day_of_week.append(day)"
      ],
      "metadata": {
        "id": "MAL-Zi8t49w0"
      },
      "execution_count": null,
      "outputs": []
    },
    {
      "cell_type": "code",
      "source": [
        "len(day_of_week)\n"
      ],
      "metadata": {
        "colab": {
          "base_uri": "https://localhost:8080/"
        },
        "id": "UFUICfAB4_wG",
        "outputId": "492ec53c-95af-4f9d-eba4-ff5470f9f2b9"
      },
      "execution_count": null,
      "outputs": [
        {
          "output_type": "execute_result",
          "data": {
            "text/plain": [
              "2236"
            ]
          },
          "metadata": {},
          "execution_count": 94
        }
      ]
    },
    {
      "cell_type": "code",
      "source": [
        "data2[\"day\"] = day_of_week"
      ],
      "metadata": {
        "id": "obyEN_wB5F5v"
      },
      "execution_count": null,
      "outputs": []
    },
    {
      "cell_type": "code",
      "source": [
        "data2.tail()"
      ],
      "metadata": {
        "colab": {
          "base_uri": "https://localhost:8080/",
          "height": 313
        },
        "id": "CEWNjOKxy7VH",
        "outputId": "ada4b7af-c3bf-4b74-8e96-c908054fcf44"
      },
      "execution_count": null,
      "outputs": [
        {
          "output_type": "execute_result",
          "data": {
            "text/plain": [
              "            state        district    market commodity variety arrival_date  \\\n",
              "2233  West Bengal  Uttar Dinajpur  Islampur    Potato   Jyoti   08/03/2019   \n",
              "2234  West Bengal  Uttar Dinajpur  Islampur      Rice   Other   08/03/2019   \n",
              "2235  West Bengal  Uttar Dinajpur   Raiganj      Jute    TD-5   08/03/2019   \n",
              "2236  West Bengal  Uttar Dinajpur   Raiganj      Rice   Other   08/03/2019   \n",
              "2237  West Bengal  Uttar Dinajpur   Raiganj     Wheat  Kalyan   08/03/2019   \n",
              "\n",
              "      min_price  max_price  modal_price month_column season_names  day  \n",
              "2233        530        570          550       August      monsoon    5  \n",
              "2234       3550       3650         3600       August      monsoon    5  \n",
              "2235       4400       4600         4500       August      monsoon    5  \n",
              "2236       3450       3550         3500       August      monsoon    5  \n",
              "2237       2075       2125         2100       August      monsoon    5  "
            ],
            "text/html": [
              "\n",
              "  <div id=\"df-a6b1081d-9a04-4dcf-a4da-595251e40399\" class=\"colab-df-container\">\n",
              "    <div>\n",
              "<style scoped>\n",
              "    .dataframe tbody tr th:only-of-type {\n",
              "        vertical-align: middle;\n",
              "    }\n",
              "\n",
              "    .dataframe tbody tr th {\n",
              "        vertical-align: top;\n",
              "    }\n",
              "\n",
              "    .dataframe thead th {\n",
              "        text-align: right;\n",
              "    }\n",
              "</style>\n",
              "<table border=\"1\" class=\"dataframe\">\n",
              "  <thead>\n",
              "    <tr style=\"text-align: right;\">\n",
              "      <th></th>\n",
              "      <th>state</th>\n",
              "      <th>district</th>\n",
              "      <th>market</th>\n",
              "      <th>commodity</th>\n",
              "      <th>variety</th>\n",
              "      <th>arrival_date</th>\n",
              "      <th>min_price</th>\n",
              "      <th>max_price</th>\n",
              "      <th>modal_price</th>\n",
              "      <th>month_column</th>\n",
              "      <th>season_names</th>\n",
              "      <th>day</th>\n",
              "    </tr>\n",
              "  </thead>\n",
              "  <tbody>\n",
              "    <tr>\n",
              "      <th>2233</th>\n",
              "      <td>West Bengal</td>\n",
              "      <td>Uttar Dinajpur</td>\n",
              "      <td>Islampur</td>\n",
              "      <td>Potato</td>\n",
              "      <td>Jyoti</td>\n",
              "      <td>08/03/2019</td>\n",
              "      <td>530</td>\n",
              "      <td>570</td>\n",
              "      <td>550</td>\n",
              "      <td>August</td>\n",
              "      <td>monsoon</td>\n",
              "      <td>5</td>\n",
              "    </tr>\n",
              "    <tr>\n",
              "      <th>2234</th>\n",
              "      <td>West Bengal</td>\n",
              "      <td>Uttar Dinajpur</td>\n",
              "      <td>Islampur</td>\n",
              "      <td>Rice</td>\n",
              "      <td>Other</td>\n",
              "      <td>08/03/2019</td>\n",
              "      <td>3550</td>\n",
              "      <td>3650</td>\n",
              "      <td>3600</td>\n",
              "      <td>August</td>\n",
              "      <td>monsoon</td>\n",
              "      <td>5</td>\n",
              "    </tr>\n",
              "    <tr>\n",
              "      <th>2235</th>\n",
              "      <td>West Bengal</td>\n",
              "      <td>Uttar Dinajpur</td>\n",
              "      <td>Raiganj</td>\n",
              "      <td>Jute</td>\n",
              "      <td>TD-5</td>\n",
              "      <td>08/03/2019</td>\n",
              "      <td>4400</td>\n",
              "      <td>4600</td>\n",
              "      <td>4500</td>\n",
              "      <td>August</td>\n",
              "      <td>monsoon</td>\n",
              "      <td>5</td>\n",
              "    </tr>\n",
              "    <tr>\n",
              "      <th>2236</th>\n",
              "      <td>West Bengal</td>\n",
              "      <td>Uttar Dinajpur</td>\n",
              "      <td>Raiganj</td>\n",
              "      <td>Rice</td>\n",
              "      <td>Other</td>\n",
              "      <td>08/03/2019</td>\n",
              "      <td>3450</td>\n",
              "      <td>3550</td>\n",
              "      <td>3500</td>\n",
              "      <td>August</td>\n",
              "      <td>monsoon</td>\n",
              "      <td>5</td>\n",
              "    </tr>\n",
              "    <tr>\n",
              "      <th>2237</th>\n",
              "      <td>West Bengal</td>\n",
              "      <td>Uttar Dinajpur</td>\n",
              "      <td>Raiganj</td>\n",
              "      <td>Wheat</td>\n",
              "      <td>Kalyan</td>\n",
              "      <td>08/03/2019</td>\n",
              "      <td>2075</td>\n",
              "      <td>2125</td>\n",
              "      <td>2100</td>\n",
              "      <td>August</td>\n",
              "      <td>monsoon</td>\n",
              "      <td>5</td>\n",
              "    </tr>\n",
              "  </tbody>\n",
              "</table>\n",
              "</div>\n",
              "    <div class=\"colab-df-buttons\">\n",
              "\n",
              "  <div class=\"colab-df-container\">\n",
              "    <button class=\"colab-df-convert\" onclick=\"convertToInteractive('df-a6b1081d-9a04-4dcf-a4da-595251e40399')\"\n",
              "            title=\"Convert this dataframe to an interactive table.\"\n",
              "            style=\"display:none;\">\n",
              "\n",
              "  <svg xmlns=\"http://www.w3.org/2000/svg\" height=\"24px\" viewBox=\"0 -960 960 960\">\n",
              "    <path d=\"M120-120v-720h720v720H120Zm60-500h600v-160H180v160Zm220 220h160v-160H400v160Zm0 220h160v-160H400v160ZM180-400h160v-160H180v160Zm440 0h160v-160H620v160ZM180-180h160v-160H180v160Zm440 0h160v-160H620v160Z\"/>\n",
              "  </svg>\n",
              "    </button>\n",
              "\n",
              "  <style>\n",
              "    .colab-df-container {\n",
              "      display:flex;\n",
              "      gap: 12px;\n",
              "    }\n",
              "\n",
              "    .colab-df-convert {\n",
              "      background-color: #E8F0FE;\n",
              "      border: none;\n",
              "      border-radius: 50%;\n",
              "      cursor: pointer;\n",
              "      display: none;\n",
              "      fill: #1967D2;\n",
              "      height: 32px;\n",
              "      padding: 0 0 0 0;\n",
              "      width: 32px;\n",
              "    }\n",
              "\n",
              "    .colab-df-convert:hover {\n",
              "      background-color: #E2EBFA;\n",
              "      box-shadow: 0px 1px 2px rgba(60, 64, 67, 0.3), 0px 1px 3px 1px rgba(60, 64, 67, 0.15);\n",
              "      fill: #174EA6;\n",
              "    }\n",
              "\n",
              "    .colab-df-buttons div {\n",
              "      margin-bottom: 4px;\n",
              "    }\n",
              "\n",
              "    [theme=dark] .colab-df-convert {\n",
              "      background-color: #3B4455;\n",
              "      fill: #D2E3FC;\n",
              "    }\n",
              "\n",
              "    [theme=dark] .colab-df-convert:hover {\n",
              "      background-color: #434B5C;\n",
              "      box-shadow: 0px 1px 3px 1px rgba(0, 0, 0, 0.15);\n",
              "      filter: drop-shadow(0px 1px 2px rgba(0, 0, 0, 0.3));\n",
              "      fill: #FFFFFF;\n",
              "    }\n",
              "  </style>\n",
              "\n",
              "    <script>\n",
              "      const buttonEl =\n",
              "        document.querySelector('#df-a6b1081d-9a04-4dcf-a4da-595251e40399 button.colab-df-convert');\n",
              "      buttonEl.style.display =\n",
              "        google.colab.kernel.accessAllowed ? 'block' : 'none';\n",
              "\n",
              "      async function convertToInteractive(key) {\n",
              "        const element = document.querySelector('#df-a6b1081d-9a04-4dcf-a4da-595251e40399');\n",
              "        const dataTable =\n",
              "          await google.colab.kernel.invokeFunction('convertToInteractive',\n",
              "                                                    [key], {});\n",
              "        if (!dataTable) return;\n",
              "\n",
              "        const docLinkHtml = 'Like what you see? Visit the ' +\n",
              "          '<a target=\"_blank\" href=https://colab.research.google.com/notebooks/data_table.ipynb>data table notebook</a>'\n",
              "          + ' to learn more about interactive tables.';\n",
              "        element.innerHTML = '';\n",
              "        dataTable['output_type'] = 'display_data';\n",
              "        await google.colab.output.renderOutput(dataTable, element);\n",
              "        const docLink = document.createElement('div');\n",
              "        docLink.innerHTML = docLinkHtml;\n",
              "        element.appendChild(docLink);\n",
              "      }\n",
              "    </script>\n",
              "  </div>\n",
              "\n",
              "\n",
              "<div id=\"df-759ef881-01e0-4aae-9340-e287f90aa653\">\n",
              "  <button class=\"colab-df-quickchart\" onclick=\"quickchart('df-759ef881-01e0-4aae-9340-e287f90aa653')\"\n",
              "            title=\"Suggest charts\"\n",
              "            style=\"display:none;\">\n",
              "\n",
              "<svg xmlns=\"http://www.w3.org/2000/svg\" height=\"24px\"viewBox=\"0 0 24 24\"\n",
              "     width=\"24px\">\n",
              "    <g>\n",
              "        <path d=\"M19 3H5c-1.1 0-2 .9-2 2v14c0 1.1.9 2 2 2h14c1.1 0 2-.9 2-2V5c0-1.1-.9-2-2-2zM9 17H7v-7h2v7zm4 0h-2V7h2v10zm4 0h-2v-4h2v4z\"/>\n",
              "    </g>\n",
              "</svg>\n",
              "  </button>\n",
              "\n",
              "<style>\n",
              "  .colab-df-quickchart {\n",
              "      --bg-color: #E8F0FE;\n",
              "      --fill-color: #1967D2;\n",
              "      --hover-bg-color: #E2EBFA;\n",
              "      --hover-fill-color: #174EA6;\n",
              "      --disabled-fill-color: #AAA;\n",
              "      --disabled-bg-color: #DDD;\n",
              "  }\n",
              "\n",
              "  [theme=dark] .colab-df-quickchart {\n",
              "      --bg-color: #3B4455;\n",
              "      --fill-color: #D2E3FC;\n",
              "      --hover-bg-color: #434B5C;\n",
              "      --hover-fill-color: #FFFFFF;\n",
              "      --disabled-bg-color: #3B4455;\n",
              "      --disabled-fill-color: #666;\n",
              "  }\n",
              "\n",
              "  .colab-df-quickchart {\n",
              "    background-color: var(--bg-color);\n",
              "    border: none;\n",
              "    border-radius: 50%;\n",
              "    cursor: pointer;\n",
              "    display: none;\n",
              "    fill: var(--fill-color);\n",
              "    height: 32px;\n",
              "    padding: 0;\n",
              "    width: 32px;\n",
              "  }\n",
              "\n",
              "  .colab-df-quickchart:hover {\n",
              "    background-color: var(--hover-bg-color);\n",
              "    box-shadow: 0 1px 2px rgba(60, 64, 67, 0.3), 0 1px 3px 1px rgba(60, 64, 67, 0.15);\n",
              "    fill: var(--button-hover-fill-color);\n",
              "  }\n",
              "\n",
              "  .colab-df-quickchart-complete:disabled,\n",
              "  .colab-df-quickchart-complete:disabled:hover {\n",
              "    background-color: var(--disabled-bg-color);\n",
              "    fill: var(--disabled-fill-color);\n",
              "    box-shadow: none;\n",
              "  }\n",
              "\n",
              "  .colab-df-spinner {\n",
              "    border: 2px solid var(--fill-color);\n",
              "    border-color: transparent;\n",
              "    border-bottom-color: var(--fill-color);\n",
              "    animation:\n",
              "      spin 1s steps(1) infinite;\n",
              "  }\n",
              "\n",
              "  @keyframes spin {\n",
              "    0% {\n",
              "      border-color: transparent;\n",
              "      border-bottom-color: var(--fill-color);\n",
              "      border-left-color: var(--fill-color);\n",
              "    }\n",
              "    20% {\n",
              "      border-color: transparent;\n",
              "      border-left-color: var(--fill-color);\n",
              "      border-top-color: var(--fill-color);\n",
              "    }\n",
              "    30% {\n",
              "      border-color: transparent;\n",
              "      border-left-color: var(--fill-color);\n",
              "      border-top-color: var(--fill-color);\n",
              "      border-right-color: var(--fill-color);\n",
              "    }\n",
              "    40% {\n",
              "      border-color: transparent;\n",
              "      border-right-color: var(--fill-color);\n",
              "      border-top-color: var(--fill-color);\n",
              "    }\n",
              "    60% {\n",
              "      border-color: transparent;\n",
              "      border-right-color: var(--fill-color);\n",
              "    }\n",
              "    80% {\n",
              "      border-color: transparent;\n",
              "      border-right-color: var(--fill-color);\n",
              "      border-bottom-color: var(--fill-color);\n",
              "    }\n",
              "    90% {\n",
              "      border-color: transparent;\n",
              "      border-bottom-color: var(--fill-color);\n",
              "    }\n",
              "  }\n",
              "</style>\n",
              "\n",
              "  <script>\n",
              "    async function quickchart(key) {\n",
              "      const quickchartButtonEl =\n",
              "        document.querySelector('#' + key + ' button');\n",
              "      quickchartButtonEl.disabled = true;  // To prevent multiple clicks.\n",
              "      quickchartButtonEl.classList.add('colab-df-spinner');\n",
              "      try {\n",
              "        const charts = await google.colab.kernel.invokeFunction(\n",
              "            'suggestCharts', [key], {});\n",
              "      } catch (error) {\n",
              "        console.error('Error during call to suggestCharts:', error);\n",
              "      }\n",
              "      quickchartButtonEl.classList.remove('colab-df-spinner');\n",
              "      quickchartButtonEl.classList.add('colab-df-quickchart-complete');\n",
              "    }\n",
              "    (() => {\n",
              "      let quickchartButtonEl =\n",
              "        document.querySelector('#df-759ef881-01e0-4aae-9340-e287f90aa653 button');\n",
              "      quickchartButtonEl.style.display =\n",
              "        google.colab.kernel.accessAllowed ? 'block' : 'none';\n",
              "    })();\n",
              "  </script>\n",
              "</div>\n",
              "\n",
              "    </div>\n",
              "  </div>\n"
            ],
            "application/vnd.google.colaboratory.intrinsic+json": {
              "type": "dataframe",
              "repr_error": "0"
            }
          },
          "metadata": {},
          "execution_count": 96
        }
      ]
    },
    {
      "cell_type": "code",
      "source": [
        "print(data2.columns)"
      ],
      "metadata": {
        "colab": {
          "base_uri": "https://localhost:8080/"
        },
        "id": "p577vJot9fe4",
        "outputId": "493b4c84-55ea-407c-a4c1-8d787f9c4e16"
      },
      "execution_count": null,
      "outputs": [
        {
          "output_type": "stream",
          "name": "stdout",
          "text": [
            "Index(['state', 'district', 'market', 'commodity', 'variety', 'arrival_date',\n",
            "       'min_price', 'max_price', 'modal_price', 'month_column', 'season_names',\n",
            "       'day'],\n",
            "      dtype='object')\n"
          ]
        }
      ]
    },
    {
      "cell_type": "code",
      "source": [
        "data2 = data2.head(1000)"
      ],
      "metadata": {
        "id": "xL5s02Ms_J1q"
      },
      "execution_count": null,
      "outputs": []
    },
    {
      "cell_type": "code",
      "source": [
        "import seaborn as sns\n",
        "import matplotlib.pyplot as plt\n",
        "\n",
        "\n",
        "sns.boxplot(x=data2['modal_price'], orient='h')\n",
        "\n",
        "plt.show()\n"
      ],
      "metadata": {
        "colab": {
          "base_uri": "https://localhost:8080/",
          "height": 450
        },
        "id": "nw1MgfCk_W3s",
        "outputId": "916fd491-7745-4433-dade-25910f0f0109"
      },
      "execution_count": null,
      "outputs": [
        {
          "output_type": "display_data",
          "data": {
            "text/plain": [
              "<Figure size 640x480 with 1 Axes>"
            ],
            "image/png": "[encoded data removed]"
          },
          "metadata": {}
        }
      ]
    },
    {
      "cell_type": "code",
      "source": [
        "data2.shape"
      ],
      "metadata": {
        "colab": {
          "base_uri": "https://localhost:8080/"
        },
        "id": "tU78Wyny_m3x",
        "outputId": "07302258-e065-416b-8b48-0ff492703a73"
      },
      "execution_count": null,
      "outputs": [
        {
          "output_type": "execute_result",
          "data": {
            "text/plain": [
              "(1000, 12)"
            ]
          },
          "metadata": {},
          "execution_count": 100
        }
      ]
    },
    {
      "cell_type": "code",
      "source": [
        "data2['modal_price']"
      ],
      "metadata": {
        "colab": {
          "base_uri": "https://localhost:8080/",
          "height": 458
        },
        "id": "yOsVpJG0AVdn",
        "outputId": "0642813d-4769-4070-ae85-c0865085fa50"
      },
      "execution_count": null,
      "outputs": [
        {
          "output_type": "execute_result",
          "data": {
            "text/plain": [
              "0        7000\n",
              "1        5000\n",
              "2        7000\n",
              "3        7000\n",
              "4      120000\n",
              "        ...  \n",
              "995      1500\n",
              "996      1400\n",
              "997       600\n",
              "998      2200\n",
              "999       800\n",
              "Name: modal_price, Length: 1000, dtype: int64"
            ],
            "text/html": [
              "<div>\n",
              "<style scoped>\n",
              "    .dataframe tbody tr th:only-of-type {\n",
              "        vertical-align: middle;\n",
              "    }\n",
              "\n",
              "    .dataframe tbody tr th {\n",
              "        vertical-align: top;\n",
              "    }\n",
              "\n",
              "    .dataframe thead th {\n",
              "        text-align: right;\n",
              "    }\n",
              "</style>\n",
              "<table border=\"1\" class=\"dataframe\">\n",
              "  <thead>\n",
              "    <tr style=\"text-align: right;\">\n",
              "      <th></th>\n",
              "      <th>modal_price</th>\n",
              "    </tr>\n",
              "  </thead>\n",
              "  <tbody>\n",
              "    <tr>\n",
              "      <th>0</th>\n",
              "      <td>7000</td>\n",
              "    </tr>\n",
              "    <tr>\n",
              "      <th>1</th>\n",
              "      <td>5000</td>\n",
              "    </tr>\n",
              "    <tr>\n",
              "      <th>2</th>\n",
              "      <td>7000</td>\n",
              "    </tr>\n",
              "    <tr>\n",
              "      <th>3</th>\n",
              "      <td>7000</td>\n",
              "    </tr>\n",
              "    <tr>\n",
              "      <th>4</th>\n",
              "      <td>120000</td>\n",
              "    </tr>\n",
              "    <tr>\n",
              "      <th>...</th>\n",
              "      <td>...</td>\n",
              "    </tr>\n",
              "    <tr>\n",
              "      <th>995</th>\n",
              "      <td>1500</td>\n",
              "    </tr>\n",
              "    <tr>\n",
              "      <th>996</th>\n",
              "      <td>1400</td>\n",
              "    </tr>\n",
              "    <tr>\n",
              "      <th>997</th>\n",
              "      <td>600</td>\n",
              "    </tr>\n",
              "    <tr>\n",
              "      <th>998</th>\n",
              "      <td>2200</td>\n",
              "    </tr>\n",
              "    <tr>\n",
              "      <th>999</th>\n",
              "      <td>800</td>\n",
              "    </tr>\n",
              "  </tbody>\n",
              "</table>\n",
              "<p>1000 rows × 1 columns</p>\n",
              "</div><br><label><b>dtype:</b> int64</label>"
            ]
          },
          "metadata": {},
          "execution_count": 101
        }
      ]
    },
    {
      "cell_type": "code",
      "source": [
        "Q1 = np.percentile(data2['modal_price'],25,interpolation = 'midpoint')\n",
        "\n",
        "Q3 = np.percentile(data2['modal_price'],75  ,interpolation = 'midpoint')\n",
        "IQR = Q3-Q1"
      ],
      "metadata": {
        "id": "YXGNjKxMAvnK"
      },
      "execution_count": null,
      "outputs": []
    },
    {
      "cell_type": "code",
      "source": [
        "  upper = np.where(data2['modal_price'] >= (Q3+1.5*IQR))\n",
        "  lower = np.where(data2['modal_price'] <= (Q1-1.5*IQR))"
      ],
      "metadata": {
        "id": "2NDMHgKzBdyF"
      },
      "execution_count": null,
      "outputs": []
    },
    {
      "cell_type": "code",
      "source": [
        "print(upper[0],lower[0])"
      ],
      "metadata": {
        "colab": {
          "base_uri": "https://localhost:8080/"
        },
        "id": "UzReIDlgBzFK",
        "outputId": "1a4193ae-40fe-4a47-cff2-2474a4f9b6b2"
      },
      "execution_count": null,
      "outputs": [
        {
          "output_type": "stream",
          "name": "stdout",
          "text": [
            "[  4   8   9  10  85  86  87 206 247 254 292 297 310 321 327 353 406 408\n",
            " 432 444 445 447 448 449 451 455 456 460 463 474 478 483 522 525 544 575\n",
            " 600 678 733 756 785 845 888 900 909 911 917 920 928 931 939 941] []\n"
          ]
        }
      ]
    },
    {
      "cell_type": "code",
      "source": [
        "upper_list = upper[0].tolist()\n",
        "lower_list = lower[0].tolist()\n",
        "\n",
        "valid_upper = [x for x in upper_list if x in data2.index]\n",
        "valid_lower = [x for x in lower_list if x in data2.index]\n",
        "\n",
        "data2.drop(valid_upper, inplace = True)\n",
        "data2.drop(valid_lower, inplace = True)\n",
        "\n",
        "print(\"New shape\",data2.shape)"
      ],
      "metadata": {
        "colab": {
          "base_uri": "https://localhost:8080/"
        },
        "id": "TxR_BhIaCvPw",
        "outputId": "d880bca5-9cb5-4e9d-9990-9fbfa81b11ad"
      },
      "execution_count": null,
      "outputs": [
        {
          "output_type": "stream",
          "name": "stdout",
          "text": [
            "New shape (948, 12)\n"
          ]
        }
      ]
    },
    {
      "cell_type": "code",
      "source": [
        "\n",
        "sns.boxplot(x=data2['modal_price'], orient='h')\n",
        "\n",
        "plt.show()"
      ],
      "metadata": {
        "colab": {
          "base_uri": "https://localhost:8080/",
          "height": 450
        },
        "id": "eOzbOrduDawi",
        "outputId": "6c831b74-bde5-4947-fcf1-8175d13ac2fc"
      },
      "execution_count": null,
      "outputs": [
        {
          "output_type": "display_data",
          "data": {
            "text/plain": [
              "<Figure size 640x480 with 1 Axes>"
            ],
            "image/png": "[encoded data removed]"
          },
          "metadata": {}
        }
      ]
    },
    {
      "cell_type": "code",
      "source": [
        "df = data2.copy()"
      ],
      "metadata": {
        "id": "M1hz27fAHo_y"
      },
      "execution_count": null,
      "outputs": []
    },
    {
      "cell_type": "code",
      "source": [
        "data2.columns"
      ],
      "metadata": {
        "colab": {
          "base_uri": "https://localhost:8080/"
        },
        "id": "_iXcajIII2pu",
        "outputId": "09d3247e-bc95-41e4-9bb7-d72a159470c8"
      },
      "execution_count": null,
      "outputs": [
        {
          "output_type": "execute_result",
          "data": {
            "text/plain": [
              "Index(['state', 'district', 'market', 'commodity', 'variety', 'arrival_date',\n",
              "       'min_price', 'max_price', 'modal_price', 'month_column', 'season_names',\n",
              "       'day'],\n",
              "      dtype='object')"
            ]
          },
          "metadata": {},
          "execution_count": 109
        }
      ]
    },
    {
      "cell_type": "code",
      "source": [
        "import plotly.express as px"
      ],
      "metadata": {
        "id": "f7XHeBnXJCVG"
      },
      "execution_count": null,
      "outputs": []
    },
    {
      "cell_type": "code",
      "source": [
        "sns.relplot(data=df,x=\"state\",y=\"modal_price\",hue=\"season_names\",kind=\"line\")\n"
      ],
      "metadata": {
        "colab": {
          "base_uri": "https://localhost:8080/",
          "height": 523
        },
        "id": "v2SzBfVdJMgI",
        "outputId": "ac2dfc03-2612-4c29-dbf0-2f6e5114a6e2"
      },
      "execution_count": null,
      "outputs": [
        {
          "output_type": "execute_result",
          "data": {
            "text/plain": [
              "<seaborn.axisgrid.FacetGrid at 0x78cd49350430>"
            ]
          },
          "metadata": {},
          "execution_count": 111
        },
        {
          "output_type": "display_data",
          "data": {
            "text/plain": [
              "<Figure size 613.236x500 with 1 Axes>"
            ],
            "image/png": "[encoded data removed]"
          },
          "metadata": {}
        }
      ]
    },
    {
      "cell_type": "code",
      "source": [
        "sns.relplot(data=df,x=\"district\",y=\"modal_price\",hue=\"season_names\",kind=\"line\")"
      ],
      "metadata": {
        "colab": {
          "base_uri": "https://localhost:8080/",
          "height": 523
        },
        "id": "9ykDaN-0K0-b",
        "outputId": "8c1185f8-6c72-4b19-fa6a-4901524d2141"
      },
      "execution_count": null,
      "outputs": [
        {
          "output_type": "execute_result",
          "data": {
            "text/plain": [
              "<seaborn.axisgrid.FacetGrid at 0x78cd494449d0>"
            ]
          },
          "metadata": {},
          "execution_count": 112
        },
        {
          "output_type": "display_data",
          "data": {
            "text/plain": [
              "<Figure size 613.236x500 with 1 Axes>"
            ],
            "image/png": "[encoded data removed]"
          },
          "metadata": {}
        }
      ]
    },
    {
      "cell_type": "code",
      "source": [
        "fig = px.bar(df, x=\"district\",y= \"modal_price\",color=\"season_names\",height=400)\n",
        "fig.show()"
      ],
      "metadata": {
        "colab": {
          "base_uri": "https://localhost:8080/",
          "height": 417
        },
        "id": "1IDYo-htLoVy",
        "outputId": "8e7bbc81-e388-4514-a5a4-cb4276808e19"
      },
      "execution_count": null,
      "outputs": [
        {
          "output_type": "display_data",
          "data": {
            "text/html": [
              "<html>\n",
              "<head><meta charset=\"utf-8\" /></head>\n",
              "<body>\n",
              "    <div>            <script src=\"https://cdnjs.cloudflare.com/ajax/libs/mathjax/2.7.5/MathJax.js?config=TeX-AMS-MML_SVG\"></script><script type=\"text/javascript\">if (window.MathJax && window.MathJax.Hub && window.MathJax.Hub.Config) {window.MathJax.Hub.Config({SVG: {font: \"STIX-Web\"}});}</script>                <script type=\"text/javascript\">window.PlotlyConfig = {MathJaxConfig: 'local'};</script>\n",
              "        <script charset=\"utf-8\" src=\"https://cdn.plot.ly/plotly-2.24.1.min.js\"></script>                <div id=\"795709ae-71e3-4317-9c31-6fcae504d795\" class=\"plotly-graph-div\" style=\"height:400px; width:100%;\"></div>            <script type=\"text/javascript\">                                    window.PLOTLYENV=window.PLOTLYENV || {};                                    if (document.getElementById(\"795709ae-71e3-4317-9c31-6fcae504d795\")) {                    Plotly.newPlot(                        \"795709ae-71e3-4317-9c31-6fcae504d795\",                        [{\"alignmentgroup\":\"True\",\"hovertemplate\":\"season_names=spring\\u003cbr\\u003edistrict=%{x}\\u003cbr\\u003emodal_price=%{y}\\u003cextra\\u003e\\u003c\\u002fextra\\u003e\",\"legendgroup\":\"spring\",\"marker\":{\"color\":\"#636efa\",\"pattern\":{\"shape\":\"\"}},\"name\":\"spring\",\"offsetgroup\":\"spring\",\"orientation\":\"v\",\"showlegend\":true,\"textposition\":\"auto\",\"x\":[\"South Andaman\",\"South Andaman\",\"South Andaman\",\"South Andaman\",\"South Andaman\",\"South Andaman\",\"South Andaman\",\"South Andaman\",\"South Andaman\",\"South Andaman\",\"South Andaman\",\"Chittor\",\"Chittor\",\"Chittor\",\"Kurnool\",\"Kurnool\",\"Kurnool\",\"West Godavari\",\"Cachar\",\"Cachar\",\"Cachar\",\"Darrang\",\"Darrang\",\"Darrang\",\"Darrang\",\"Darrang\",\"Darrang\",\"Darrang\",\"Darrang\",\"Darrang\",\"Darrang\",\"Darrang\",\"Darrang\",\"Darrang\",\"Darrang\",\"Darrang\",\"Darrang\",\"Dhubri\",\"Dhubri\",\"Dhubri\",\"Dhubri\",\"Dhubri\",\"Dhubri\",\"Dhubri\",\"Dhubri\",\"Jorhat\",\"Jorhat\",\"Jorhat\",\"Jorhat\",\"Jorhat\",\"Jorhat\",\"Jorhat\",\"Kamrup\",\"Kamrup\",\"Kamrup\",\"Kamrup\",\"Kamrup\",\"Kamrup\",\"Kamrup\",\"Kamrup\",\"Kamrup\",\"Kamrup\",\"Kamrup\",\"Kamrup\",\"Kamrup\",\"Kamrup\",\"Sonitpur\",\"Sonitpur\",\"Sonitpur\",\"Sonitpur\",\"Sonitpur\",\"Sonitpur\",\"Sonitpur\",\"Sonitpur\",\"Sonitpur\",\"Sonitpur\",\"Bastar\",\"Kanker\",\"Kanker\",\"Kanker\",\"Surajpur\",\"Amreli\",\"Amreli\",\"Amreli\",\"Amreli\",\"Amreli\",\"Anand\",\"Anand\",\"Anand\",\"Bharuch\",\"Bharuch\",\"Bharuch\",\"Bharuch\",\"Bharuch\",\"Bharuch\",\"Bharuch\",\"Bharuch\",\"Bharuch\",\"Bharuch\",\"Bharuch\",\"Bharuch\",\"Bharuch\",\"Bharuch\",\"Bharuch\",\"Bharuch\",\"Bharuch\",\"Bharuch\",\"Bharuch\",\"Bharuch\",\"Bharuch\",\"Bharuch\",\"Bharuch\",\"Bharuch\",\"Bharuch\",\"Kachchh\",\"Kheda\",\"Kheda\",\"Panchmahals\",\"Panchmahals\",\"Panchmahals\",\"Panchmahals\",\"Panchmahals\",\"Panchmahals\",\"Panchmahals\",\"Panchmahals\",\"Surat\",\"Surat\",\"Surat\",\"Surat\",\"Surat\",\"Surat\",\"Surat\",\"Surat\",\"Surat\",\"Surat\",\"Surat\",\"Surat\",\"Surat\",\"Surat\",\"Surat\",\"Surat\",\"Surat\",\"Surat\",\"Surat\",\"Surat\",\"Surat\",\"Surat\",\"Surat\",\"Surat\",\"Surat\",\"Surat\",\"Surat\",\"Surat\",\"Surat\",\"Surat\",\"Surat\",\"Vadodara(Baroda)\",\"Vadodara(Baroda)\",\"Vadodara(Baroda)\",\"Vadodara(Baroda)\",\"Vadodara(Baroda)\",\"Vadodara(Baroda)\",\"Vadodara(Baroda)\",\"Vadodara(Baroda)\",\"Vadodara(Baroda)\",\"Vadodara(Baroda)\",\"Vadodara(Baroda)\",\"Vadodara(Baroda)\",\"Vadodara(Baroda)\",\"Vadodara(Baroda)\",\"Vadodara(Baroda)\",\"Vadodara(Baroda)\",\"Vadodara(Baroda)\",\"Vadodara(Baroda)\",\"Vadodara(Baroda)\",\"Vadodara(Baroda)\",\"Vadodara(Baroda)\",\"Vadodara(Baroda)\",\"Vadodara(Baroda)\",\"Vadodara(Baroda)\",\"Vadodara(Baroda)\",\"Vadodara(Baroda)\",\"Vadodara(Baroda)\",\"Vadodara(Baroda)\",\"Vadodara(Baroda)\",\"Vadodara(Baroda)\",\"Vadodara(Baroda)\",\"Vadodara(Baroda)\",\"Vadodara(Baroda)\",\"Vadodara(Baroda)\",\"Valsad\",\"Valsad\",\"Valsad\",\"Valsad\",\"Ambala\",\"Ambala\",\"Ambala\",\"Ambala\",\"Ambala\",\"Ambala\",\"Ambala\",\"Ambala\",\"Ambala\",\"Ambala\",\"Ambala\",\"Ambala\",\"Ambala\",\"Ambala\",\"Faridabad\",\"Faridabad\",\"Faridabad\",\"Faridabad\",\"Faridabad\",\"Faridabad\",\"Faridabad\",\"Faridabad\",\"Faridabad\",\"Faridabad\",\"Faridabad\",\"Faridabad\",\"Faridabad\",\"Gurgaon\",\"Gurgaon\",\"Gurgaon\",\"Gurgaon\",\"Gurgaon\",\"Gurgaon\",\"Gurgaon\",\"Gurgaon\",\"Gurgaon\",\"Gurgaon\",\"Gurgaon\",\"Gurgaon\",\"Gurgaon\",\"Gurgaon\",\"Gurgaon\",\"Gurgaon\",\"Gurgaon\",\"Kurukshetra\",\"Mewat\",\"Mewat\",\"Mewat\",\"Mewat\",\"Mewat\",\"Mewat\",\"Mewat\",\"Mewat\",\"Mewat\",\"Mewat\",\"Mewat\",\"Mewat\",\"Mewat\",\"Panipat\",\"Panipat\",\"Panipat\",\"Panipat\",\"Kangra\",\"Kangra\",\"Kangra\",\"Kangra\",\"Kangra\",\"Kangra\",\"Kangra\",\"Kangra\",\"Kangra\",\"Kangra\",\"Kangra\",\"Kangra\",\"Kangra\",\"Kangra\",\"Kangra\",\"Kangra\",\"Kangra\",\"Kangra\",\"Kangra\",\"Kangra\",\"Kangra\",\"Kangra\",\"Kangra\",\"Kangra\",\"Kangra\",\"Kangra\",\"Kangra\",\"Kangra\",\"Kangra\",\"Kangra\",\"Kangra\",\"Kangra\",\"Kangra\",\"Kangra\",\"Kangra\",\"Kangra\",\"Kangra\",\"Kangra\",\"Kangra\",\"Kangra\",\"Kangra\",\"Kangra\",\"Kangra\",\"Kangra\",\"Kangra\",\"Kangra\",\"Kangra\",\"Kangra\",\"Kangra\",\"Kangra\",\"Kangra\",\"Kangra\",\"Kangra\",\"Kangra\",\"Kangra\",\"Kangra\",\"Kangra\",\"Kangra\",\"Kangra\",\"Kangra\",\"Kangra\",\"Kangra\",\"Kangra\",\"Kangra\",\"Kangra\",\"Kangra\",\"Kangra\",\"Kangra\",\"Kangra\",\"Kangra\",\"Kullu\",\"Kullu\",\"Kullu\",\"Kullu\",\"Kullu\",\"Kullu\",\"Kullu\",\"Kullu\",\"Kullu\",\"Kullu\",\"Kullu\",\"Kullu\",\"Kullu\",\"Kullu\",\"Kullu\",\"Kullu\",\"Kullu\",\"Kullu\",\"Kullu\",\"Kullu\",\"Kullu\",\"Kullu\",\"Kullu\",\"Kullu\",\"Kullu\",\"Kullu\",\"Badgam\",\"Badgam\",\"Badgam\",\"Bangalore\",\"Bangalore\",\"Bangalore\",\"Bangalore\",\"Bangalore\",\"Bangalore\",\"Bangalore\",\"Bangalore\",\"Bangalore\",\"Bangalore\",\"Bangalore\",\"Bangalore\",\"Bangalore\",\"Bangalore\",\"Bangalore\",\"Bangalore\",\"Bangalore\",\"Bangalore\",\"Bangalore\",\"Bangalore\",\"Bangalore\",\"Bangalore\",\"Bangalore\",\"Kolar\",\"Kolar\",\"Kolar\",\"Kolar\",\"Kolar\",\"Kolar\",\"Kolar\",\"Kolar\",\"Kolar\",\"Kolar\",\"Kolar\",\"Kolar\",\"Alappuzha\",\"Alappuzha\",\"Alappuzha\",\"Alappuzha\",\"Alappuzha\",\"Alappuzha\",\"Alappuzha\",\"Alappuzha\",\"Alappuzha\",\"Alappuzha\",\"Alappuzha\",\"Alappuzha\",\"Alappuzha\",\"Alappuzha\",\"Alappuzha\",\"Alappuzha\",\"Alappuzha\",\"Alappuzha\",\"Alappuzha\",\"Alappuzha\",\"Alappuzha\",\"Alappuzha\",\"Alappuzha\",\"Alappuzha\",\"Alappuzha\",\"Ernakulam\",\"Ernakulam\",\"Ernakulam\",\"Ernakulam\",\"Ernakulam\",\"Ernakulam\",\"Ernakulam\",\"Ernakulam\",\"Ernakulam\",\"Ernakulam\",\"Kannur\",\"Kasargod\",\"Kasargod\",\"Kasargod\",\"Kasargod\",\"Kasargod\",\"Kasargod\",\"Kasargod\",\"Kasargod\",\"Kasargod\",\"Kasargod\",\"Kasargod\",\"Kasargod\",\"Kasargod\",\"Kasargod\",\"Kasargod\",\"Kasargod\",\"Kasargod\",\"Kasargod\",\"Kasargod\",\"Kasargod\",\"Kasargod\",\"Kasargod\",\"Kasargod\",\"Kasargod\",\"Kasargod\",\"Kasargod\",\"Kasargod\",\"Kasargod\",\"Kasargod\",\"Kasargod\",\"Kasargod\",\"Kasargod\",\"Kasargod\",\"Kollam\",\"Kollam\",\"Kollam\",\"Kollam\",\"Kollam\",\"Kollam\",\"Kollam\",\"Kollam\",\"Kollam\",\"Kollam\",\"Kollam\",\"Kollam\",\"Kollam\",\"Kollam\",\"Kollam\",\"Kollam\",\"Kollam\",\"Kollam\",\"Kollam\",\"Kollam\",\"Kollam\",\"Kollam\",\"Kollam\",\"Kollam\",\"Kollam\",\"Kollam\",\"Kollam\",\"Kollam\",\"Kollam\",\"Kollam\",\"Kollam\",\"Kollam\",\"Kollam\",\"Kollam\",\"Kollam\",\"Kollam\",\"Kottayam\",\"Kottayam\",\"Kottayam\",\"Kottayam\",\"Kottayam\",\"Kottayam\",\"Kottayam\",\"Kottayam\",\"Kottayam\",\"Kottayam\",\"Kottayam\",\"Kottayam\",\"Kottayam\",\"Kottayam\",\"Kottayam\",\"Kottayam\",\"Kottayam\",\"Kottayam\",\"Kottayam\",\"Kottayam\",\"Kottayam\",\"Kottayam\",\"Kottayam\",\"Kottayam\",\"Kottayam\",\"Kottayam\",\"Kottayam\",\"Kottayam\",\"Malappuram\",\"Malappuram\",\"Malappuram\",\"Malappuram\",\"Malappuram\",\"Malappuram\",\"Malappuram\",\"Malappuram\",\"Malappuram\",\"Malappuram\",\"Malappuram\",\"Malappuram\",\"Malappuram\",\"Malappuram\",\"Malappuram\",\"Malappuram\",\"Malappuram\",\"Malappuram\",\"Malappuram\",\"Malappuram\",\"Malappuram\",\"Malappuram\",\"Malappuram\",\"Malappuram\",\"Malappuram\",\"Thirssur\",\"Thirssur\",\"Thirssur\",\"Thirssur\",\"Thirssur\",\"Thirssur\",\"Thirssur\",\"Thirssur\",\"Thirssur\",\"Thirssur\",\"Thirssur\",\"Thirssur\",\"Thirssur\",\"Thirssur\",\"Thirssur\",\"Thirssur\",\"Thirssur\",\"Thirssur\",\"Thirssur\",\"Thirssur\",\"Thirssur\",\"Thirssur\",\"Thirssur\",\"Thirssur\",\"Thirssur\",\"Thirssur\",\"Thirssur\",\"Thirssur\",\"Thirssur\",\"Thirssur\",\"Thirssur\",\"Thirssur\",\"Thirssur\",\"Thirssur\",\"Thirssur\",\"Thirssur\",\"Thirssur\",\"Thirssur\",\"Thirssur\",\"Thirssur\",\"Thirssur\",\"Thirssur\",\"Thirssur\",\"Thirssur\",\"Thirssur\",\"Thirssur\",\"Thirssur\",\"Thirssur\",\"Thirssur\",\"Thirssur\",\"Thirssur\",\"Thirssur\",\"Thirssur\",\"Thirssur\",\"Thirssur\",\"Thirssur\",\"Thirssur\",\"Thirssur\",\"Thirssur\",\"Thirssur\",\"Thirssur\",\"Thirssur\",\"Thirssur\",\"Thirssur\",\"Thirssur\",\"Thirssur\",\"Thirssur\",\"Thirssur\",\"Thirssur\",\"Thirssur\",\"Thiruvananthapuram\",\"Thiruvananthapuram\",\"Thiruvananthapuram\",\"Thiruvananthapuram\",\"Thiruvananthapuram\",\"Thiruvananthapuram\",\"Thiruvananthapuram\",\"Thiruvananthapuram\",\"Thiruvananthapuram\",\"Thiruvananthapuram\",\"Thiruvananthapuram\",\"Thiruvananthapuram\",\"Thiruvananthapuram\",\"Thiruvananthapuram\",\"Thiruvananthapuram\",\"Thiruvananthapuram\",\"Thiruvananthapuram\",\"Thiruvananthapuram\",\"Thiruvananthapuram\",\"Thiruvananthapuram\",\"Thiruvananthapuram\",\"Thiruvananthapuram\",\"Thiruvananthapuram\",\"Thiruvananthapuram\",\"Thiruvananthapuram\",\"Anupur\",\"Badwani\",\"Badwani\",\"Badwani\",\"Badwani\",\"Badwani\",\"Badwani\",\"Badwani\",\"Dhar\",\"Dhar\",\"Dhar\",\"Dhar\",\"Dhar\",\"Dhar\",\"Dhar\",\"Dindori\",\"Dindori\",\"Dindori\",\"Dindori\",\"Jhabua\",\"Jhabua\",\"Jhabua\",\"Jhabua\",\"Jhabua\",\"Jhabua\",\"Jhabua\",\"Jhabua\",\"Jhabua\",\"Jhabua\",\"Jhabua\",\"Jhabua\",\"Jhabua\",\"Jhabua\",\"Jhabua\",\"Jhabua\",\"Khandwa\",\"Narsinghpur\",\"Narsinghpur\",\"Narsinghpur\",\"Sheopur\",\"Sheopur\",\"Sheopur\",\"Sheopur\",\"Sheopur\",\"Ahmednagar\",\"Ahmednagar\",\"Buldhana\",\"Jalgaon\",\"Jalgaon\",\"Jalgaon\",\"Jalgaon\",\"Jalgaon\",\"Kolhapur\",\"Kolhapur\",\"Kolhapur\",\"Kolhapur\",\"Kolhapur\",\"Kolhapur\",\"Kolhapur\",\"Kolhapur\",\"Kolhapur\",\"Kolhapur\",\"Kolhapur\",\"Kolhapur\",\"Kolhapur\",\"Nagpur\",\"Nagpur\",\"Nagpur\",\"Nagpur\",\"Nanded\",\"Nanded\",\"Nanded\",\"Nanded\",\"Nashik\",\"Pune\",\"Pune\",\"Pune\",\"Pune\",\"Pune\",\"Pune\",\"Pune\",\"Pune\",\"Pune\",\"Pune\",\"Pune\",\"Pune\",\"Pune\",\"Pune\",\"Pune\",\"Pune\",\"Pune\",\"Pune\",\"Pune\",\"Pune\",\"Pune\",\"Pune\",\"Pune\",\"Pune\",\"Pune\",\"Pune\",\"Pune\",\"Pune\",\"Pune\",\"Pune\",\"Pune\",\"Pune\",\"Pune\",\"Pune\",\"Pune\",\"Pune\",\"Pune\",\"Pune\",\"Pune\",\"Pune\",\"Pune\",\"Pune\",\"Pune\",\"Pune\",\"Pune\",\"Pune\",\"Pune\",\"Pune\",\"Pune\",\"Pune\",\"Pune\",\"Pune\",\"Pune\",\"Pune\",\"Pune\",\"Pune\",\"Pune\",\"Pune\",\"Pune\",\"Pune\",\"Pune\",\"Pune\",\"Pune\",\"Pune\",\"Pune\",\"Pune\",\"Pune\",\"Pune\",\"Pune\",\"Pune\",\"Pune\",\"Pune\",\"Pune\",\"Pune\",\"Pune\",\"Pune\",\"Pune\",\"Pune\",\"Pune\",\"Pune\",\"Pune\",\"Pune\",\"Pune\",\"Pune\",\"Pune\",\"Pune\",\"Pune\",\"Satara\",\"Satara\",\"Satara\",\"Satara\",\"Satara\",\"Satara\",\"Satara\",\"Satara\",\"Satara\",\"Satara\",\"Satara\",\"Satara\",\"Satara\",\"Satara\",\"Satara\",\"Satara\",\"Satara\",\"Satara\",\"Satara\",\"Satara\",\"Satara\",\"Satara\",\"Satara\",\"Satara\",\"Satara\",\"Satara\",\"Satara\",\"Satara\",\"Satara\",\"Sholapur\",\"Sholapur\",\"Sholapur\",\"Sholapur\",\"Sholapur\",\"Sholapur\",\"Sholapur\",\"Sholapur\",\"Sholapur\",\"Sholapur\",\"Sholapur\",\"Sholapur\",\"Bishnupur\",\"Bishnupur\",\"Bishnupur\",\"Bishnupur\",\"Bishnupur\",\"Bishnupur\",\"Bishnupur\",\"Bishnupur\",\"Bishnupur\",\"Chandel\",\"Chandel\",\"Chandel\",\"Chandel\",\"Chandel\",\"Chandel\",\"Chandel\",\"Chandel\",\"Imphal East\",\"Imphal East\",\"Imphal East\",\"Imphal East\",\"Imphal East\",\"Imphal East\",\"Imphal East\",\"Imphal East\",\"Imphal West\",\"Imphal West\",\"Imphal West\",\"Imphal West\",\"Imphal West\",\"Imphal West\",\"Imphal West\",\"Imphal West\",\"Imphal West\",\"Thoubal\",\"Thoubal\",\"Thoubal\",\"Thoubal\",\"Thoubal\",\"Thoubal\",\"Thoubal\",\"Thoubal\",\"Thoubal\",\"Thoubal\",\"East Khasi Hills\",\"East Khasi Hills\",\"East Khasi Hills\",\"East Khasi Hills\",\"Mokokchung\",\"Mokokchung\",\"Mokokchung\",\"Mokokchung\",\"Mokokchung\",\"Mokokchung\",\"Angul\",\"Angul\",\"Angul\",\"Balasore\",\"Balasore\",\"Balasore\",\"Balasore\",\"Balasore\",\"Balasore\",\"Balasore\",\"Balasore\",\"Balasore\",\"Balasore\",\"Bargarh\",\"Dhenkanal\",\"Dhenkanal\",\"Dhenkanal\",\"Dhenkanal\",\"Dhenkanal\",\"Dhenkanal\",\"Dhenkanal\",\"Dhenkanal\",\"Dhenkanal\",\"Dhenkanal\",\"Gajapati\",\"Gajapati\",\"Gajapati\",\"Gajapati\",\"Gajapati\",\"Gajapati\",\"Gajapati\",\"Ganjam\",\"Ganjam\",\"Ganjam\",\"Ganjam\",\"Ganjam\",\"Jharsuguda\",\"Jharsuguda\",\"Mayurbhanja\",\"Mayurbhanja\",\"Mayurbhanja\",\"Mayurbhanja\",\"Mayurbhanja\",\"Mayurbhanja\",\"Mayurbhanja\",\"Mayurbhanja\",\"Mayurbhanja\",\"Mayurbhanja\",\"Mayurbhanja\"],\"xaxis\":\"x\",\"y\":[7000,5000,7000,7000,3500,7500,6500,5600,6000,3000,3000,620,300,760,4600,1900,1950,1760,7000,2400,2800,6400,850,850,350,1050,1450,4100,1550,2900,2250,3600,950,650,650,850,1150,4400,6400,2800,2370,2400,4500,2500,2300,5000,6600,6200,1200,550,3200,2800,5500,1300,500,1000,1900,2000,4500,1600,1100,700,900,1100,4100,1450,2200,5850,750,700,2000,3900,1800,4100,2400,2800,4200,1500,1500,1500,4900,1550,1100,1300,1600,1300,2080,2015,4870,3425,1850,650,925,2600,825,1100,825,3425,2175,3475,2825,6100,3000,1450,3700,825,1225,1325,3475,1500,2450,2900,3150,1425,4010,700,1450,4850,4550,1900,1525,1900,1800,1850,1425,1150,1100,1300,3755,1182,2927,1475,3005,3147,1387,3755,1182,2927,1475,3005,3147,1387,5025,1050,650,950,2250,2500,2000,5200,3350,1697,2850,2750,1400,1300,5400,5400,5400,5400,3800,3800,1750,750,850,1250,3000,3300,1750,1400,1650,6300,3000,2100,750,4150,850,1300,600,850,1600,3000,700,950,850,475,1950,2500,1700,1350,5875,1375,5250,2875,3000,3000,700,1805,3000,4000,5000,1500,1000,1410,1200,325,600,715,5000,450,450,2000,4000,2900,1250,2000,900,4500,550,900,1750,3000,2700,550,400,1450,1400,3500,1000,2200,1650,1500,4250,650,750,750,1550,1500,296,2000,1300,6000,700,3500,3000,3000,1500,3000,5000,700,800,1500,800,1500,1000,1500,7500,2800,2500,800,4800,1000,1000,2500,2200,1800,7500,800,600,1500,2000,5000,2400,4250,2250,1350,450,4250,650,1350,1350,3900,4250,6250,1600,3900,950,3750,750,3250,2250,1650,2250,4250,750,550,950,2350,2500,6500,3000,2500,900,4500,900,1100,5500,5500,7000,5000,4500,2200,5500,5500,1100,4500,2500,1800,4000,7500,800,1700,800,1700,2200,1200,2370,5650,2600,2500,900,5650,1150,1650,1300,4800,5250,5300,7500,6300,6150,2650,6500,1250,2900,2650,1400,1750,700,900,1900,2550,800,1600,1250,3600,1600,3400,3800,1300,1400,1600,5500,1750,2900,5500,2900,3800,1800,1300,3000,1800,3600,1500,1400,2500,900,1400,3100,1400,1100,3800,1200,1200,3000,1000,400,3800,1000,667,1900,1100,4300,2900,2100,4100,2400,1200,3800,2000,4000,4500,1100,6000,3600,4200,2000,3600,1100,4100,3100,4100,3500,3200,3800,1800,2500,1800,3500,2200,4500,2200,4500,2500,1800,3300,1550,2250,3050,5550,2100,1100,1850,850,2900,2700,4600,2600,6500,5750,1800,3600,2500,2700,3450,5000,2700,6000,5000,4600,4600,2700,2400,2700,5000,3600,3000,2900,1800,4600,5700,6100,2700,5900,4800,2400,3200,3800,6100,1300,1600,5600,3600,4100,3500,1900,1100,2300,4200,2000,4500,4500,5000,3500,7000,4000,3500,1400,5800,4200,3800,3200,1800,2450,2100,1400,3800,2100,2200,2700,3400,2300,2100,2600,3400,3600,5700,2000,5800,2300,3800,3400,3400,3500,1400,2800,1100,1900,2500,2200,4000,1800,3000,1800,3800,2300,1300,1900,3200,3100,1700,1900,1300,2100,2100,3100,1300,6100,3100,7100,3100,4100,1400,5900,2100,1300,1700,1100,1700,1900,4300,2100,2300,2700,1700,2100,3500,3600,3500,2100,2300,3200,3600,2600,2100,2100,1900,2600,1700,1900,2500,2100,2200,6000,6200,3000,3200,4000,2400,2500,3000,3800,2700,4000,3500,2000,2600,2400,4000,3500,4000,2000,3500,2500,2400,3000,4000,2000,850,3600,2100,2300,3600,1500,2200,2300,2400,1400,3000,7000,3800,3000,950,1400,1100,2200,2000,1600,3900,3600,3200,1700,1400,1100,3000,2700,3400,3900,3600,1800,1500,1200,3500,3800,1400,3500,5000,6000,3000,4000,4000,1700,2600,1750,750,700,700,700,800,700,800,2200,1200,3200,2000,2000,800,900,3475,4150,1325,3350,2000,1450,1700,1600,1400,1500,1550,5400,2200,3650,1300,650,1300,1300,1550,1915,1300,750,400,2250,3250,450,1100,750,550,400,4000,5300,910,4220,5200,1350,510,1800,1100,1050,2450,4600,3625,4500,450,1350,250,200,250,200,4860,3745,5325,2000,4000,3651,5200,1900,351,3500,1000,2500,4000,1500,1500,800,1000,1000,1500,2500,4,2000,3000,1300,2000,4500,3000,3500,5000,3500,1700,1000,2000,2,300,5,2900,1800,1400,1100,1500,12,4,3000,1700,4,1500,1000,400,1000,400,5000,5000,1500,1800,800,1000,3,3000,3000,4500,1800,6,6,300,5,4000,8,3,6000,3,1400,800,900,750,4,2400,400,5,850,8,4,1000,3600,1400,2000,2600,1550,1200,4,5000,550,1000,10,9,1200,1000,2500,4000,3700,1000,800,1000,1000,900,2500,3500,2,2000,2000,3400,6500,2250,4500,4600,800,3,2600,2500,1500,3800,2,1800,1000,700,2000,1400,2800,3100,1300,2,2000,5000,500,2900,1000,475,3500,1300,2500,4500,7300,2500,2250,1000,3700,3000,1000,2000,3500,7400,2500,1400,3500,3500,1500,2500,5500,2500,2500,1000,4100,3500,1500,2000,3000,7000,2500,2250,1500,3800,3500,1000,2000,5500,7500,2000,2375,1000,3900,2500,4000,6500,4000,1850,1500,4200,2300,1700,1700,1700,500,500,800,1200,700,5100,7500,1100,700,550,1450,2900,600,1750,2800,2500,3800,4200,1000,2400,1300,900,1300,800,3000,3000,1000,1200,3000,3000,1500,1500,1400,1750,3200,1350,1300,900,2800,2800,700,600,1500,3500,1500,1400,600,2200,800],\"yaxis\":\"y\",\"type\":\"bar\"}],                        {\"template\":{\"data\":{\"histogram2dcontour\":[{\"type\":\"histogram2dcontour\",\"colorbar\":{\"outlinewidth\":0,\"ticks\":\"\"},\"colorscale\":[[0.0,\"#0d0887\"],[0.1111111111111111,\"#46039f\"],[0.2222222222222222,\"#7201a8\"],[0.3333333333333333,\"#9c179e\"],[0.4444444444444444,\"#bd3786\"],[0.5555555555555556,\"#d8576b\"],[0.6666666666666666,\"#ed7953\"],[0.7777777777777778,\"#fb9f3a\"],[0.8888888888888888,\"#fdca26\"],[1.0,\"#f0f921\"]]}],\"choropleth\":[{\"type\":\"choropleth\",\"colorbar\":{\"outlinewidth\":0,\"ticks\":\"\"}}],\"histogram2d\":[{\"type\":\"histogram2d\",\"colorbar\":{\"outlinewidth\":0,\"ticks\":\"\"},\"colorscale\":[[0.0,\"#0d0887\"],[0.1111111111111111,\"#46039f\"],[0.2222222222222222,\"#7201a8\"],[0.3333333333333333,\"#9c179e\"],[0.4444444444444444,\"#bd3786\"],[0.5555555555555556,\"#d8576b\"],[0.6666666666666666,\"#ed7953\"],[0.7777777777777778,\"#fb9f3a\"],[0.8888888888888888,\"#fdca26\"],[1.0,\"#f0f921\"]]}],\"heatmap\":[{\"type\":\"heatmap\",\"colorbar\":{\"outlinewidth\":0,\"ticks\":\"\"},\"colorscale\":[[0.0,\"#0d0887\"],[0.1111111111111111,\"#46039f\"],[0.2222222222222222,\"#7201a8\"],[0.3333333333333333,\"#9c179e\"],[0.4444444444444444,\"#bd3786\"],[0.5555555555555556,\"#d8576b\"],[0.6666666666666666,\"#ed7953\"],[0.7777777777777778,\"#fb9f3a\"],[0.8888888888888888,\"#fdca26\"],[1.0,\"#f0f921\"]]}],\"heatmapgl\":[{\"type\":\"heatmapgl\",\"colorbar\":{\"outlinewidth\":0,\"ticks\":\"\"},\"colorscale\":[[0.0,\"#0d0887\"],[0.1111111111111111,\"#46039f\"],[0.2222222222222222,\"#7201a8\"],[0.3333333333333333,\"#9c179e\"],[0.4444444444444444,\"#bd3786\"],[0.5555555555555556,\"#d8576b\"],[0.6666666666666666,\"#ed7953\"],[0.7777777777777778,\"#fb9f3a\"],[0.8888888888888888,\"#fdca26\"],[1.0,\"#f0f921\"]]}],\"contourcarpet\":[{\"type\":\"contourcarpet\",\"colorbar\":{\"outlinewidth\":0,\"ticks\":\"\"}}],\"contour\":[{\"type\":\"contour\",\"colorbar\":{\"outlinewidth\":0,\"ticks\":\"\"},\"colorscale\":[[0.0,\"#0d0887\"],[0.1111111111111111,\"#46039f\"],[0.2222222222222222,\"#7201a8\"],[0.3333333333333333,\"#9c179e\"],[0.4444444444444444,\"#bd3786\"],[0.5555555555555556,\"#d8576b\"],[0.6666666666666666,\"#ed7953\"],[0.7777777777777778,\"#fb9f3a\"],[0.8888888888888888,\"#fdca26\"],[1.0,\"#f0f921\"]]}],\"surface\":[{\"type\":\"surface\",\"colorbar\":{\"outlinewidth\":0,\"ticks\":\"\"},\"colorscale\":[[0.0,\"#0d0887\"],[0.1111111111111111,\"#46039f\"],[0.2222222222222222,\"#7201a8\"],[0.3333333333333333,\"#9c179e\"],[0.4444444444444444,\"#bd3786\"],[0.5555555555555556,\"#d8576b\"],[0.6666666666666666,\"#ed7953\"],[0.7777777777777778,\"#fb9f3a\"],[0.8888888888888888,\"#fdca26\"],[1.0,\"#f0f921\"]]}],\"mesh3d\":[{\"type\":\"mesh3d\",\"colorbar\":{\"outlinewidth\":0,\"ticks\":\"\"}}],\"scatter\":[{\"fillpattern\":{\"fillmode\":\"overlay\",\"size\":10,\"solidity\":0.2},\"type\":\"scatter\"}],\"parcoords\":[{\"type\":\"parcoords\",\"line\":{\"colorbar\":{\"outlinewidth\":0,\"ticks\":\"\"}}}],\"scatterpolargl\":[{\"type\":\"scatterpolargl\",\"marker\":{\"colorbar\":{\"outlinewidth\":0,\"ticks\":\"\"}}}],\"bar\":[{\"error_x\":{\"color\":\"#2a3f5f\"},\"error_y\":{\"color\":\"#2a3f5f\"},\"marker\":{\"line\":{\"color\":\"#E5ECF6\",\"width\":0.5},\"pattern\":{\"fillmode\":\"overlay\",\"size\":10,\"solidity\":0.2}},\"type\":\"bar\"}],\"scattergeo\":[{\"type\":\"scattergeo\",\"marker\":{\"colorbar\":{\"outlinewidth\":0,\"ticks\":\"\"}}}],\"scatterpolar\":[{\"type\":\"scatterpolar\",\"marker\":{\"colorbar\":{\"outlinewidth\":0,\"ticks\":\"\"}}}],\"histogram\":[{\"marker\":{\"pattern\":{\"fillmode\":\"overlay\",\"size\":10,\"solidity\":0.2}},\"type\":\"histogram\"}],\"scattergl\":[{\"type\":\"scattergl\",\"marker\":{\"colorbar\":{\"outlinewidth\":0,\"ticks\":\"\"}}}],\"scatter3d\":[{\"type\":\"scatter3d\",\"line\":{\"colorbar\":{\"outlinewidth\":0,\"ticks\":\"\"}},\"marker\":{\"colorbar\":{\"outlinewidth\":0,\"ticks\":\"\"}}}],\"scattermapbox\":[{\"type\":\"scattermapbox\",\"marker\":{\"colorbar\":{\"outlinewidth\":0,\"ticks\":\"\"}}}],\"scatterternary\":[{\"type\":\"scatterternary\",\"marker\":{\"colorbar\":{\"outlinewidth\":0,\"ticks\":\"\"}}}],\"scattercarpet\":[{\"type\":\"scattercarpet\",\"marker\":{\"colorbar\":{\"outlinewidth\":0,\"ticks\":\"\"}}}],\"carpet\":[{\"aaxis\":{\"endlinecolor\":\"#2a3f5f\",\"gridcolor\":\"white\",\"linecolor\":\"white\",\"minorgridcolor\":\"white\",\"startlinecolor\":\"#2a3f5f\"},\"baxis\":{\"endlinecolor\":\"#2a3f5f\",\"gridcolor\":\"white\",\"linecolor\":\"white\",\"minorgridcolor\":\"white\",\"startlinecolor\":\"#2a3f5f\"},\"type\":\"carpet\"}],\"table\":[{\"cells\":{\"fill\":{\"color\":\"#EBF0F8\"},\"line\":{\"color\":\"white\"}},\"header\":{\"fill\":{\"color\":\"#C8D4E3\"},\"line\":{\"color\":\"white\"}},\"type\":\"table\"}],\"barpolar\":[{\"marker\":{\"line\":{\"color\":\"#E5ECF6\",\"width\":0.5},\"pattern\":{\"fillmode\":\"overlay\",\"size\":10,\"solidity\":0.2}},\"type\":\"barpolar\"}],\"pie\":[{\"automargin\":true,\"type\":\"pie\"}]},\"layout\":{\"autotypenumbers\":\"strict\",\"colorway\":[\"#636efa\",\"#EF553B\",\"#00cc96\",\"#ab63fa\",\"#FFA15A\",\"#19d3f3\",\"#FF6692\",\"#B6E880\",\"#FF97FF\",\"#FECB52\"],\"font\":{\"color\":\"#2a3f5f\"},\"hovermode\":\"closest\",\"hoverlabel\":{\"align\":\"left\"},\"paper_bgcolor\":\"white\",\"plot_bgcolor\":\"#E5ECF6\",\"polar\":{\"bgcolor\":\"#E5ECF6\",\"angularaxis\":{\"gridcolor\":\"white\",\"linecolor\":\"white\",\"ticks\":\"\"},\"radialaxis\":{\"gridcolor\":\"white\",\"linecolor\":\"white\",\"ticks\":\"\"}},\"ternary\":{\"bgcolor\":\"#E5ECF6\",\"aaxis\":{\"gridcolor\":\"white\",\"linecolor\":\"white\",\"ticks\":\"\"},\"baxis\":{\"gridcolor\":\"white\",\"linecolor\":\"white\",\"ticks\":\"\"},\"caxis\":{\"gridcolor\":\"white\",\"linecolor\":\"white\",\"ticks\":\"\"}},\"coloraxis\":{\"colorbar\":{\"outlinewidth\":0,\"ticks\":\"\"}},\"colorscale\":{\"sequential\":[[0.0,\"#0d0887\"],[0.1111111111111111,\"#46039f\"],[0.2222222222222222,\"#7201a8\"],[0.3333333333333333,\"#9c179e\"],[0.4444444444444444,\"#bd3786\"],[0.5555555555555556,\"#d8576b\"],[0.6666666666666666,\"#ed7953\"],[0.7777777777777778,\"#fb9f3a\"],[0.8888888888888888,\"#fdca26\"],[1.0,\"#f0f921\"]],\"sequentialminus\":[[0.0,\"#0d0887\"],[0.1111111111111111,\"#46039f\"],[0.2222222222222222,\"#7201a8\"],[0.3333333333333333,\"#9c179e\"],[0.4444444444444444,\"#bd3786\"],[0.5555555555555556,\"#d8576b\"],[0.6666666666666666,\"#ed7953\"],[0.7777777777777778,\"#fb9f3a\"],[0.8888888888888888,\"#fdca26\"],[1.0,\"#f0f921\"]],\"diverging\":[[0,\"#8e0152\"],[0.1,\"#c51b7d\"],[0.2,\"#de77ae\"],[0.3,\"#f1b6da\"],[0.4,\"#fde0ef\"],[0.5,\"#f7f7f7\"],[0.6,\"#e6f5d0\"],[0.7,\"#b8e186\"],[0.8,\"#7fbc41\"],[0.9,\"#4d9221\"],[1,\"#276419\"]]},\"xaxis\":{\"gridcolor\":\"white\",\"linecolor\":\"white\",\"ticks\":\"\",\"title\":{\"standoff\":15},\"zerolinecolor\":\"white\",\"automargin\":true,\"zerolinewidth\":2},\"yaxis\":{\"gridcolor\":\"white\",\"linecolor\":\"white\",\"ticks\":\"\",\"title\":{\"standoff\":15},\"zerolinecolor\":\"white\",\"automargin\":true,\"zerolinewidth\":2},\"scene\":{\"xaxis\":{\"backgroundcolor\":\"#E5ECF6\",\"gridcolor\":\"white\",\"linecolor\":\"white\",\"showbackground\":true,\"ticks\":\"\",\"zerolinecolor\":\"white\",\"gridwidth\":2},\"yaxis\":{\"backgroundcolor\":\"#E5ECF6\",\"gridcolor\":\"white\",\"linecolor\":\"white\",\"showbackground\":true,\"ticks\":\"\",\"zerolinecolor\":\"white\",\"gridwidth\":2},\"zaxis\":{\"backgroundcolor\":\"#E5ECF6\",\"gridcolor\":\"white\",\"linecolor\":\"white\",\"showbackground\":true,\"ticks\":\"\",\"zerolinecolor\":\"white\",\"gridwidth\":2}},\"shapedefaults\":{\"line\":{\"color\":\"#2a3f5f\"}},\"annotationdefaults\":{\"arrowcolor\":\"#2a3f5f\",\"arrowhead\":0,\"arrowwidth\":1},\"geo\":{\"bgcolor\":\"white\",\"landcolor\":\"#E5ECF6\",\"subunitcolor\":\"white\",\"showland\":true,\"showlakes\":true,\"lakecolor\":\"white\"},\"title\":{\"x\":0.05},\"mapbox\":{\"style\":\"light\"}}},\"xaxis\":{\"anchor\":\"y\",\"domain\":[0.0,1.0],\"title\":{\"text\":\"district\"}},\"yaxis\":{\"anchor\":\"x\",\"domain\":[0.0,1.0],\"title\":{\"text\":\"modal_price\"}},\"legend\":{\"title\":{\"text\":\"season_names\"},\"tracegroupgap\":0},\"margin\":{\"t\":60},\"barmode\":\"relative\",\"height\":400},                        {\"responsive\": true}                    ).then(function(){\n",
              "                            \n",
              "var gd = document.getElementById('795709ae-71e3-4317-9c31-6fcae504d795');\n",
              "var x = new MutationObserver(function (mutations, observer) {{\n",
              "        var display = window.getComputedStyle(gd).display;\n",
              "        if (!display || display === 'none') {{\n",
              "            console.log([gd, 'removed!']);\n",
              "            Plotly.purge(gd);\n",
              "            observer.disconnect();\n",
              "        }}\n",
              "}});\n",
              "\n",
              "// Listen for the removal of the full notebook cells\n",
              "var notebookContainer = gd.closest('#notebook-container');\n",
              "if (notebookContainer) {{\n",
              "    x.observe(notebookContainer, {childList: true});\n",
              "}}\n",
              "\n",
              "// Listen for the clearing of the current output cell\n",
              "var outputEl = gd.closest('.output');\n",
              "if (outputEl) {{\n",
              "    x.observe(outputEl, {childList: true});\n",
              "}}\n",
              "\n",
              "                        })                };                            </script>        </div>\n",
              "</body>\n",
              "</html>"
            ]
          },
          "metadata": {}
        }
      ]
    },
    {
      "cell_type": "code",
      "source": [
        "sns.relplot(data=df,x=\"season_names\",y=\"modal_price\",hue=\"season_names\",kind = \"line\")"
      ],
      "metadata": {
        "colab": {
          "base_uri": "https://localhost:8080/",
          "height": 523
        },
        "id": "B7xIOvFeMv8e",
        "outputId": "3761feed-c6f3-4fa8-89d2-5bcd19afd597"
      },
      "execution_count": null,
      "outputs": [
        {
          "output_type": "execute_result",
          "data": {
            "text/plain": [
              "<seaborn.axisgrid.FacetGrid at 0x78cd42f0a7d0>"
            ]
          },
          "metadata": {},
          "execution_count": 114
        },
        {
          "output_type": "display_data",
          "data": {
            "text/plain": [
              "<Figure size 613.236x500 with 1 Axes>"
            ],
            "image/png": "[encoded data removed]"
          },
          "metadata": {}
        }
      ]
    },
    {
      "cell_type": "code",
      "source": [
        "sns.relplot(data=df,x=\"day\",y=\"modal_price\",hue=\"season_names\",kind = \"line\")"
      ],
      "metadata": {
        "colab": {
          "base_uri": "https://localhost:8080/",
          "height": 523
        },
        "id": "HEeH1cT3NXsj",
        "outputId": "3e3f15b0-4c5f-43a6-a27b-e83e8bd330c4"
      },
      "execution_count": null,
      "outputs": [
        {
          "output_type": "execute_result",
          "data": {
            "text/plain": [
              "<seaborn.axisgrid.FacetGrid at 0x78cd42d595a0>"
            ]
          },
          "metadata": {},
          "execution_count": 115
        },
        {
          "output_type": "display_data",
          "data": {
            "text/plain": [
              "<Figure size 613.236x500 with 1 Axes>"
            ],
            "image/png": "[encoded data removed]"
          },
          "metadata": {}
        }
      ]
    },
    {
      "cell_type": "code",
      "source": [
        "data2.columns"
      ],
      "metadata": {
        "colab": {
          "base_uri": "https://localhost:8080/"
        },
        "id": "YK7KqZhnOFtV",
        "outputId": "c73a0d7c-9506-4811-9a08-7371bcbf118f"
      },
      "execution_count": null,
      "outputs": [
        {
          "output_type": "execute_result",
          "data": {
            "text/plain": [
              "Index(['state', 'district', 'market', 'commodity', 'variety', 'arrival_date',\n",
              "       'min_price', 'max_price', 'modal_price', 'month_column', 'season_names',\n",
              "       'day'],\n",
              "      dtype='object')"
            ]
          },
          "metadata": {},
          "execution_count": 116
        }
      ]
    },
    {
      "cell_type": "code",
      "source": [
        "sns.relplot(data=df,x=\"state\",y=\"modal_price\",hue=\"season_names\",kind = \"line\")"
      ],
      "metadata": {
        "colab": {
          "base_uri": "https://localhost:8080/",
          "height": 523
        },
        "id": "KI5YZfw1R2XC",
        "outputId": "67da93b6-70e3-4af1-a2a9-d66776591d96"
      },
      "execution_count": null,
      "outputs": [
        {
          "output_type": "execute_result",
          "data": {
            "text/plain": [
              "<seaborn.axisgrid.FacetGrid at 0x78cd42c6f460>"
            ]
          },
          "metadata": {},
          "execution_count": 117
        },
        {
          "output_type": "display_data",
          "data": {
            "text/plain": [
              "<Figure size 613.236x500 with 1 Axes>"
            ],
            "image/png": "[encoded data removed]"
          },
          "metadata": {}
        }
      ]
    },
    {
      "cell_type": "code",
      "source": [
        "sns.relplot(data=df,x=\"month_column\",y=\"modal_price\",hue=\"season_names\",kind = \"line\")"
      ],
      "metadata": {
        "colab": {
          "base_uri": "https://localhost:8080/",
          "height": 524
        },
        "id": "Cbf2_UwHSFlC",
        "outputId": "a71d96b0-a532-4ba2-b696-141871d17f11"
      },
      "execution_count": null,
      "outputs": [
        {
          "output_type": "execute_result",
          "data": {
            "text/plain": [
              "<seaborn.axisgrid.FacetGrid at 0x78cd42d45db0>"
            ]
          },
          "metadata": {},
          "execution_count": 118
        },
        {
          "output_type": "display_data",
          "data": {
            "text/plain": [
              "<Figure size 613.236x500 with 1 Axes>"
            ],
            "image/png": "[encoded data removed]"
          },
          "metadata": {}
        }
      ]
    },
    {
      "cell_type": "code",
      "source": [
        "data2.info()"
      ],
      "metadata": {
        "colab": {
          "base_uri": "https://localhost:8080/"
        },
        "id": "DKz21YGvSxKq",
        "outputId": "7392965b-5d98-482a-da1a-ae4efb401090"
      },
      "execution_count": null,
      "outputs": [
        {
          "output_type": "stream",
          "name": "stdout",
          "text": [
            "<class 'pandas.core.frame.DataFrame'>\n",
            "Index: 948 entries, 0 to 999\n",
            "Data columns (total 12 columns):\n",
            " #   Column        Non-Null Count  Dtype \n",
            "---  ------        --------------  ----- \n",
            " 0   state         948 non-null    object\n",
            " 1   district      948 non-null    object\n",
            " 2   market        948 non-null    object\n",
            " 3   commodity     948 non-null    object\n",
            " 4   variety       948 non-null    object\n",
            " 5   arrival_date  948 non-null    object\n",
            " 6   min_price     948 non-null    int64 \n",
            " 7   max_price     948 non-null    int64 \n",
            " 8   modal_price   948 non-null    int64 \n",
            " 9   month_column  948 non-null    object\n",
            " 10  season_names  948 non-null    object\n",
            " 11  day           948 non-null    int64 \n",
            "dtypes: int64(4), object(8)\n",
            "memory usage: 128.6+ KB\n"
          ]
        }
      ]
    },
    {
      "cell_type": "code",
      "source": [
        "dist = (data2['commodity'])\n",
        "distset = set(dist)\n",
        "dd= list(distset)\n",
        "dictOfWords={dd[i]: i for i in range(len(dd))}\n",
        "data2['commodity'] = data2['commodity'].map(dictOfWords)"
      ],
      "metadata": {
        "id": "R7QSOf8xS4so"
      },
      "execution_count": null,
      "outputs": []
    },
    {
      "cell_type": "code",
      "source": [
        "dist = (data2['state'])\n",
        "distset = set(dist)\n",
        "dd= list(distset)\n",
        "dictOfWords={dd[i]: i for i in range(len(dd))}\n",
        "data2['state'] = data2['state'].map(dictOfWords )"
      ],
      "metadata": {
        "id": "G0Y8_J72WFTD"
      },
      "execution_count": null,
      "outputs": []
    },
    {
      "cell_type": "code",
      "source": [
        "dist = (data2['district'])\n",
        "distset = set(dist)\n",
        "dd= list(distset)\n",
        "dictOfWords={dd[i]: i for i in range(len(dd))}\n",
        "data2['district'] = data2['district'].map(dictOfWords)"
      ],
      "metadata": {
        "id": "Sf1RLz8KWguP"
      },
      "execution_count": null,
      "outputs": []
    },
    {
      "cell_type": "code",
      "source": [
        "dist = (data2['market'])\n",
        "distset = set(dist)\n",
        "dd= list(distset)\n",
        "dictOfWords={dd[i]: i for i in range(len(dd))}\n",
        "data2['market'] = data2['market'].map(dictOfWords)"
      ],
      "metadata": {
        "id": "T0eXkIhfWvdf"
      },
      "execution_count": null,
      "outputs": []
    },
    {
      "cell_type": "code",
      "source": [
        "dist = (data2['month_column'])\n",
        "distset = set(dist)\n",
        "dd= list(distset)\n",
        "dictOfWords={dd[i]: i for i in range(len(dd))}\n",
        "data2['month_column'] = data2['month_column'].map(dictOfWords)"
      ],
      "metadata": {
        "id": "wG2Wfzx9XDE1"
      },
      "execution_count": null,
      "outputs": []
    },
    {
      "cell_type": "code",
      "source": [
        "dist = (data2['season_names'])\n",
        "distset = set(dist)\n",
        "dd= list(distset)\n",
        "dictOfWords={dd[i]: i for i in range(len(dd))}\n",
        "data2['season_names'] = data2['season_names'].map(dictOfWords)"
      ],
      "metadata": {
        "id": "SDsZKqomXa1u"
      },
      "execution_count": null,
      "outputs": []
    },
    {
      "cell_type": "code",
      "source": [
        "data2.info()"
      ],
      "metadata": {
        "colab": {
          "base_uri": "https://localhost:8080/"
        },
        "id": "8lySWKV0Xk2m",
        "outputId": "4d967758-4b23-491d-f696-ffca09e06661"
      },
      "execution_count": null,
      "outputs": [
        {
          "output_type": "stream",
          "name": "stdout",
          "text": [
            "<class 'pandas.core.frame.DataFrame'>\n",
            "Index: 948 entries, 0 to 999\n",
            "Data columns (total 12 columns):\n",
            " #   Column        Non-Null Count  Dtype \n",
            "---  ------        --------------  ----- \n",
            " 0   state         948 non-null    int64 \n",
            " 1   district      948 non-null    int64 \n",
            " 2   market        948 non-null    int64 \n",
            " 3   commodity     948 non-null    int64 \n",
            " 4   variety       948 non-null    object\n",
            " 5   arrival_date  948 non-null    object\n",
            " 6   min_price     948 non-null    int64 \n",
            " 7   max_price     948 non-null    int64 \n",
            " 8   modal_price   948 non-null    int64 \n",
            " 9   month_column  948 non-null    int64 \n",
            " 10  season_names  948 non-null    int64 \n",
            " 11  day           948 non-null    int64 \n",
            "dtypes: int64(10), object(2)\n",
            "memory usage: 128.6+ KB\n"
          ]
        }
      ]
    },
    {
      "cell_type": "code",
      "source": [
        "import matplotlib.pyplot as plt"
      ],
      "metadata": {
        "id": "iUkgNpGSX3Jv"
      },
      "execution_count": null,
      "outputs": []
    },
    {
      "cell_type": "code",
      "source": [
        "import seaborn as sns # Import seaborn for heatmap\n",
        "for col in data2.columns:\n",
        "    if data2[col].dtype == 'object':\n",
        "        try:\n",
        "            data2[col] = pd.to_numeric(data2[col])\n",
        "        except ValueError:\n",
        "            print(f\"Could not convert column {col} to numeric\")\n",
        "\n",
        "numeric_data = data2.select_dtypes(include=['number'])\n",
        "\n",
        "dataplot = sns.heatmap(numeric_data.corr(), cmap=\"YlGnBu\", annot=True)\n",
        "plt.show()"
      ],
      "metadata": {
        "colab": {
          "base_uri": "https://localhost:8080/",
          "height": 559
        },
        "id": "KRnpC-JMX9FA",
        "outputId": "0f4ac319-4800-4393-9158-b837f5a78d84"
      },
      "execution_count": null,
      "outputs": [
        {
          "output_type": "stream",
          "name": "stdout",
          "text": [
            "Could not convert column variety to numeric\n",
            "Could not convert column arrival_date to numeric\n"
          ]
        },
        {
          "output_type": "display_data",
          "data": {
            "text/plain": [
              "<Figure size 640x480 with 2 Axes>"
            ],
            "image/png": "[encoded data removed]"
          },
          "metadata": {}
        }
      ]
    },
    {
      "cell_type": "code",
      "source": [
        "data2.columns"
      ],
      "metadata": {
        "colab": {
          "base_uri": "https://localhost:8080/"
        },
        "id": "WFxaCAJBZpXq",
        "outputId": "83f6106f-7443-4d1b-9d8a-e6cee8bd29de"
      },
      "execution_count": null,
      "outputs": [
        {
          "output_type": "execute_result",
          "data": {
            "text/plain": [
              "Index(['state', 'district', 'market', 'commodity', 'variety', 'arrival_date',\n",
              "       'min_price', 'max_price', 'modal_price', 'month_column', 'season_names',\n",
              "       'day'],\n",
              "      dtype='object')"
            ]
          },
          "metadata": {},
          "execution_count": 129
        }
      ]
    },
    {
      "cell_type": "code",
      "source": [
        "\n",
        "print(data2.columns)\n",
        "\n",
        "if 'commodity_name' in data2.columns:\n",
        "    features = data2[['commodity_name', 'state','district','market','month_column','season_names','day']]\n",
        "    labels = data2['modulesbyfile']\n",
        "else:\n",
        "    print(\"Column 'commodity_name' not found in the DataFrame.\")\n"
      ],
      "metadata": {
        "colab": {
          "base_uri": "https://localhost:8080/"
        },
        "id": "0ZbXQVBYZ_p-",
        "outputId": "d5329f88-7ae3-44dd-ad6c-6be0456fb58a"
      },
      "execution_count": null,
      "outputs": [
        {
          "output_type": "stream",
          "name": "stdout",
          "text": [
            "Index(['state', 'district', 'market', 'commodity', 'variety', 'arrival_date',\n",
            "       'min_price', 'max_price', 'modal_price', 'month_column', 'season_names',\n",
            "       'day'],\n",
            "      dtype='object')\n",
            "Column 'commodity_name' not found in the DataFrame.\n"
          ]
        }
      ]
    },
    {
      "cell_type": "code",
      "source": [
        "if 'commodity' in data2.columns:\n",
        "    features = data2[['commodity', 'state','district','market','month_column','season_names','day']]\n",
        "    if 'modal_price' in data2.columns:\n",
        "        labels = data2['modal_price']\n",
        "    else:\n",
        "        print(\"Column 'modal_price' not found in the DataFrame.\")\n",
        "else:\n",
        "    print(\"Column 'commodity_name' not found in the DataFrame.\")\n",
        "    features = data2[['state','district','market','month_column','season_names','day']]\n",
        "    if 'modal_price' in data2.columns:\n",
        "        labels = data2['modal_price']\n",
        "    else:\n",
        "        print(\"Column 'modal_price' not found in the DataFrame.\")\n",
        "from sklearn.model_selection import train_test_split\n",
        "Xtrain,Xtest,Ytrain,Ytest = train_test_split(features,labels,test_size=0.2,random_state=2)"
      ],
      "metadata": {
        "id": "ffhHtbtbeFRT"
      },
      "execution_count": null,
      "outputs": []
    },
    {
      "cell_type": "code",
      "source": [
        "import pandas as pd\n",
        "import numpy as np\n",
        "import matplotlib.pyplot as plt\n",
        "import seaborn as sns\n",
        "from sklearn.metrics import classification_report\n",
        "from sklearn import metrics\n",
        "from sklearn import tree"
      ],
      "metadata": {
        "id": "PHqhreWfeOc-"
      },
      "execution_count": null,
      "outputs": []
    },
    {
      "cell_type": "code",
      "source": [
        "from sklearn.ensemble import RandomForestRegressor\n",
        "from sklearn.datasets import make_regression\n",
        "regr = RandomForestRegressor(max_depth=2, random_state=0)\n",
        "regr.fit(Xtrain, Ytrain)"
      ],
      "metadata": {
        "colab": {
          "base_uri": "https://localhost:8080/",
          "height": 74
        },
        "id": "B-rY7N_setA2",
        "outputId": "fd0b0cce-4f95-45e0-fc6e-9fcc806c35e2"
      },
      "execution_count": null,
      "outputs": [
        {
          "output_type": "execute_result",
          "data": {
            "text/plain": [
              "RandomForestRegressor(max_depth=2, random_state=0)"
            ],
            "text/html": [
              "<style>#sk-container-id-2 {color: black;}#sk-container-id-2 pre{padding: 0;}#sk-container-id-2 div.sk-toggleable {background-color: white;}#sk-container-id-2 label.sk-toggleable__label {cursor: pointer;display: block;width: 100%;margin-bottom: 0;padding: 0.3em;box-sizing: border-box;text-align: center;}#sk-container-id-2 label.sk-toggleable__label-arrow:before {content: \"▸\";float: left;margin-right: 0.25em;color: #696969;}#sk-container-id-2 label.sk-toggleable__label-arrow:hover:before {color: black;}#sk-container-id-2 div.sk-estimator:hover label.sk-toggleable__label-arrow:before {color: black;}#sk-container-id-2 div.sk-toggleable__content {max-height: 0;max-width: 0;overflow: hidden;text-align: left;background-color: #f0f8ff;}#sk-container-id-2 div.sk-toggleable__content pre {margin: 0.2em;color: black;border-radius: 0.25em;background-color: #f0f8ff;}#sk-container-id-2 input.sk-toggleable__control:checked~div.sk-toggleable__content {max-height: 200px;max-width: 100%;overflow: auto;}#sk-container-id-2 input.sk-toggleable__control:checked~label.sk-toggleable__label-arrow:before {content: \"▾\";}#sk-container-id-2 div.sk-estimator input.sk-toggleable__control:checked~label.sk-toggleable__label {background-color: #d4ebff;}#sk-container-id-2 div.sk-label input.sk-toggleable__control:checked~label.sk-toggleable__label {background-color: #d4ebff;}#sk-container-id-2 input.sk-hidden--visually {border: 0;clip: rect(1px 1px 1px 1px);clip: rect(1px, 1px, 1px, 1px);height: 1px;margin: -1px;overflow: hidden;padding: 0;position: absolute;width: 1px;}#sk-container-id-2 div.sk-estimator {font-family: monospace;background-color: #f0f8ff;border: 1px dotted black;border-radius: 0.25em;box-sizing: border-box;margin-bottom: 0.5em;}#sk-container-id-2 div.sk-estimator:hover {background-color: #d4ebff;}#sk-container-id-2 div.sk-parallel-item::after {content: \"\";width: 100%;border-bottom: 1px solid gray;flex-grow: 1;}#sk-container-id-2 div.sk-label:hover label.sk-toggleable__label {background-color: #d4ebff;}#sk-container-id-2 div.sk-serial::before {content: \"\";position: absolute;border-left: 1px solid gray;box-sizing: border-box;top: 0;bottom: 0;left: 50%;z-index: 0;}#sk-container-id-2 div.sk-serial {display: flex;flex-direction: column;align-items: center;background-color: white;padding-right: 0.2em;padding-left: 0.2em;position: relative;}#sk-container-id-2 div.sk-item {position: relative;z-index: 1;}#sk-container-id-2 div.sk-parallel {display: flex;align-items: stretch;justify-content: center;background-color: white;position: relative;}#sk-container-id-2 div.sk-item::before, #sk-container-id-2 div.sk-parallel-item::before {content: \"\";position: absolute;border-left: 1px solid gray;box-sizing: border-box;top: 0;bottom: 0;left: 50%;z-index: -1;}#sk-container-id-2 div.sk-parallel-item {display: flex;flex-direction: column;z-index: 1;position: relative;background-color: white;}#sk-container-id-2 div.sk-parallel-item:first-child::after {align-self: flex-end;width: 50%;}#sk-container-id-2 div.sk-parallel-item:last-child::after {align-self: flex-start;width: 50%;}#sk-container-id-2 div.sk-parallel-item:only-child::after {width: 0;}#sk-container-id-2 div.sk-dashed-wrapped {border: 1px dashed gray;margin: 0 0.4em 0.5em 0.4em;box-sizing: border-box;padding-bottom: 0.4em;background-color: white;}#sk-container-id-2 div.sk-label label {font-family: monospace;font-weight: bold;display: inline-block;line-height: 1.2em;}#sk-container-id-2 div.sk-label-container {text-align: center;}#sk-container-id-2 div.sk-container {/* jupyter's `normalize.less` sets `[hidden] { display: none; }` but bootstrap.min.css set `[hidden] { display: none !important; }` so we also need the `!important` here to be able to override the default hidden behavior on the sphinx rendered scikit-learn.org. See: https://github.com/scikit-learn/scikit-learn/issues/21755 */display: inline-block !important;position: relative;}#sk-container-id-2 div.sk-text-repr-fallback {display: none;}</style><div id=\"sk-container-id-2\" class=\"sk-top-container\"><div class=\"sk-text-repr-fallback\"><pre>RandomForestRegressor(max_depth=2, random_state=0)</pre><b>In a Jupyter environment, please rerun this cell to show the HTML representation or trust the notebook. <br />On GitHub, the HTML representation is unable to render, please try loading this page with nbviewer.org.</b></div><div class=\"sk-container\" hidden><div class=\"sk-item\"><div class=\"sk-estimator sk-toggleable\"><input class=\"sk-toggleable__control sk-hidden--visually\" id=\"sk-estimator-id-2\" type=\"checkbox\" checked><label for=\"sk-estimator-id-2\" class=\"sk-toggleable__label sk-toggleable__label-arrow\">RandomForestRegressor</label><div class=\"sk-toggleable__content\"><pre>RandomForestRegressor(max_depth=2, random_state=0)</pre></div></div></div></div></div>"
            ]
          },
          "metadata": {},
          "execution_count": 146
        }
      ]
    },
    {
      "cell_type": "code",
      "source": [
        "Xtest[0:1]"
      ],
      "metadata": {
        "colab": {
          "base_uri": "https://localhost:8080/",
          "height": 81
        },
        "id": "TAAfFP0NhGBt",
        "outputId": "0606c3ee-5621-42c8-947c-8ee092ff1304"
      },
      "execution_count": null,
      "outputs": [
        {
          "output_type": "execute_result",
          "data": {
            "text/plain": [
              "     commodity  state  district  market  month_column  season_names  day\n",
              "955         49     15        62     108             0             0    2"
            ],
            "text/html": [
              "\n",
              "  <div id=\"df-bc523c2a-3680-4735-93a4-2d47c7fc3b6f\" class=\"colab-df-container\">\n",
              "    <div>\n",
              "<style scoped>\n",
              "    .dataframe tbody tr th:only-of-type {\n",
              "        vertical-align: middle;\n",
              "    }\n",
              "\n",
              "    .dataframe tbody tr th {\n",
              "        vertical-align: top;\n",
              "    }\n",
              "\n",
              "    .dataframe thead th {\n",
              "        text-align: right;\n",
              "    }\n",
              "</style>\n",
              "<table border=\"1\" class=\"dataframe\">\n",
              "  <thead>\n",
              "    <tr style=\"text-align: right;\">\n",
              "      <th></th>\n",
              "      <th>commodity</th>\n",
              "      <th>state</th>\n",
              "      <th>district</th>\n",
              "      <th>market</th>\n",
              "      <th>month_column</th>\n",
              "      <th>season_names</th>\n",
              "      <th>day</th>\n",
              "    </tr>\n",
              "  </thead>\n",
              "  <tbody>\n",
              "    <tr>\n",
              "      <th>955</th>\n",
              "      <td>49</td>\n",
              "      <td>15</td>\n",
              "      <td>62</td>\n",
              "      <td>108</td>\n",
              "      <td>0</td>\n",
              "      <td>0</td>\n",
              "      <td>2</td>\n",
              "    </tr>\n",
              "  </tbody>\n",
              "</table>\n",
              "</div>\n",
              "    <div class=\"colab-df-buttons\">\n",
              "\n",
              "  <div class=\"colab-df-container\">\n",
              "    <button class=\"colab-df-convert\" onclick=\"convertToInteractive('df-bc523c2a-3680-4735-93a4-2d47c7fc3b6f')\"\n",
              "            title=\"Convert this dataframe to an interactive table.\"\n",
              "            style=\"display:none;\">\n",
              "\n",
              "  <svg xmlns=\"http://www.w3.org/2000/svg\" height=\"24px\" viewBox=\"0 -960 960 960\">\n",
              "    <path d=\"M120-120v-720h720v720H120Zm60-500h600v-160H180v160Zm220 220h160v-160H400v160Zm0 220h160v-160H400v160ZM180-400h160v-160H180v160Zm440 0h160v-160H620v160ZM180-180h160v-160H180v160Zm440 0h160v-160H620v160Z\"/>\n",
              "  </svg>\n",
              "    </button>\n",
              "\n",
              "  <style>\n",
              "    .colab-df-container {\n",
              "      display:flex;\n",
              "      gap: 12px;\n",
              "    }\n",
              "\n",
              "    .colab-df-convert {\n",
              "      background-color: #E8F0FE;\n",
              "      border: none;\n",
              "      border-radius: 50%;\n",
              "      cursor: pointer;\n",
              "      display: none;\n",
              "      fill: #1967D2;\n",
              "      height: 32px;\n",
              "      padding: 0 0 0 0;\n",
              "      width: 32px;\n",
              "    }\n",
              "\n",
              "    .colab-df-convert:hover {\n",
              "      background-color: #E2EBFA;\n",
              "      box-shadow: 0px 1px 2px rgba(60, 64, 67, 0.3), 0px 1px 3px 1px rgba(60, 64, 67, 0.15);\n",
              "      fill: #174EA6;\n",
              "    }\n",
              "\n",
              "    .colab-df-buttons div {\n",
              "      margin-bottom: 4px;\n",
              "    }\n",
              "\n",
              "    [theme=dark] .colab-df-convert {\n",
              "      background-color: #3B4455;\n",
              "      fill: #D2E3FC;\n",
              "    }\n",
              "\n",
              "    [theme=dark] .colab-df-convert:hover {\n",
              "      background-color: #434B5C;\n",
              "      box-shadow: 0px 1px 3px 1px rgba(0, 0, 0, 0.15);\n",
              "      filter: drop-shadow(0px 1px 2px rgba(0, 0, 0, 0.3));\n",
              "      fill: #FFFFFF;\n",
              "    }\n",
              "  </style>\n",
              "\n",
              "    <script>\n",
              "      const buttonEl =\n",
              "        document.querySelector('#df-bc523c2a-3680-4735-93a4-2d47c7fc3b6f button.colab-df-convert');\n",
              "      buttonEl.style.display =\n",
              "        google.colab.kernel.accessAllowed ? 'block' : 'none';\n",
              "\n",
              "      async function convertToInteractive(key) {\n",
              "        const element = document.querySelector('#df-bc523c2a-3680-4735-93a4-2d47c7fc3b6f');\n",
              "        const dataTable =\n",
              "          await google.colab.kernel.invokeFunction('convertToInteractive',\n",
              "                                                    [key], {});\n",
              "        if (!dataTable) return;\n",
              "\n",
              "        const docLinkHtml = 'Like what you see? Visit the ' +\n",
              "          '<a target=\"_blank\" href=https://colab.research.google.com/notebooks/data_table.ipynb>data table notebook</a>'\n",
              "          + ' to learn more about interactive tables.';\n",
              "        element.innerHTML = '';\n",
              "        dataTable['output_type'] = 'display_data';\n",
              "        await google.colab.output.renderOutput(dataTable, element);\n",
              "        const docLink = document.createElement('div');\n",
              "        docLink.innerHTML = docLinkHtml;\n",
              "        element.appendChild(docLink);\n",
              "      }\n",
              "    </script>\n",
              "  </div>\n",
              "\n",
              "\n",
              "    </div>\n",
              "  </div>\n"
            ],
            "application/vnd.google.colaboratory.intrinsic+json": {
              "type": "dataframe",
              "summary": "{\n  \"name\": \"Xtest[0:1]\",\n  \"rows\": 1,\n  \"fields\": [\n    {\n      \"column\": \"commodity\",\n      \"properties\": {\n        \"dtype\": \"number\",\n        \"std\": null,\n        \"min\": 49,\n        \"max\": 49,\n        \"num_unique_values\": 1,\n        \"samples\": [\n          49\n        ],\n        \"semantic_type\": \"\",\n        \"description\": \"\"\n      }\n    },\n    {\n      \"column\": \"state\",\n      \"properties\": {\n        \"dtype\": \"number\",\n        \"std\": null,\n        \"min\": 15,\n        \"max\": 15,\n        \"num_unique_values\": 1,\n        \"samples\": [\n          15\n        ],\n        \"semantic_type\": \"\",\n        \"description\": \"\"\n      }\n    },\n    {\n      \"column\": \"district\",\n      \"properties\": {\n        \"dtype\": \"number\",\n        \"std\": null,\n        \"min\": 62,\n        \"max\": 62,\n        \"num_unique_values\": 1,\n        \"samples\": [\n          62\n        ],\n        \"semantic_type\": \"\",\n        \"description\": \"\"\n      }\n    },\n    {\n      \"column\": \"market\",\n      \"properties\": {\n        \"dtype\": \"number\",\n        \"std\": null,\n        \"min\": 108,\n        \"max\": 108,\n        \"num_unique_values\": 1,\n        \"samples\": [\n          108\n        ],\n        \"semantic_type\": \"\",\n        \"description\": \"\"\n      }\n    },\n    {\n      \"column\": \"month_column\",\n      \"properties\": {\n        \"dtype\": \"number\",\n        \"std\": null,\n        \"min\": 0,\n        \"max\": 0,\n        \"num_unique_values\": 1,\n        \"samples\": [\n          0\n        ],\n        \"semantic_type\": \"\",\n        \"description\": \"\"\n      }\n    },\n    {\n      \"column\": \"season_names\",\n      \"properties\": {\n        \"dtype\": \"number\",\n        \"std\": null,\n        \"min\": 0,\n        \"max\": 0,\n        \"num_unique_values\": 1,\n        \"samples\": [\n          0\n        ],\n        \"semantic_type\": \"\",\n        \"description\": \"\"\n      }\n    },\n    {\n      \"column\": \"day\",\n      \"properties\": {\n        \"dtype\": \"number\",\n        \"std\": null,\n        \"min\": 2,\n        \"max\": 2,\n        \"num_unique_values\": 1,\n        \"samples\": [\n          2\n        ],\n        \"semantic_type\": \"\",\n        \"description\": \"\"\n      }\n    }\n  ]\n}"
            }
          },
          "metadata": {},
          "execution_count": 147
        }
      ]
    },
    {
      "cell_type": "code",
      "source": [
        "y_pred= regr.predict(Xtest)\n"
      ],
      "metadata": {
        "id": "cjKxNGQLhHql"
      },
      "execution_count": null,
      "outputs": []
    },
    {
      "cell_type": "code",
      "source": [
        "from sklearn.metrics import r2_score\n",
        "r2_score(Ytest,y_pred)"
      ],
      "metadata": {
        "colab": {
          "base_uri": "https://localhost:8080/"
        },
        "id": "h5lLHgjMhREb",
        "outputId": "f06b4d3a-3dac-4e82-95c6-5d8ae468a0b2"
      },
      "execution_count": null,
      "outputs": [
        {
          "output_type": "execute_result",
          "data": {
            "text/plain": [
              "0.13557195910618536"
            ]
          },
          "metadata": {},
          "execution_count": 150
        }
      ]
    },
    {
      "cell_type": "code",
      "source": [
        "y_pred"
      ],
      "metadata": {
        "colab": {
          "base_uri": "https://localhost:8080/"
        },
        "id": "YbIa8ezFhcvN",
        "outputId": "56ceabed-5e27-4dbd-fa38-135127b7e52c"
      },
      "execution_count": null,
      "outputs": [
        {
          "output_type": "execute_result",
          "data": {
            "text/plain": [
              "array([2147.9807458 , 2734.16450058, 2702.79072978, 2281.73319502,\n",
              "       2252.48997566, 2517.91243586, 2618.87212525, 2781.08984815,\n",
              "       2022.57720321, 2879.61114013, 2368.82894898, 2405.05082197,\n",
              "       2485.32378301, 2581.5268256 , 2660.11565986, 1979.95891768,\n",
              "       2440.20793499, 2119.53839859, 2324.5673551 , 2710.26232746,\n",
              "       2868.44377975, 2513.19633513, 2879.61114013, 2731.19862288,\n",
              "       2269.13714997, 3111.06324371, 2800.39113223, 2403.32967314,\n",
              "       2251.69610096, 1975.82500841, 2047.150653  , 2930.25047703,\n",
              "       2403.42958048, 2393.83991816, 2799.77500063, 2855.67276905,\n",
              "       2944.21454425, 3081.93683394, 3018.91763335, 2539.57521551,\n",
              "       2269.13714997, 2018.54120775, 2492.62245901, 2491.49974045,\n",
              "       2463.3169516 , 2293.09494071, 1946.42168846, 2631.33460566,\n",
              "       2506.10087175, 2187.58775852, 2276.2739246 , 2342.42849438,\n",
              "       2634.96984844, 2484.73744509, 2690.8937656 , 2121.2832595 ,\n",
              "       2154.8283156 , 2488.330339  , 2734.66586964, 2492.4192464 ,\n",
              "       2484.73744509, 2513.19633513, 2309.93517201, 2934.56783211,\n",
              "       2913.79074338, 1969.50185537, 2501.0358166 , 2614.50770174,\n",
              "       3018.91763335, 2885.43323576, 2844.60512457, 2463.04085041,\n",
              "       2913.79074338, 2648.60272297, 2735.82152568, 2215.51912189,\n",
              "       2481.19356437, 2630.0597576 , 2670.10289927, 2627.82563424,\n",
              "       2027.98411674, 2484.73744509, 2501.10134969, 2119.53839859,\n",
              "       3010.91155531, 2748.59253637, 2295.19318528, 2518.18828653,\n",
              "       2557.77698339, 2403.32967314, 2119.71887973, 2927.43157373,\n",
              "       2409.78331044, 2647.49638483, 2734.66586964, 2921.79682142,\n",
              "       2698.02748659, 2894.10246899, 2518.18828653, 2726.8959417 ,\n",
              "       2879.61114013, 2410.22222973, 2898.20424645, 2240.88617764,\n",
              "       2443.93563669, 2793.2543576 , 2266.40061202, 2793.53340623,\n",
              "       2351.23511204, 2929.10332587, 2667.91500907, 2543.56603525,\n",
              "       2611.62391439, 2269.13714997, 2900.50448688, 2491.67283595,\n",
              "       2258.26285609, 1946.42168846, 1975.82500841, 3018.91763335,\n",
              "       3111.06324371, 2935.88217571, 2446.0703537 , 2435.3989961 ,\n",
              "       2484.73744509, 2469.5767608 , 2506.10087175, 2530.79502456,\n",
              "       2564.91375802, 2335.29171975, 2934.56783211, 2533.66107998,\n",
              "       2061.52134596, 2721.95677336, 2670.73853469, 2258.26285609,\n",
              "       3010.91155531, 2670.73853469, 2855.67276905, 3031.68864404,\n",
              "       2281.73319502, 2082.95166274, 2879.61114013, 2258.26285609,\n",
              "       2670.73853469, 2564.91375802, 2726.8959417 , 2393.83991816,\n",
              "       2309.46621829, 2633.46451622, 2743.96963357, 2673.00227361,\n",
              "       2934.56783211, 2493.32986105, 2467.05875196, 2670.70512229,\n",
              "       2627.82563424, 2618.81002405, 2415.31258878, 2133.09274252,\n",
              "       2354.86222652, 2488.330339  , 2498.17357458, 2737.90016564,\n",
              "       2484.40427707, 2432.76297756, 2107.57145093, 2276.2739246 ,\n",
              "       2103.59500631, 2495.46342174, 2462.16883491, 2258.26285609,\n",
              "       2680.90868552, 2918.29753962, 2794.46624833, 2579.20509085,\n",
              "       3058.74127058, 2103.59500631, 1988.94487508, 2333.09600221,\n",
              "       2888.46823292, 2927.43157373, 2416.31845223, 2463.96035635,\n",
              "       2418.52744289, 2017.57554952, 2422.44936341, 2338.31818375,\n",
              "       2484.40427707, 2435.3989961 ])"
            ]
          },
          "metadata": {},
          "execution_count": 151
        }
      ]
    },
    {
      "cell_type": "code",
      "source": [
        "data2.columns"
      ],
      "metadata": {
        "colab": {
          "base_uri": "https://localhost:8080/"
        },
        "id": "7Mu0xtwLhj0t",
        "outputId": "0c371ac5-1c6b-404a-915e-9870baf2c507"
      },
      "execution_count": null,
      "outputs": [
        {
          "output_type": "execute_result",
          "data": {
            "text/plain": [
              "Index(['state', 'district', 'market', 'commodity', 'variety', 'arrival_date',\n",
              "       'min_price', 'max_price', 'modal_price', 'month_column', 'season_names',\n",
              "       'day'],\n",
              "      dtype='object')"
            ]
          },
          "metadata": {},
          "execution_count": 152
        }
      ]
    },
    {
      "cell_type": "code",
      "source": [
        "Xtest[0:1]"
      ],
      "metadata": {
        "colab": {
          "base_uri": "https://localhost:8080/",
          "height": 81
        },
        "id": "hlqQExYYh2G8",
        "outputId": "e1e45436-87c3-447e-ee8b-5889a869432c"
      },
      "execution_count": null,
      "outputs": [
        {
          "output_type": "execute_result",
          "data": {
            "text/plain": [
              "     commodity  state  district  market  month_column  season_names  day\n",
              "955         49     15        62     108             0             0    2"
            ],
            "text/html": [
              "\n",
              "  <div id=\"df-3d5a1ee6-8e29-4258-8997-633bc6d46660\" class=\"colab-df-container\">\n",
              "    <div>\n",
              "<style scoped>\n",
              "    .dataframe tbody tr th:only-of-type {\n",
              "        vertical-align: middle;\n",
              "    }\n",
              "\n",
              "    .dataframe tbody tr th {\n",
              "        vertical-align: top;\n",
              "    }\n",
              "\n",
              "    .dataframe thead th {\n",
              "        text-align: right;\n",
              "    }\n",
              "</style>\n",
              "<table border=\"1\" class=\"dataframe\">\n",
              "  <thead>\n",
              "    <tr style=\"text-align: right;\">\n",
              "      <th></th>\n",
              "      <th>commodity</th>\n",
              "      <th>state</th>\n",
              "      <th>district</th>\n",
              "      <th>market</th>\n",
              "      <th>month_column</th>\n",
              "      <th>season_names</th>\n",
              "      <th>day</th>\n",
              "    </tr>\n",
              "  </thead>\n",
              "  <tbody>\n",
              "    <tr>\n",
              "      <th>955</th>\n",
              "      <td>49</td>\n",
              "      <td>15</td>\n",
              "      <td>62</td>\n",
              "      <td>108</td>\n",
              "      <td>0</td>\n",
              "      <td>0</td>\n",
              "      <td>2</td>\n",
              "    </tr>\n",
              "  </tbody>\n",
              "</table>\n",
              "</div>\n",
              "    <div class=\"colab-df-buttons\">\n",
              "\n",
              "  <div class=\"colab-df-container\">\n",
              "    <button class=\"colab-df-convert\" onclick=\"convertToInteractive('df-3d5a1ee6-8e29-4258-8997-633bc6d46660')\"\n",
              "            title=\"Convert this dataframe to an interactive table.\"\n",
              "            style=\"display:none;\">\n",
              "\n",
              "  <svg xmlns=\"http://www.w3.org/2000/svg\" height=\"24px\" viewBox=\"0 -960 960 960\">\n",
              "    <path d=\"M120-120v-720h720v720H120Zm60-500h600v-160H180v160Zm220 220h160v-160H400v160Zm0 220h160v-160H400v160ZM180-400h160v-160H180v160Zm440 0h160v-160H620v160ZM180-180h160v-160H180v160Zm440 0h160v-160H620v160Z\"/>\n",
              "  </svg>\n",
              "    </button>\n",
              "\n",
              "  <style>\n",
              "    .colab-df-container {\n",
              "      display:flex;\n",
              "      gap: 12px;\n",
              "    }\n",
              "\n",
              "    .colab-df-convert {\n",
              "      background-color: #E8F0FE;\n",
              "      border: none;\n",
              "      border-radius: 50%;\n",
              "      cursor: pointer;\n",
              "      display: none;\n",
              "      fill: #1967D2;\n",
              "      height: 32px;\n",
              "      padding: 0 0 0 0;\n",
              "      width: 32px;\n",
              "    }\n",
              "\n",
              "    .colab-df-convert:hover {\n",
              "      background-color: #E2EBFA;\n",
              "      box-shadow: 0px 1px 2px rgba(60, 64, 67, 0.3), 0px 1px 3px 1px rgba(60, 64, 67, 0.15);\n",
              "      fill: #174EA6;\n",
              "    }\n",
              "\n",
              "    .colab-df-buttons div {\n",
              "      margin-bottom: 4px;\n",
              "    }\n",
              "\n",
              "    [theme=dark] .colab-df-convert {\n",
              "      background-color: #3B4455;\n",
              "      fill: #D2E3FC;\n",
              "    }\n",
              "\n",
              "    [theme=dark] .colab-df-convert:hover {\n",
              "      background-color: #434B5C;\n",
              "      box-shadow: 0px 1px 3px 1px rgba(0, 0, 0, 0.15);\n",
              "      filter: drop-shadow(0px 1px 2px rgba(0, 0, 0, 0.3));\n",
              "      fill: #FFFFFF;\n",
              "    }\n",
              "  </style>\n",
              "\n",
              "    <script>\n",
              "      const buttonEl =\n",
              "        document.querySelector('#df-3d5a1ee6-8e29-4258-8997-633bc6d46660 button.colab-df-convert');\n",
              "      buttonEl.style.display =\n",
              "        google.colab.kernel.accessAllowed ? 'block' : 'none';\n",
              "\n",
              "      async function convertToInteractive(key) {\n",
              "        const element = document.querySelector('#df-3d5a1ee6-8e29-4258-8997-633bc6d46660');\n",
              "        const dataTable =\n",
              "          await google.colab.kernel.invokeFunction('convertToInteractive',\n",
              "                                                    [key], {});\n",
              "        if (!dataTable) return;\n",
              "\n",
              "        const docLinkHtml = 'Like what you see? Visit the ' +\n",
              "          '<a target=\"_blank\" href=https://colab.research.google.com/notebooks/data_table.ipynb>data table notebook</a>'\n",
              "          + ' to learn more about interactive tables.';\n",
              "        element.innerHTML = '';\n",
              "        dataTable['output_type'] = 'display_data';\n",
              "        await google.colab.output.renderOutput(dataTable, element);\n",
              "        const docLink = document.createElement('div');\n",
              "        docLink.innerHTML = docLinkHtml;\n",
              "        element.appendChild(docLink);\n",
              "      }\n",
              "    </script>\n",
              "  </div>\n",
              "\n",
              "\n",
              "    </div>\n",
              "  </div>\n"
            ],
            "application/vnd.google.colaboratory.intrinsic+json": {
              "type": "dataframe",
              "summary": "{\n  \"name\": \"Xtest[0:1]\",\n  \"rows\": 1,\n  \"fields\": [\n    {\n      \"column\": \"commodity\",\n      \"properties\": {\n        \"dtype\": \"number\",\n        \"std\": null,\n        \"min\": 49,\n        \"max\": 49,\n        \"num_unique_values\": 1,\n        \"samples\": [\n          49\n        ],\n        \"semantic_type\": \"\",\n        \"description\": \"\"\n      }\n    },\n    {\n      \"column\": \"state\",\n      \"properties\": {\n        \"dtype\": \"number\",\n        \"std\": null,\n        \"min\": 15,\n        \"max\": 15,\n        \"num_unique_values\": 1,\n        \"samples\": [\n          15\n        ],\n        \"semantic_type\": \"\",\n        \"description\": \"\"\n      }\n    },\n    {\n      \"column\": \"district\",\n      \"properties\": {\n        \"dtype\": \"number\",\n        \"std\": null,\n        \"min\": 62,\n        \"max\": 62,\n        \"num_unique_values\": 1,\n        \"samples\": [\n          62\n        ],\n        \"semantic_type\": \"\",\n        \"description\": \"\"\n      }\n    },\n    {\n      \"column\": \"market\",\n      \"properties\": {\n        \"dtype\": \"number\",\n        \"std\": null,\n        \"min\": 108,\n        \"max\": 108,\n        \"num_unique_values\": 1,\n        \"samples\": [\n          108\n        ],\n        \"semantic_type\": \"\",\n        \"description\": \"\"\n      }\n    },\n    {\n      \"column\": \"month_column\",\n      \"properties\": {\n        \"dtype\": \"number\",\n        \"std\": null,\n        \"min\": 0,\n        \"max\": 0,\n        \"num_unique_values\": 1,\n        \"samples\": [\n          0\n        ],\n        \"semantic_type\": \"\",\n        \"description\": \"\"\n      }\n    },\n    {\n      \"column\": \"season_names\",\n      \"properties\": {\n        \"dtype\": \"number\",\n        \"std\": null,\n        \"min\": 0,\n        \"max\": 0,\n        \"num_unique_values\": 1,\n        \"samples\": [\n          0\n        ],\n        \"semantic_type\": \"\",\n        \"description\": \"\"\n      }\n    },\n    {\n      \"column\": \"day\",\n      \"properties\": {\n        \"dtype\": \"number\",\n        \"std\": null,\n        \"min\": 2,\n        \"max\": 2,\n        \"num_unique_values\": 1,\n        \"samples\": [\n          2\n        ],\n        \"semantic_type\": \"\",\n        \"description\": \"\"\n      }\n    }\n  ]\n}"
            }
          },
          "metadata": {},
          "execution_count": 153
        }
      ]
    },
    {
      "cell_type": "code",
      "source": [
        "user_input = [[94,6,36,85,0,0,2]]\n",
        "regr.predict(user_input)"
      ],
      "metadata": {
        "colab": {
          "base_uri": "https://localhost:8080/"
        },
        "id": "2NFSrNZkh7ic",
        "outputId": "37e21573-89db-4e31-d55b-5bcb0844c6ce"
      },
      "execution_count": null,
      "outputs": [
        {
          "output_type": "stream",
          "name": "stderr",
          "text": [
            "/usr/local/lib/python3.10/dist-packages/sklearn/base.py:465: UserWarning:\n",
            "\n",
            "X does not have valid feature names, but RandomForestRegressor was fitted with feature names\n",
            "\n"
          ]
        },
        {
          "output_type": "execute_result",
          "data": {
            "text/plain": [
              "array([2914.10040492])"
            ]
          },
          "metadata": {},
          "execution_count": 158
        }
      ]
    },
    {
      "cell_type": "code",
      "source": [
        "user_input = [[0,0,0,0,0,0,0]]\n",
        "regr.predict(user_input)"
      ],
      "metadata": {
        "colab": {
          "base_uri": "https://localhost:8080/"
        },
        "id": "szt9nHoJifO_",
        "outputId": "41cb6832-2365-496d-e7ac-6069beb899cb"
      },
      "execution_count": null,
      "outputs": [
        {
          "output_type": "stream",
          "name": "stderr",
          "text": [
            "/usr/local/lib/python3.10/dist-packages/sklearn/base.py:465: UserWarning:\n",
            "\n",
            "X does not have valid feature names, but RandomForestRegressor was fitted with feature names\n",
            "\n"
          ]
        },
        {
          "output_type": "execute_result",
          "data": {
            "text/plain": [
              "array([2726.8959417])"
            ]
          },
          "metadata": {},
          "execution_count": 157
        }
      ]
    },
    {
      "cell_type": "code",
      "source": [
        "user_input = [[37,28,12,13,11,2,4]]\n",
        "regr.predict(user_input)"
      ],
      "metadata": {
        "colab": {
          "base_uri": "https://localhost:8080/"
        },
        "id": "1fRtcviesqwu",
        "outputId": "9dd40647-8b5f-44c3-c5f1-a64f1d7d2c39"
      },
      "execution_count": null,
      "outputs": [
        {
          "output_type": "stream",
          "name": "stderr",
          "text": [
            "/usr/local/lib/python3.10/dist-packages/sklearn/base.py:465: UserWarning:\n",
            "\n",
            "X does not have valid feature names, but RandomForestRegressor was fitted with feature names\n",
            "\n"
          ]
        },
        {
          "output_type": "execute_result",
          "data": {
            "text/plain": [
              "array([2047.94452771])"
            ]
          },
          "metadata": {},
          "execution_count": 161
        }
      ]
    },
    {
      "cell_type": "code",
      "source": [
        "user_input = [[94,6,36,85,0,0,2]]\n",
        "regr.predict(user_input)"
      ],
      "metadata": {
        "colab": {
          "base_uri": "https://localhost:8080/"
        },
        "id": "SUDiZu7ItIyX",
        "outputId": "dccf6438-d844-4004-8790-973036480d8d"
      },
      "execution_count": null,
      "outputs": [
        {
          "output_type": "stream",
          "name": "stderr",
          "text": [
            "/usr/local/lib/python3.10/dist-packages/sklearn/base.py:465: UserWarning:\n",
            "\n",
            "X does not have valid feature names, but RandomForestRegressor was fitted with feature names\n",
            "\n"
          ]
        },
        {
          "output_type": "execute_result",
          "data": {
            "text/plain": [
              "array([2914.10040492])"
            ]
          },
          "metadata": {},
          "execution_count": 163
        }
      ]
    }
  ]
}